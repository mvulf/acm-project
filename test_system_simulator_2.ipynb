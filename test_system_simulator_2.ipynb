{
 "cells": [
  {
   "cell_type": "code",
   "execution_count": 4,
   "metadata": {},
   "outputs": [],
   "source": [
    "from regelum.system import System\n",
    "from regelum.simulator import SciPy\n",
    "from regelum.simulator import CasADi\n",
    "import numpy as np\n",
    "\n",
    "\n",
    "class KinematicPoint(System):\n",
    "    _name = \"kinematic-point\"\n",
    "    _system_type = \"diff_eqn\"\n",
    "    _dim_state = 2\n",
    "    _dim_inputs = 2\n",
    "    _dim_observation = 2\n",
    "    _observation_naming = _state_naming = [\"x\", \"y\"]\n",
    "    _inputs_naming = [\"v_x\", \"v_y\"]\n",
    "    _action_bounds = [[-10.0, 10.0], [-10.0, 10.0]]\n",
    "\n",
    "    def _compute_state_dynamics(self, time, state, inputs):\n",
    "        return inputs  # The velocity inputs directly define the rate of change of position.\n",
    "\n",
    "def get_action(state):\n",
    "    return (\n",
    "        -state\n",
    "    )  # Stabilizing action: control input is the negative of the system state.\n",
    "\n",
    "# Define the initial state (initial position of the kinematic point).\n",
    "initial_state = np.array([[2.0, 2.0]])  # Start at position (2, 2)\n",
    "\n",
    "# Initialize the kinematic point system.\n",
    "kinematic_point = KinematicPoint()\n",
    "\n",
    "# Instantiate a simulator for the kinematic point system.\n",
    "simulator =  CasADi(  #SciPy(\n",
    "    system=kinematic_point, state_init=initial_state, time_final=4, max_step=0.1\n",
    ")"
   ]
  },
  {
   "cell_type": "code",
   "execution_count": 1,
   "metadata": {},
   "outputs": [
    {
     "ename": "TypeError",
     "evalue": "RCTypeHandler.max() got multiple values for argument 'rc_type'",
     "output_type": "error",
     "traceback": [
      "\u001b[0;31m---------------------------------------------------------------------------\u001b[0m",
      "\u001b[0;31mTypeError\u001b[0m                                 Traceback (most recent call last)",
      "Cell \u001b[0;32mIn[1], line 17\u001b[0m\n\u001b[1;32m     13\u001b[0m sampling_time \u001b[38;5;241m=\u001b[39m \u001b[38;5;241m1e-3\u001b[39m\n\u001b[1;32m     15\u001b[0m system \u001b[38;5;241m=\u001b[39m callback\u001b[38;5;241m.\u001b[39mdetach(HydraulicSystem)() \u001b[38;5;66;03m# HydraulicSystem()\u001b[39;00m\n\u001b[0;32m---> 17\u001b[0m simulator \u001b[38;5;241m=\u001b[39m \u001b[43mCasADi\u001b[49m\u001b[43m(\u001b[49m\u001b[43m \u001b[49m\u001b[38;5;66;43;03m#SciPy(\u001b[39;49;00m\n\u001b[1;32m     18\u001b[0m \u001b[43m    \u001b[49m\u001b[43msystem\u001b[49m\u001b[38;5;241;43m=\u001b[39;49m\u001b[43msystem\u001b[49m\u001b[43m,\u001b[49m\n\u001b[1;32m     19\u001b[0m \u001b[43m    \u001b[49m\u001b[43mstate_init\u001b[49m\u001b[43m \u001b[49m\u001b[38;5;241;43m=\u001b[39;49m\u001b[43m \u001b[49m\u001b[43mnp\u001b[49m\u001b[38;5;241;43m.\u001b[39;49m\u001b[43marray\u001b[49m\u001b[43m(\u001b[49m\u001b[43m[\u001b[49m\u001b[38;5;241;43m1e3\u001b[39;49m\u001b[43m,\u001b[49m\u001b[43m \u001b[49m\u001b[38;5;241;43m0\u001b[39;49m\u001b[43m]\u001b[49m\u001b[43m)\u001b[49m\u001b[43m,\u001b[49m\n\u001b[1;32m     20\u001b[0m \u001b[43m    \u001b[49m\u001b[43mtime_final\u001b[49m\u001b[43m \u001b[49m\u001b[38;5;241;43m=\u001b[39;49m\u001b[43m \u001b[49m\u001b[38;5;241;43m10e-3\u001b[39;49m\u001b[43m,\u001b[49m\n\u001b[1;32m     21\u001b[0m \u001b[43m)\u001b[49m\n\u001b[1;32m     23\u001b[0m scenario \u001b[38;5;241m=\u001b[39m Scenario(\n\u001b[1;32m     24\u001b[0m     policy\u001b[38;5;241m=\u001b[39mPDController(\n\u001b[1;32m     25\u001b[0m         system\u001b[38;5;241m=\u001b[39msystem,\n\u001b[0;32m   (...)\u001b[0m\n\u001b[1;32m     31\u001b[0m     N_iterations\u001b[38;5;241m=\u001b[39m\u001b[38;5;241m1\u001b[39m,\n\u001b[1;32m     32\u001b[0m )\n\u001b[1;32m     34\u001b[0m scenario\u001b[38;5;241m.\u001b[39mrun()\n",
      "File \u001b[0;32m~/.pyenv/versions/3.11.8/lib/python3.11/site-packages/regelum/__internal/base.py:115\u001b[0m, in \u001b[0;36mRegelumType.__new__.<locals>.pre_init\u001b[0;34m(self, _tracked, original_init, *args, **kwargs)\u001b[0m\n\u001b[1;32m    113\u001b[0m             composed\u001b[38;5;241m.\u001b[39mregister(attachee\u001b[38;5;241m=\u001b[39mx, launch\u001b[38;5;241m=\u001b[39m\u001b[38;5;28;01mTrue\u001b[39;00m)\n\u001b[1;32m    114\u001b[0m \u001b[38;5;28mself\u001b[39m\u001b[38;5;241m.\u001b[39m_callbacks_registered \u001b[38;5;241m=\u001b[39m \u001b[38;5;28;01mTrue\u001b[39;00m\n\u001b[0;32m--> 115\u001b[0m \u001b[38;5;28;01mreturn\u001b[39;00m \u001b[43moriginal_init\u001b[49m\u001b[43m(\u001b[49m\u001b[38;5;28;43mself\u001b[39;49m\u001b[43m,\u001b[49m\u001b[43m \u001b[49m\u001b[38;5;241;43m*\u001b[39;49m\u001b[43margs\u001b[49m\u001b[43m,\u001b[49m\u001b[43m \u001b[49m\u001b[38;5;241;43m*\u001b[39;49m\u001b[38;5;241;43m*\u001b[39;49m\u001b[43mkwargs\u001b[49m\u001b[43m)\u001b[49m\n",
      "File \u001b[0;32m~/.pyenv/versions/3.11.8/lib/python3.11/site-packages/regelum/simulator.py:102\u001b[0m, in \u001b[0;36mSimulator.__init__\u001b[0;34m(self, system, state_init, action_init, time_final, max_step, first_step, atol, rtol)\u001b[0m\n\u001b[1;32m     99\u001b[0m \u001b[38;5;28mself\u001b[39m\u001b[38;5;241m.\u001b[39mfirst_step \u001b[38;5;241m=\u001b[39m first_step\n\u001b[1;32m    101\u001b[0m \u001b[38;5;28;01mif\u001b[39;00m \u001b[38;5;28mself\u001b[39m\u001b[38;5;241m.\u001b[39msystem\u001b[38;5;241m.\u001b[39msystem_type \u001b[38;5;241m==\u001b[39m \u001b[38;5;124m\"\u001b[39m\u001b[38;5;124mdiff_eqn\u001b[39m\u001b[38;5;124m\"\u001b[39m:\n\u001b[0;32m--> 102\u001b[0m     \u001b[38;5;28mself\u001b[39m\u001b[38;5;241m.\u001b[39mODE_solver \u001b[38;5;241m=\u001b[39m \u001b[38;5;28;43mself\u001b[39;49m\u001b[38;5;241;43m.\u001b[39;49m\u001b[43minitialize_ode_solver\u001b[49m\u001b[43m(\u001b[49m\u001b[43m)\u001b[49m\n",
      "File \u001b[0;32m~/.pyenv/versions/3.11.8/lib/python3.11/site-packages/regelum/simulator.py:231\u001b[0m, in \u001b[0;36mCasADi.initialize_ode_solver\u001b[0;34m(self)\u001b[0m\n\u001b[1;32m    230\u001b[0m \u001b[38;5;28;01mdef\u001b[39;00m \u001b[38;5;21minitialize_ode_solver\u001b[39m(\u001b[38;5;28mself\u001b[39m):\n\u001b[0;32m--> 231\u001b[0m     \u001b[38;5;28mself\u001b[39m\u001b[38;5;241m.\u001b[39mintegrator \u001b[38;5;241m=\u001b[39m \u001b[38;5;28;43mself\u001b[39;49m\u001b[38;5;241;43m.\u001b[39;49m\u001b[43mcreate_CasADi_integrator\u001b[49m\u001b[43m(\u001b[49m\u001b[38;5;28;43mself\u001b[39;49m\u001b[38;5;241;43m.\u001b[39;49m\u001b[43mmax_step\u001b[49m\u001b[43m)\u001b[49m\n\u001b[1;32m    232\u001b[0m     \u001b[38;5;28;01massert\u001b[39;00m \u001b[38;5;28mself\u001b[39m\u001b[38;5;241m.\u001b[39mtime_final \u001b[38;5;129;01mis\u001b[39;00m \u001b[38;5;129;01mnot\u001b[39;00m \u001b[38;5;28;01mNone\u001b[39;00m \u001b[38;5;129;01mand\u001b[39;00m \u001b[38;5;28mself\u001b[39m\u001b[38;5;241m.\u001b[39mmax_step \u001b[38;5;129;01mis\u001b[39;00m \u001b[38;5;129;01mnot\u001b[39;00m \u001b[38;5;28;01mNone\u001b[39;00m, (\n\u001b[1;32m    233\u001b[0m         \u001b[38;5;124m\"\u001b[39m\u001b[38;5;124mMust specify time_final and max_step\u001b[39m\u001b[38;5;124m\"\u001b[39m\n\u001b[1;32m    234\u001b[0m         \u001b[38;5;241m+\u001b[39m \u001b[38;5;124m\"\u001b[39m\u001b[38;5;124m in order to initialize CasADi solver\u001b[39m\u001b[38;5;124m\"\u001b[39m\n\u001b[1;32m    235\u001b[0m     )\n\u001b[1;32m    236\u001b[0m     ODE_solver \u001b[38;5;241m=\u001b[39m \u001b[38;5;28mself\u001b[39m\u001b[38;5;241m.\u001b[39mCasADiSolver(\u001b[38;5;28mself\u001b[39m)\n",
      "File \u001b[0;32m~/.pyenv/versions/3.11.8/lib/python3.11/site-packages/regelum/simulator.py:254\u001b[0m, in \u001b[0;36mCasADi.create_CasADi_integrator\u001b[0;34m(self, max_step)\u001b[0m\n\u001b[1;32m    251\u001b[0m action_symbolic \u001b[38;5;241m=\u001b[39m rg\u001b[38;5;241m.\u001b[39marray_symb(\u001b[38;5;28mself\u001b[39m\u001b[38;5;241m.\u001b[39msystem\u001b[38;5;241m.\u001b[39mdim_inputs, literal\u001b[38;5;241m=\u001b[39m\u001b[38;5;124m\"\u001b[39m\u001b[38;5;124mu\u001b[39m\u001b[38;5;124m\"\u001b[39m)\n\u001b[1;32m    252\u001b[0m time \u001b[38;5;241m=\u001b[39m rg\u001b[38;5;241m.\u001b[39marray_symb((\u001b[38;5;241m1\u001b[39m, \u001b[38;5;241m1\u001b[39m), literal\u001b[38;5;241m=\u001b[39m\u001b[38;5;124m\"\u001b[39m\u001b[38;5;124mt\u001b[39m\u001b[38;5;124m\"\u001b[39m)\n\u001b[0;32m--> 254\u001b[0m ODE \u001b[38;5;241m=\u001b[39m \u001b[38;5;28;43mself\u001b[39;49m\u001b[38;5;241;43m.\u001b[39;49m\u001b[43msystem\u001b[49m\u001b[38;5;241;43m.\u001b[39;49m\u001b[43mcompute_state_dynamics\u001b[49m\u001b[43m(\u001b[49m\n\u001b[1;32m    255\u001b[0m \u001b[43m    \u001b[49m\u001b[43mtime\u001b[49m\u001b[43m,\u001b[49m\u001b[43m \u001b[49m\u001b[43mstate_symbolic\u001b[49m\u001b[43m,\u001b[49m\u001b[43m \u001b[49m\u001b[43maction_symbolic\u001b[49m\u001b[43m,\u001b[49m\u001b[43m \u001b[49m\u001b[43m_native_dim\u001b[49m\u001b[38;5;241;43m=\u001b[39;49m\u001b[38;5;28;43;01mTrue\u001b[39;49;00m\n\u001b[1;32m    256\u001b[0m \u001b[43m\u001b[49m\u001b[43m)\u001b[49m\n\u001b[1;32m    257\u001b[0m DAE \u001b[38;5;241m=\u001b[39m {\u001b[38;5;124m\"\u001b[39m\u001b[38;5;124mx\u001b[39m\u001b[38;5;124m\"\u001b[39m: state_symbolic, \u001b[38;5;124m\"\u001b[39m\u001b[38;5;124mp\u001b[39m\u001b[38;5;124m\"\u001b[39m: action_symbolic, \u001b[38;5;124m\"\u001b[39m\u001b[38;5;124mode\u001b[39m\u001b[38;5;124m\"\u001b[39m: ODE}\n\u001b[1;32m    259\u001b[0m \u001b[38;5;66;03m# options = {\"tf\": max_step, \"atol\": self.atol, \"rtol\": self.rtol}\u001b[39;00m\n",
      "File \u001b[0;32m~/.pyenv/versions/3.11.8/lib/python3.11/site-packages/regelum/system.py:166\u001b[0m, in \u001b[0;36mSystemInterface.compute_state_dynamics\u001b[0;34m(self, time, state, inputs, _native_dim)\u001b[0m\n\u001b[1;32m    160\u001b[0m     \u001b[38;5;28;01mreturn\u001b[39;00m rg\u001b[38;5;241m.\u001b[39mforce_row(\n\u001b[1;32m    161\u001b[0m         \u001b[38;5;28mself\u001b[39m\u001b[38;5;241m.\u001b[39m_compute_state_dynamics(\n\u001b[1;32m    162\u001b[0m             time, rg\u001b[38;5;241m.\u001b[39mforce_column(state), rg\u001b[38;5;241m.\u001b[39mforce_column(inputs)\n\u001b[1;32m    163\u001b[0m         )\n\u001b[1;32m    164\u001b[0m     )\n\u001b[1;32m    165\u001b[0m \u001b[38;5;28;01melse\u001b[39;00m:\n\u001b[0;32m--> 166\u001b[0m     \u001b[38;5;28;01mreturn\u001b[39;00m \u001b[38;5;28;43mself\u001b[39;49m\u001b[38;5;241;43m.\u001b[39;49m\u001b[43m_compute_state_dynamics\u001b[49m\u001b[43m(\u001b[49m\u001b[43mtime\u001b[49m\u001b[43m,\u001b[49m\u001b[43m \u001b[49m\u001b[43mstate\u001b[49m\u001b[43m,\u001b[49m\u001b[43m \u001b[49m\u001b[43minputs\u001b[49m\u001b[43m)\u001b[49m\n",
      "File \u001b[0;32m~/Projects/AdvContrMethods/Project/src/system.py:495\u001b[0m, in \u001b[0;36mHydraulicSystem._compute_state_dynamics\u001b[0;34m(self, time, state, inputs)\u001b[0m\n\u001b[1;32m    493\u001b[0m Dstate[\u001b[38;5;241m0\u001b[39m] \u001b[38;5;241m=\u001b[39m state[\u001b[38;5;241m1\u001b[39m]\n\u001b[1;32m    494\u001b[0m \u001b[38;5;66;03m# \\dot{v_p}\u001b[39;00m\n\u001b[0;32m--> 495\u001b[0m Dstate[\u001b[38;5;241m1\u001b[39m] \u001b[38;5;241m=\u001b[39m \u001b[38;5;28;43mself\u001b[39;49m\u001b[38;5;241;43m.\u001b[39;49m\u001b[43mget_acceleration\u001b[49m\u001b[43m(\u001b[49m\u001b[43mstate\u001b[49m\u001b[43m)\u001b[49m\n\u001b[1;32m    497\u001b[0m \u001b[38;5;66;03m# TODO: make First-order aperiodic chain: 1/T * (k*x - y)\u001b[39;00m\n\u001b[1;32m    498\u001b[0m dx_th_eps, v_th_max \u001b[38;5;241m=\u001b[39m (\n\u001b[1;32m    499\u001b[0m     \u001b[38;5;28mself\u001b[39m\u001b[38;5;241m.\u001b[39m_parameters[\u001b[38;5;124m\"\u001b[39m\u001b[38;5;124mdx_th_eps\u001b[39m\u001b[38;5;124m\"\u001b[39m],\n\u001b[1;32m    500\u001b[0m     \u001b[38;5;28mself\u001b[39m\u001b[38;5;241m.\u001b[39m_parameters[\u001b[38;5;124m\"\u001b[39m\u001b[38;5;124mv_th_max\u001b[39m\u001b[38;5;124m\"\u001b[39m]\n\u001b[1;32m    501\u001b[0m )\n",
      "File \u001b[0;32m~/Projects/AdvContrMethods/Project/src/system.py:445\u001b[0m, in \u001b[0;36mHydraulicSystem.get_acceleration\u001b[0;34m(self, state)\u001b[0m\n\u001b[1;32m    442\u001b[0m \u001b[38;5;66;03m# State params\u001b[39;00m\n\u001b[1;32m    443\u001b[0m v_p \u001b[38;5;241m=\u001b[39m state[\u001b[38;5;241m1\u001b[39m]\n\u001b[0;32m--> 445\u001b[0m F_h \u001b[38;5;241m=\u001b[39m \u001b[38;5;28;43mself\u001b[39;49m\u001b[38;5;241;43m.\u001b[39;49m\u001b[43mget_force_hydraulic\u001b[49m\u001b[43m(\u001b[49m\u001b[43mstate\u001b[49m\u001b[43m)\u001b[49m\n\u001b[1;32m    446\u001b[0m F_fr \u001b[38;5;241m=\u001b[39m \u001b[38;5;28mself\u001b[39m\u001b[38;5;241m.\u001b[39mget_force_friction(state, F_h)\n\u001b[1;32m    448\u001b[0m \u001b[38;5;66;03m# Required params\u001b[39;00m\n",
      "File \u001b[0;32m~/Projects/AdvContrMethods/Project/src/system.py:382\u001b[0m, in \u001b[0;36mHydraulicSystem.get_force_hydraulic\u001b[0;34m(self, state)\u001b[0m\n\u001b[1;32m    369\u001b[0m \u001b[38;5;28;01mdef\u001b[39;00m \u001b[38;5;21mget_force_hydraulic\u001b[39m(\u001b[38;5;28mself\u001b[39m, state) \u001b[38;5;241m-\u001b[39m\u001b[38;5;241m>\u001b[39m \u001b[38;5;28mfloat\u001b[39m:\n\u001b[1;32m    370\u001b[0m \u001b[38;5;250m    \u001b[39m\u001b[38;5;124;03m\"\"\" Get hydraulic force acting on the piston\u001b[39;00m\n\u001b[1;32m    371\u001b[0m \n\u001b[1;32m    372\u001b[0m \u001b[38;5;124;03m    Args:\u001b[39;00m\n\u001b[0;32m   (...)\u001b[0m\n\u001b[1;32m    379\u001b[0m \u001b[38;5;124;03m        float: hydraulic force [N]\u001b[39;00m\n\u001b[1;32m    380\u001b[0m \u001b[38;5;124;03m    \"\"\"\u001b[39;00m\n\u001b[0;32m--> 382\u001b[0m     p_hydr \u001b[38;5;241m=\u001b[39m \u001b[38;5;28;43mself\u001b[39;49m\u001b[38;5;241;43m.\u001b[39;49m\u001b[43mget_pressure_hydraulic\u001b[49m\u001b[43m(\u001b[49m\u001b[43mstate\u001b[49m\u001b[43m)\u001b[49m\n\u001b[1;32m    383\u001b[0m     p_work \u001b[38;5;241m=\u001b[39m \u001b[38;5;28mself\u001b[39m\u001b[38;5;241m.\u001b[39mget_pressure_working(state)\n\u001b[1;32m    385\u001b[0m     A_hydr, A_work \u001b[38;5;241m=\u001b[39m \u001b[38;5;28mself\u001b[39m\u001b[38;5;241m.\u001b[39m_parameters[\u001b[38;5;124m\"\u001b[39m\u001b[38;5;124mA_hydr\u001b[39m\u001b[38;5;124m\"\u001b[39m], \u001b[38;5;28mself\u001b[39m\u001b[38;5;241m.\u001b[39m_parameters[\u001b[38;5;124m\"\u001b[39m\u001b[38;5;124mA_work\u001b[39m\u001b[38;5;124m\"\u001b[39m]\n",
      "File \u001b[0;32m~/Projects/AdvContrMethods/Project/src/system.py:276\u001b[0m, in \u001b[0;36mHydraulicSystem.get_pressure_hydraulic\u001b[0;34m(self, state)\u001b[0m\n\u001b[1;32m    265\u001b[0m p_l, x_th_eps, ploss_coef_hydr, p_hydr_last, x_p_last, beta_v_hydr \u001b[38;5;241m=\u001b[39m (\n\u001b[1;32m    266\u001b[0m     \u001b[38;5;28mself\u001b[39m\u001b[38;5;241m.\u001b[39m_parameters[\u001b[38;5;124m\"\u001b[39m\u001b[38;5;124mp_l\u001b[39m\u001b[38;5;124m\"\u001b[39m],\n\u001b[1;32m    267\u001b[0m     \u001b[38;5;28mself\u001b[39m\u001b[38;5;241m.\u001b[39m_parameters[\u001b[38;5;124m\"\u001b[39m\u001b[38;5;124mx_th_eps\u001b[39m\u001b[38;5;124m\"\u001b[39m],\n\u001b[0;32m   (...)\u001b[0m\n\u001b[1;32m    271\u001b[0m     \u001b[38;5;28mself\u001b[39m\u001b[38;5;241m.\u001b[39m_parameters[\u001b[38;5;124m\"\u001b[39m\u001b[38;5;124mbeta_v_hydr\u001b[39m\u001b[38;5;124m\"\u001b[39m],\n\u001b[1;32m    272\u001b[0m )\n\u001b[1;32m    274\u001b[0m \u001b[38;5;66;03m# pressure_hydraulic_1 = rg.if_else(x_th_eps > x_th, x_th_eps, x_th)\u001b[39;00m\n\u001b[1;32m    275\u001b[0m \u001b[38;5;66;03m# rg.if_else(v_p < 0, -1 * v_p, v_p)\u001b[39;00m\n\u001b[0;32m--> 276\u001b[0m pressure_hydraulic_1 \u001b[38;5;241m=\u001b[39m p_l \u001b[38;5;241m-\u001b[39m v_p\u001b[38;5;241m*\u001b[39m(rg\u001b[38;5;241m.\u001b[39mabs(v_p)\u001b[38;5;241m/\u001b[39m\u001b[43mrg\u001b[49m\u001b[38;5;241;43m.\u001b[39;49m\u001b[43mmax\u001b[49m\u001b[43m(\u001b[49m\u001b[43mx_th_eps\u001b[49m\u001b[43m,\u001b[49m\u001b[43m \u001b[49m\u001b[43mx_th\u001b[49m\u001b[43m)\u001b[49m\u001b[38;5;241m*\u001b[39m\u001b[38;5;241m*\u001b[39m\u001b[38;5;241m2\u001b[39m)\u001b[38;5;241m*\u001b[39mploss_coef_hydr\n\u001b[1;32m    277\u001b[0m pressure_hydraulic_2 \u001b[38;5;241m=\u001b[39m p_hydr_last \u001b[38;5;241m+\u001b[39m (x_p_last\u001b[38;5;241m/\u001b[39mx_p \u001b[38;5;241m-\u001b[39m \u001b[38;5;241m1\u001b[39m)\u001b[38;5;241m/\u001b[39mbeta_v_hydr\n\u001b[1;32m    279\u001b[0m pressure_hydraulic \u001b[38;5;241m=\u001b[39m rg\u001b[38;5;241m.\u001b[39mif_else(v_p \u001b[38;5;241m!=\u001b[39m \u001b[38;5;241m0\u001b[39m, pressure_hydraulic_1, p_l)\n",
      "File \u001b[0;32m~/.pyenv/versions/3.11.8/lib/python3.11/site-packages/regelum/utils.py:112\u001b[0m, in \u001b[0;36mmetaclassTypeInferenceDecorator.<locals>.wrapper\u001b[0;34m(*args, **kwargs)\u001b[0m\n\u001b[1;32m    110\u001b[0m     \u001b[38;5;28;01mreturn\u001b[39;00m function(\u001b[38;5;241m*\u001b[39margs, \u001b[38;5;241m*\u001b[39m\u001b[38;5;241m*\u001b[39mkwargs, rc_type\u001b[38;5;241m=\u001b[39mrc_type)\n\u001b[1;32m    111\u001b[0m \u001b[38;5;28;01melse\u001b[39;00m:\n\u001b[0;32m--> 112\u001b[0m     \u001b[38;5;28;01mreturn\u001b[39;00m \u001b[43mfunction\u001b[49m\u001b[43m(\u001b[49m\u001b[38;5;241;43m*\u001b[39;49m\u001b[43margs\u001b[49m\u001b[43m,\u001b[49m\u001b[43m \u001b[49m\u001b[38;5;241;43m*\u001b[39;49m\u001b[38;5;241;43m*\u001b[39;49m\u001b[43mkwargs\u001b[49m\u001b[43m,\u001b[49m\u001b[43m \u001b[49m\u001b[43mrc_type\u001b[49m\u001b[38;5;241;43m=\u001b[39;49m\u001b[43mtype_inference\u001b[49m\u001b[43m(\u001b[49m\u001b[38;5;241;43m*\u001b[39;49m\u001b[43margs\u001b[49m\u001b[43m,\u001b[49m\u001b[43m \u001b[49m\u001b[38;5;241;43m*\u001b[39;49m\u001b[38;5;241;43m*\u001b[39;49m\u001b[43mkwargs\u001b[49m\u001b[43m)\u001b[49m\u001b[43m)\u001b[49m\n",
      "\u001b[0;31mTypeError\u001b[0m: RCTypeHandler.max() got multiple values for argument 'rc_type'"
     ]
    }
   ],
   "source": [
    "import pytest\n",
    "import numpy as np\n",
    "\n",
    "from regelum.scenario import Scenario\n",
    "from regelum.simulator import SciPy\n",
    "from regelum.simulator import CasADi\n",
    "\n",
    "from src.system import HydraulicSystem\n",
    "from src.policy import PDController\n",
    "\n",
    "from regelum import callback\n",
    "\n",
    "sampling_time = 1e-3\n",
    "\n",
    "system = callback.detach(HydraulicSystem)() # HydraulicSystem()\n",
    "\n",
    "simulator = CasADi( #SciPy(\n",
    "    system=system,\n",
    "    state_init = np.array([1e3, 0]),\n",
    "    time_final = 10e-3,\n",
    ")\n",
    "\n",
    "scenario = Scenario(\n",
    "    policy=PDController(\n",
    "        system=system,\n",
    "        sampling_time=sampling_time\n",
    "    ),\n",
    "    simulator=simulator,\n",
    "    sampling_time=0.01,\n",
    "    N_episodes=1,\n",
    "    N_iterations=1,\n",
    ")\n",
    "\n",
    "scenario.run()"
   ]
  },
  {
   "cell_type": "code",
   "execution_count": 1,
   "metadata": {},
   "outputs": [
    {
     "ename": "AttributeError",
     "evalue": "'HydraulicSystem' object has no attribute 'compute_closed_loop_rhs'",
     "output_type": "error",
     "traceback": [
      "\u001b[0;31m---------------------------------------------------------------------------\u001b[0m",
      "\u001b[0;31mAttributeError\u001b[0m                            Traceback (most recent call last)",
      "Cell \u001b[0;32mIn[1], line 14\u001b[0m\n\u001b[1;32m      9\u001b[0m \u001b[38;5;28;01mfrom\u001b[39;00m \u001b[38;5;21;01mregelum\u001b[39;00m\u001b[38;5;21;01m.\u001b[39;00m\u001b[38;5;21;01mutils\u001b[39;00m \u001b[38;5;28;01mimport\u001b[39;00m rg\n\u001b[1;32m     12\u001b[0m system \u001b[38;5;241m=\u001b[39m HydraulicSystem()\n\u001b[0;32m---> 14\u001b[0m simulator \u001b[38;5;241m=\u001b[39m \u001b[43mSciPy\u001b[49m\u001b[43m(\u001b[49m\n\u001b[1;32m     15\u001b[0m \u001b[43m    \u001b[49m\u001b[43msystem\u001b[49m\u001b[38;5;241;43m=\u001b[39;49m\u001b[43msystem\u001b[49m\u001b[43m,\u001b[49m\n\u001b[1;32m     16\u001b[0m \u001b[43m    \u001b[49m\u001b[43mstate_init\u001b[49m\u001b[43m \u001b[49m\u001b[38;5;241;43m=\u001b[39;49m\u001b[43m \u001b[49m\u001b[43mnp\u001b[49m\u001b[38;5;241;43m.\u001b[39;49m\u001b[43marray\u001b[49m\u001b[43m(\u001b[49m\u001b[43m[\u001b[49m\u001b[38;5;241;43m1e3\u001b[39;49m\u001b[43m,\u001b[49m\u001b[43m \u001b[49m\u001b[38;5;241;43m0\u001b[39;49m\u001b[43m,\u001b[49m\u001b[43m \u001b[49m\u001b[38;5;241;43m0\u001b[39;49m\u001b[43m,\u001b[49m\u001b[43m \u001b[49m\u001b[38;5;241;43m0\u001b[39;49m\u001b[43m]\u001b[49m\u001b[43m)\u001b[49m\u001b[43m,\u001b[49m\n\u001b[1;32m     17\u001b[0m \u001b[43m    \u001b[49m\u001b[43mtime_final\u001b[49m\u001b[43m \u001b[49m\u001b[38;5;241;43m=\u001b[39;49m\u001b[43m \u001b[49m\u001b[38;5;241;43m10e-3\u001b[39;49m\u001b[43m,\u001b[49m\n\u001b[1;32m     18\u001b[0m \u001b[43m)\u001b[49m\n",
      "File \u001b[0;32m~/.pyenv/versions/3.11.7/envs/acm-venv/lib/python3.11/site-packages/regelum/__internal/base.py:115\u001b[0m, in \u001b[0;36mRegelumType.__new__.<locals>.pre_init\u001b[0;34m(self, _tracked, original_init, *args, **kwargs)\u001b[0m\n\u001b[1;32m    113\u001b[0m             composed\u001b[38;5;241m.\u001b[39mregister(attachee\u001b[38;5;241m=\u001b[39mx, launch\u001b[38;5;241m=\u001b[39m\u001b[38;5;28;01mTrue\u001b[39;00m)\n\u001b[1;32m    114\u001b[0m \u001b[38;5;28mself\u001b[39m\u001b[38;5;241m.\u001b[39m_callbacks_registered \u001b[38;5;241m=\u001b[39m \u001b[38;5;28;01mTrue\u001b[39;00m\n\u001b[0;32m--> 115\u001b[0m \u001b[38;5;28;01mreturn\u001b[39;00m \u001b[43moriginal_init\u001b[49m\u001b[43m(\u001b[49m\u001b[38;5;28;43mself\u001b[39;49m\u001b[43m,\u001b[49m\u001b[43m \u001b[49m\u001b[38;5;241;43m*\u001b[39;49m\u001b[43margs\u001b[49m\u001b[43m,\u001b[49m\u001b[43m \u001b[49m\u001b[38;5;241;43m*\u001b[39;49m\u001b[38;5;241;43m*\u001b[39;49m\u001b[43mkwargs\u001b[49m\u001b[43m)\u001b[49m\n",
      "File \u001b[0;32m~/.pyenv/versions/3.11.7/envs/acm-venv/lib/python3.11/site-packages/regelum/simulator.py:102\u001b[0m, in \u001b[0;36mSimulator.__init__\u001b[0;34m(self, system, state_init, action_init, time_final, max_step, first_step, atol, rtol)\u001b[0m\n\u001b[1;32m     99\u001b[0m \u001b[38;5;28mself\u001b[39m\u001b[38;5;241m.\u001b[39mfirst_step \u001b[38;5;241m=\u001b[39m first_step\n\u001b[1;32m    101\u001b[0m \u001b[38;5;28;01mif\u001b[39;00m \u001b[38;5;28mself\u001b[39m\u001b[38;5;241m.\u001b[39msystem\u001b[38;5;241m.\u001b[39msystem_type \u001b[38;5;241m==\u001b[39m \u001b[38;5;124m\"\u001b[39m\u001b[38;5;124mdiff_eqn\u001b[39m\u001b[38;5;124m\"\u001b[39m:\n\u001b[0;32m--> 102\u001b[0m     \u001b[38;5;28mself\u001b[39m\u001b[38;5;241m.\u001b[39mODE_solver \u001b[38;5;241m=\u001b[39m \u001b[38;5;28;43mself\u001b[39;49m\u001b[38;5;241;43m.\u001b[39;49m\u001b[43minitialize_ode_solver\u001b[49m\u001b[43m(\u001b[49m\u001b[43m)\u001b[49m\n",
      "File \u001b[0;32m~/.pyenv/versions/3.11.7/envs/acm-venv/lib/python3.11/site-packages/regelum/simulator.py:170\u001b[0m, in \u001b[0;36mSciPy.initialize_ode_solver\u001b[0;34m(self)\u001b[0m\n\u001b[1;32m    166\u001b[0m \u001b[38;5;28;01mdef\u001b[39;00m \u001b[38;5;21minitialize_ode_solver\u001b[39m(\u001b[38;5;28mself\u001b[39m):\n\u001b[1;32m    167\u001b[0m     \u001b[38;5;28;01mimport\u001b[39;00m \u001b[38;5;21;01mscipy\u001b[39;00m \u001b[38;5;28;01mas\u001b[39;00m \u001b[38;5;21;01msp\u001b[39;00m\n\u001b[1;32m    169\u001b[0m     ODE_solver \u001b[38;5;241m=\u001b[39m sp\u001b[38;5;241m.\u001b[39mintegrate\u001b[38;5;241m.\u001b[39mRK45(\n\u001b[0;32m--> 170\u001b[0m         \u001b[38;5;28;43mself\u001b[39;49m\u001b[38;5;241;43m.\u001b[39;49m\u001b[43msystem\u001b[49m\u001b[38;5;241;43m.\u001b[39;49m\u001b[43mcompute_closed_loop_rhs\u001b[49m,\n\u001b[1;32m    171\u001b[0m         \u001b[38;5;28mself\u001b[39m\u001b[38;5;241m.\u001b[39mstate,\n\u001b[1;32m    172\u001b[0m         \u001b[38;5;28mself\u001b[39m\u001b[38;5;241m.\u001b[39mtime_final,\n\u001b[1;32m    173\u001b[0m         max_step\u001b[38;5;241m=\u001b[39m\u001b[38;5;28mself\u001b[39m\u001b[38;5;241m.\u001b[39mmax_step,\n\u001b[1;32m    174\u001b[0m         first_step\u001b[38;5;241m=\u001b[39m\u001b[38;5;28mself\u001b[39m\u001b[38;5;241m.\u001b[39mfirst_step,\n\u001b[1;32m    175\u001b[0m         atol\u001b[38;5;241m=\u001b[39m\u001b[38;5;28mself\u001b[39m\u001b[38;5;241m.\u001b[39matol,\n\u001b[1;32m    176\u001b[0m         rtol\u001b[38;5;241m=\u001b[39m\u001b[38;5;28mself\u001b[39m\u001b[38;5;241m.\u001b[39mrtol,\n\u001b[1;32m    177\u001b[0m     )\n\u001b[1;32m    178\u001b[0m     \u001b[38;5;28;01mreturn\u001b[39;00m ODE_solver\n",
      "\u001b[0;31mAttributeError\u001b[0m: 'HydraulicSystem' object has no attribute 'compute_closed_loop_rhs'"
     ]
    }
   ],
   "source": [
    "import numpy as np\n",
    "from src.system import HydraulicSystem\n",
    "from src.policy import PDController\n",
    "\n",
    "from regelum.scenario import Scenario\n",
    "from regelum.simulator import SciPy\n",
    "\n",
    "# from regelum.system import System\n",
    "from regelum.utils import rg\n",
    "\n",
    "\n",
    "system = HydraulicSystem()\n",
    "\n",
    "simulator = SciPy(\n",
    "    system=system,\n",
    "    state_init = np.array([1e3, 0, 0, 0]),\n",
    "    time_final = 10e-3,\n",
    ")"
   ]
  },
  {
   "cell_type": "code",
   "execution_count": 2,
   "metadata": {},
   "outputs": [
    {
     "data": {
      "text/html": [
       "<pre style=\"white-space:pre;overflow-x:auto;line-height:normal;font-family:Menlo,'DejaVu Sans Mono',consolas,'Courier New',monospace\"><span style=\"color: #800080; text-decoration-color: #800080; font-weight: bold\">array</span><span style=\"font-weight: bold\">([[</span>    <span style=\"color: #008080; text-decoration-color: #008080; font-weight: bold\">0</span>.,     <span style=\"color: #008080; text-decoration-color: #008080; font-weight: bold\">0</span>., <span style=\"color: #008080; text-decoration-color: #008080; font-weight: bold\">10000</span>.<span style=\"font-weight: bold\">]])</span>\n",
       "</pre>\n"
      ],
      "text/plain": [
       "\u001b[1;35marray\u001b[0m\u001b[1m(\u001b[0m\u001b[1m[\u001b[0m\u001b[1m[\u001b[0m    \u001b[1;36m0\u001b[0m.,     \u001b[1;36m0\u001b[0m., \u001b[1;36m10000\u001b[0m.\u001b[1m]\u001b[0m\u001b[1m]\u001b[0m\u001b[1m)\u001b[0m\n"
      ]
     },
     "metadata": {},
     "output_type": "display_data"
    }
   ],
   "source": [
    "system.compute_state_dynamics(0, np.array([2.0, 0, 0]), inputs=np.array([[10]]))"
   ]
  }
 ],
 "metadata": {
  "kernelspec": {
   "display_name": "acm-venv",
   "language": "python",
   "name": "python3"
  },
  "language_info": {
   "codemirror_mode": {
    "name": "ipython",
    "version": 3
   },
   "file_extension": ".py",
   "mimetype": "text/x-python",
   "name": "python",
   "nbconvert_exporter": "python",
   "pygments_lexer": "ipython3",
   "version": "3.11.7"
  }
 },
 "nbformat": 4,
 "nbformat_minor": 2
}
