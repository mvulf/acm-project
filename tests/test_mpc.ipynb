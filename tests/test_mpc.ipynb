{
 "cells": [
  {
   "cell_type": "code",
   "execution_count": 1,
   "metadata": {},
   "outputs": [],
   "source": [
    "from regelum.scenario import Scenario\n",
    "from regelum.simulator import CasADi\n",
    "import numpy as np\n",
    "from tqdm.notebook import tqdm\n",
    "\n",
    "import sys\n",
    "sys.path.append('../')\n",
    "\n",
    "from src.system import HydraulicSystem\n",
    "# from src.policy import PDController"
   ]
  },
  {
   "cell_type": "code",
   "execution_count": 2,
   "metadata": {},
   "outputs": [],
   "source": [
    "from regelum.policy import Policy\n",
    "from regelum.utils import rg\n",
    "from regelum.model import ModelWeightContainer\n",
    "from regelum.optimizable.core.configs import CasadiOptimizerConfig\n",
    "from numpy import ndarray\n",
    "from regelum.model import Model, ModelNN, ModelQuadLin\n",
    "from regelum.optimizable.core.configs import OptimizerConfig\n",
    "from regelum.objective import mpc_objective\n",
    "from regelum.predictor import EulerPredictor\n",
    "from regelum.objective import RunningObjective\n",
    "from regelum.data_buffers import DataBuffer"
   ]
  },
  {
   "cell_type": "code",
   "execution_count": 3,
   "metadata": {},
   "outputs": [],
   "source": [
    "from regelum.callback import (\n",
    "    ScenarioStepLogger,\n",
    "    # StateTracker,\n",
    "    # HistoricalDataCallback,\n",
    ")\n",
    "from src.callback import HistoricalDataCallback, SimulatorStepLogger\n",
    "\n",
    "from regelum import set_ipython_env\n",
    "%matplotlib inline\n",
    "callbacks = [SimulatorStepLogger, ScenarioStepLogger, HistoricalDataCallback]\n",
    "ScenarioStepLogger.cooldown = 0.01\n",
    "callbacks = set_ipython_env(callbacks=callbacks, interactive=True)"
   ]
  },
  {
   "cell_type": "code",
   "execution_count": null,
   "metadata": {},
   "outputs": [],
   "source": [
    "MAX_STEP = 1e-7\n",
    "PREDICTION_HORIZON = 10\n",
    "FINAL_TIME = 10e-3\n",
    "SAMPLING_TIME = 1e-3\n",
    "ACTION_SIZE = 1\n",
    "\n",
    "pred_step_size = 3 * SAMPLING_TIME\n",
    "\n",
    "# Define the initial state (initial position of the kinematic point).\n",
    "p_atm = 1e5\n",
    "initial_state = np.array([1e3, 0, 0, p_atm, p_atm])\n",
    "\n",
    "model = ModelWeightContainer(\n",
    "    dim_output=ACTION_SIZE, \n",
    "    weights_init=rg.zeros((PREDICTION_HORIZON + 1, ACTION_SIZE), rc_type=rg.CASADI)\n",
    ")  # A trivial model contains our predicted actions\n",
    "system = HydraulicSystem(\n",
    "    init_state=initial_state\n",
    ")\n",
    "predictor = EulerPredictor(\n",
    "    system=system, pred_step_size=pred_step_size\n",
    ")  # Predictor is used for\n",
    "# RUNNING OBJECTIVE"
   ]
  }
 ],
 "metadata": {
  "kernelspec": {
   "display_name": "acm-env",
   "language": "python",
   "name": "python3"
  },
  "language_info": {
   "codemirror_mode": {
    "name": "ipython",
    "version": 3
   },
   "file_extension": ".py",
   "mimetype": "text/x-python",
   "name": "python",
   "nbconvert_exporter": "python",
   "pygments_lexer": "ipython3",
   "version": "3.11.8"
  }
 },
 "nbformat": 4,
 "nbformat_minor": 2
}
