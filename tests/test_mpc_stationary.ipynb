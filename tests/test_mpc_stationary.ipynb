{
 "cells": [
  {
   "cell_type": "code",
   "execution_count": 1,
   "metadata": {},
   "outputs": [],
   "source": [
    "# from regelum.scenario import Scenario\n",
    "from regelum.simulator import CasADi\n",
    "import numpy as np\n",
    "from tqdm.notebook import tqdm\n",
    "\n",
    "import sys\n",
    "sys.path.append('../')\n",
    "\n",
    "from src.system import HydraulicSystem, HydraulicSystemStationary\n",
    "from src.observer import HydraulicStationaryObserver"
   ]
  },
  {
   "cell_type": "code",
   "execution_count": 2,
   "metadata": {},
   "outputs": [],
   "source": [
    "from regelum.policy import Policy\n",
    "from regelum.utils import rg\n",
    "from regelum.model import ModelWeightContainer\n",
    "from regelum.system import ComposedSystem, System\n",
    "from regelum.optimizable.core.configs import CasadiOptimizerConfig\n",
    "from numpy import ndarray\n",
    "from regelum.model import Model, ModelNN, ModelQuadLin\n",
    "from regelum.optimizable.core.configs import OptimizerConfig\n",
    "from regelum.objective import mpc_objective\n",
    "from regelum.predictor import EulerPredictor\n",
    "from regelum.objective import RunningObjective\n",
    "from regelum.data_buffers import DataBuffer"
   ]
  },
  {
   "cell_type": "code",
   "execution_count": 3,
   "metadata": {},
   "outputs": [],
   "source": [
    "from regelum.callback import (\n",
    "    ScenarioStepLogger,\n",
    "    # StateTracker,\n",
    "    # HistoricalDataCallback,\n",
    ")\n",
    "from src.callback import HistoricalDataCallback, SimulatorStepLogger\n",
    "\n",
    "from regelum import set_ipython_env\n",
    "%matplotlib inline\n",
    "callbacks = [SimulatorStepLogger, ScenarioStepLogger, HistoricalDataCallback]\n",
    "ScenarioStepLogger.cooldown = 0.01\n",
    "callbacks = set_ipython_env(callbacks=callbacks, interactive=True)"
   ]
  },
  {
   "cell_type": "code",
   "execution_count": 4,
   "metadata": {},
   "outputs": [],
   "source": [
    "from regelum.model import ModelQuadLin\n",
    "\n",
    "# from regelum.typing import RgArray\n",
    "# from regelum.objective import Objective\n",
    "\n",
    "# class HydraulicObjective(Objective):\n",
    "#     def __init__(\n",
    "#         self,\n",
    "#         system: HydraulicSystemModel\n",
    "#     ):\n",
    "#         self.l_crit = system._parameters[\"l_crit\"]\n",
    "    \n",
    "#     def __call__(\n",
    "#         self, \n",
    "#         observation: RgArray, \n",
    "#         action: RgArray,\n",
    "#         is_save_batch_format = False,\n",
    "#     ):\n",
    "#         # return rg.array(\n",
    "#         #     [[(observation[:,0] - self.l_crit)**2]],\n",
    "#         #     prototype=observation\n",
    "#         # )\n",
    "        \n",
    "#         result = (observation[:,0] - self.l_crit)**2\n",
    "        \n",
    "#         return result[None, :]\n",
    "        \n",
    "#         # return rg.array(\n",
    "#         #     [result],\n",
    "#         #     prototype=observation\n",
    "#         # )\n",
    "\n",
    "class HydraulicObjectiveModel(ModelQuadLin):\n",
    "    \n",
    "    def __init__(\n",
    "        self,\n",
    "        system: HydraulicSystemStationary,\n",
    "        *args,\n",
    "        **kwargs\n",
    "    ):\n",
    "        super().__init__(*args, **kwargs)\n",
    "        \n",
    "        self.l_crit = system._parameters[\"l_crit\"]\n",
    "    \n",
    "    def forward(self, inputs, weights=None):\n",
    "        if weights is None:\n",
    "            weights = self.weights\n",
    "            quad_matrix = self._quad_matrix\n",
    "            linear_coefs = self._linear_coefs\n",
    "            # if isinstance(inputs, torch.Tensor):\n",
    "            #     quad_matrix = torch.FloatTensor(quad_matrix).to(inputs.device)\n",
    "            #     if linear_coefs is not None:\n",
    "            #         linear_coefs = torch.FloatTensor(linear_coefs).to(inputs.device)\n",
    "        else:\n",
    "            quad_matrix, linear_coefs = self.get_quad_lin(weights)\n",
    "\n",
    "        substract = rg.zeros(\n",
    "            inputs.shape,\n",
    "            prototype=inputs\n",
    "        )\n",
    "        \n",
    "        substract[:,0] = self.l_crit\n",
    "        \n",
    "        inputs -= substract\n",
    "\n",
    "        return ModelQuadLin.quadratic_linear_form(\n",
    "            inputs,\n",
    "            quad_matrix,\n",
    "            linear_coefs,\n",
    "        )"
   ]
  },
  {
   "cell_type": "code",
   "execution_count": 5,
   "metadata": {},
   "outputs": [],
   "source": [
    "MAX_STEP = 1e-7\n",
    "PREDICTION_HORIZON = 10\n",
    "# PREDICTION_HORIZON = 100\n",
    "FINAL_TIME = 10e-3\n",
    "SAMPLING_TIME = 1e-3\n",
    "ACTION_SIZE = 1\n",
    "\n",
    "pred_step_size = 1 * SAMPLING_TIME\n",
    "\n",
    "# Define the initial state (initial position of the kinematic point).\n",
    "p_atm = 1e5\n",
    "initial_state = rg.array([1e3, 0, 0, p_atm, p_atm])\n",
    "\n",
    "model = ModelWeightContainer(\n",
    "    dim_output=ACTION_SIZE, \n",
    "    weights_init=rg.zeros((PREDICTION_HORIZON + 1, ACTION_SIZE), rc_type=rg.CASADI)\n",
    ")  # A trivial model contains our predicted actions\n",
    "\n",
    "system = HydraulicSystem(\n",
    "    init_state=initial_state\n",
    ")\n",
    "system_model = HydraulicSystemStationary(\n",
    "    init_state=initial_state\n",
    ")\n",
    "observer = HydraulicStationaryObserver(\n",
    "    system=system_model\n",
    ")\n",
    "predictor = EulerPredictor(\n",
    "    system=system_model, pred_step_size=pred_step_size\n",
    ")  # Predictor is used for MPC-prediction\n",
    "\n",
    "# RUNNING OBJECTIVE\n",
    "running_objective_model = HydraulicObjectiveModel(\n",
    "    system=system_model,\n",
    "    quad_matrix_type=\"diagonal\", weights=[1, 0, 0]\n",
    ")  # A quadratic model for running (a.k.a. instant) objective. We \n",
    "running_objective = RunningObjective(\n",
    "    model=running_objective_model\n",
    ")  # Wrap `running_objective_model` into `RunningObjective` class\n",
    "\n",
    "class MPC(Policy):\n",
    "\n",
    "    def __init__(\n",
    "        self,\n",
    "        model: Model | ModelNN = model,\n",
    "        system: System | ComposedSystem = system_model,\n",
    "        action_bounds: list | ndarray | None = system_model.action_bounds,\n",
    "        optimizer_config: OptimizerConfig | None = CasadiOptimizerConfig(),\n",
    "        discount_factor: float | None = 1,\n",
    "        epsilon_random_parameter: float | None = None,\n",
    "        prediction_horizon: int = PREDICTION_HORIZON,\n",
    "        running_objective: RunningObjective = running_objective,\n",
    "        predictor: EulerPredictor = predictor,\n",
    "    ):\n",
    "        \"\"\"Instantiate MPC policy.\"\"\"\n",
    "        super().__init__(\n",
    "            model,\n",
    "            system,\n",
    "            action_bounds,\n",
    "            optimizer_config,\n",
    "            discount_factor,\n",
    "            epsilon_random_parameter,\n",
    "        )  # Initialize the parent `Policy` class.\n",
    "\n",
    "        self.prediction_horizon = prediction_horizon\n",
    "        self.running_objective = running_objective\n",
    "        self.predictor = predictor\n",
    "        ###### Define the optimization problem\n",
    "        self.observation_var = self.create_variable(\n",
    "            1,  # dimensionality of axis 0\n",
    "            self.system.dim_observation,  # dimensionality of axis 1\n",
    "            name=\"observation\",\n",
    "            is_constant=True,  # is_constant set to `True` as `observation` is a constant parameter of optimization\n",
    "        )\n",
    "        self.est_state_var = self.create_variable(\n",
    "            1,  # dimensionality of axis 0\n",
    "            self.system.dim_state,  # dimensionality of axis 1\n",
    "            name=\"estimated_state\",\n",
    "            is_constant=True,  # is_constant is set to `True` as `estimated_state` is a constant parameter of optimization\n",
    "        )\n",
    "        self.policy_model_weights_var = self.create_variable(\n",
    "            name=\"policy_model_weights\",\n",
    "            is_constant=False,  # is_constant is set to False because policy_model_weights is a decision variable in our optimization problem\n",
    "            like=self.model.named_parameters,  # like parameter utilizes the dimensions of the model's weights for compatibility\n",
    "        )\n",
    "        ## Let us register bounds for policy model weights to be within action bounds\n",
    "        (\n",
    "            self.action_bounds_tiled,\n",
    "            self.action_initial_guess,\n",
    "            self.action_min,\n",
    "            self.action_max,\n",
    "        ) = self.handle_bounds(\n",
    "            self.action_bounds,\n",
    "            self.dim_action,\n",
    "            tile_parameter=self.model.weights.shape[0],\n",
    "        )\n",
    "        self.register_bounds(self.policy_model_weights_var, self.action_bounds_tiled)\n",
    "\n",
    "        ## Make `Optimizable` aware of objective function and variables it depends on\n",
    "        self.register_objective(\n",
    "            self.cost,\n",
    "            variables=[\n",
    "                self.observation_var,\n",
    "                self.est_state_var,\n",
    "                self.policy_model_weights_var,\n",
    "            ],\n",
    "        )\n",
    "\n",
    "    def optimize(self, databuffer: DataBuffer) -> None:\n",
    "        \"\"\"Define optimization routine for `Optimizable` class.\"\"\"\n",
    "        new_weights = super().optimize_symbolic(\n",
    "            **databuffer.get_optimization_kwargs(\n",
    "                keys=[\"observation\", \"estimated_state\"],\n",
    "                optimizer_config=self.optimizer_config,\n",
    "            ),\n",
    "            policy_model_weights=self.policy_model_weights_var(),\n",
    "        )[\n",
    "            \"policy_model_weights\"\n",
    "        ]  # Get the optimized weights from `Optimizable` class\n",
    "        self.model.update_and_cache_weights(new_weights)\n",
    "\n",
    "    def cost(self, observation, estimated_state, policy_model_weights):\n",
    "        \"\"\"Cost function for MPC Policy.\"\"\"\n",
    "        return mpc_objective(\n",
    "            observation=observation,\n",
    "            estimated_state=estimated_state,\n",
    "            policy_model_weights=policy_model_weights,\n",
    "            discount_factor=self.discount_factor,\n",
    "            running_objective=self.running_objective,\n",
    "            prediction_horizon=self.prediction_horizon,\n",
    "            predictor=self.predictor,\n",
    "            model=self.model,\n",
    "        )  # Call `mpc_objective` function to get the cost of current state and sequence of predicted actions"
   ]
  },
  {
   "cell_type": "code",
   "execution_count": 6,
   "metadata": {},
   "outputs": [],
   "source": [
    "from regelum.critic import CriticTrivial\n",
    "from regelum.scenario import RLScenario\n",
    "# from src.scenario_temp import RLScenario\n",
    "from regelum.event import Event\n",
    "\n",
    "\n",
    "simulator = CasADi(\n",
    "    system=system,\n",
    "    state_init=initial_state,\n",
    "    action_init=rg.array([0]),\n",
    "    time_final=FINAL_TIME,\n",
    "    max_step=MAX_STEP,\n",
    "    # first_step=1e-6,\n",
    "    # atol=1e-5,\n",
    "    # rtol=1e-3,\n",
    ")\n",
    "\n",
    "scenario = RLScenario(\n",
    "    policy=MPC(),\n",
    "    observer = observer,\n",
    "    critic=CriticTrivial(),  # mocked critic\n",
    "    running_objective=running_objective,\n",
    "    policy_optimization_event=Event.compute_action,  # run policy optimization on each step\n",
    "    discount_factor=1.0,\n",
    "    sampling_time=SAMPLING_TIME,\n",
    "    simulator=simulator,\n",
    "    N_episodes=1,\n",
    "    N_iterations=1,\n",
    ")"
   ]
  },
  {
   "cell_type": "code",
   "execution_count": 7,
   "metadata": {},
   "outputs": [
    {
     "name": "stdout",
     "output_type": "stream",
     "text": [
      "\n",
      "******************************************************************************\n",
      "This program contains Ipopt, a library for large-scale nonlinear optimization.\n",
      " Ipopt is released as open source code under the Eclipse Public License (EPL).\n",
      "         For more information visit https://github.com/coin-or/Ipopt\n",
      "******************************************************************************\n",
      "\n"
     ]
    },
    {
     "data": {
      "text/html": [
       "<pre style=\"white-space:pre;overflow-x:auto;line-height:normal;font-family:Menlo,'DejaVu Sans Mono',consolas,'Courier New',monospace\"><span style=\"color: #7fbfbf; text-decoration-color: #7fbfbf\">[23:49:57] </span><span style=\"color: #000080; text-decoration-color: #000080\">INFO    </span> runn. objective: <span style=\"color: #008080; text-decoration-color: #008080; font-weight: bold\">3.67</span>, state est.: <span style=\"font-weight: bold\">[</span><span style=\"color: #008080; text-decoration-color: #008080; font-weight: bold\">1000</span>.<span style=\"font-weight: bold\">]</span>, observation: <span style=\"font-weight: bold\">[</span><span style=\"color: #008080; text-decoration-color: #008080; font-weight: bold\">0</span>. <span style=\"color: #008080; text-decoration-color: #008080; font-weight: bold\">0</span>.<span style=\"font-weight: bold\">]</span>, action:      <a href=\"file:///home/vulf/.pyenv/versions/3.11.7/envs/acm-venv/lib/python3.11/site-packages/regelum/callback.py\" target=\"_blank\"><span style=\"color: #7f7f7f; text-decoration-color: #7f7f7f\">callback.py</span></a><span style=\"color: #7f7f7f; text-decoration-color: #7f7f7f\">:</span><a href=\"file:///home/vulf/.pyenv/versions/3.11.7/envs/acm-venv/lib/python3.11/site-packages/regelum/callback.py#1109\" target=\"_blank\"><span style=\"color: #7f7f7f; text-decoration-color: #7f7f7f\">1109</span></a>\n",
       "<span style=\"color: #7fbfbf; text-decoration-color: #7fbfbf\">           </span>         <span style=\"font-weight: bold\">[</span><span style=\"color: #008080; text-decoration-color: #008080; font-weight: bold\">0</span>.<span style=\"font-weight: bold\">]</span>, value: <span style=\"color: #008080; text-decoration-color: #008080; font-weight: bold\">0.0037</span>, time: <span style=\"color: #008080; text-decoration-color: #008080; font-weight: bold\">0.0000</span> <span style=\"font-weight: bold\">(</span><span style=\"color: #008080; text-decoration-color: #008080; font-weight: bold\">0.0</span>%<span style=\"font-weight: bold\">)</span>, episode: <span style=\"color: #008080; text-decoration-color: #008080; font-weight: bold\">1</span>/<span style=\"color: #008080; text-decoration-color: #008080; font-weight: bold\">1</span>, iteration: <span style=\"color: #008080; text-decoration-color: #008080; font-weight: bold\">1</span>/<span style=\"color: #008080; text-decoration-color: #008080; font-weight: bold\">1</span>         <span style=\"color: #7f7f7f; text-decoration-color: #7f7f7f\">                </span>\n",
       "</pre>\n"
      ],
      "text/plain": [
       "\u001b[2;36m[23:49:57]\u001b[0m\u001b[2;36m \u001b[0m\u001b[34mINFO    \u001b[0m runn. objective: \u001b[1;36m3.67\u001b[0m, state est.: \u001b[1m[\u001b[0m\u001b[1;36m1000\u001b[0m.\u001b[1m]\u001b[0m, observation: \u001b[1m[\u001b[0m\u001b[1;36m0\u001b[0m. \u001b[1;36m0\u001b[0m.\u001b[1m]\u001b[0m, action:      \u001b]8;id=757629;file:///home/vulf/.pyenv/versions/3.11.7/envs/acm-venv/lib/python3.11/site-packages/regelum/callback.py\u001b\\\u001b[2mcallback.py\u001b[0m\u001b]8;;\u001b\\\u001b[2m:\u001b[0m\u001b]8;id=225306;file:///home/vulf/.pyenv/versions/3.11.7/envs/acm-venv/lib/python3.11/site-packages/regelum/callback.py#1109\u001b\\\u001b[2m1109\u001b[0m\u001b]8;;\u001b\\\n",
       "\u001b[2;36m           \u001b[0m         \u001b[1m[\u001b[0m\u001b[1;36m0\u001b[0m.\u001b[1m]\u001b[0m, value: \u001b[1;36m0.0037\u001b[0m, time: \u001b[1;36m0.0000\u001b[0m \u001b[1m(\u001b[0m\u001b[1;36m0.0\u001b[0m%\u001b[1m)\u001b[0m, episode: \u001b[1;36m1\u001b[0m/\u001b[1;36m1\u001b[0m, iteration: \u001b[1;36m1\u001b[0m/\u001b[1;36m1\u001b[0m         \u001b[2m                \u001b[0m\n"
      ]
     },
     "metadata": {},
     "output_type": "display_data"
    },
    {
     "data": {
      "text/html": [
       "<pre style=\"white-space:pre;overflow-x:auto;line-height:normal;font-family:Menlo,'DejaVu Sans Mono',consolas,'Courier New',monospace\"><span style=\"color: #7fbfbf; text-decoration-color: #7fbfbf\">[23:50:03] </span><span style=\"color: #000080; text-decoration-color: #000080\">INFO    </span> runn. objective: <span style=\"color: #008080; text-decoration-color: #008080; font-weight: bold\">3.67</span>, state est.: <span style=\"font-weight: bold\">[</span><span style=\"color: #008080; text-decoration-color: #008080; font-weight: bold\">1000</span>.<span style=\"font-weight: bold\">]</span>, observation: <span style=\"font-weight: bold\">[</span><span style=\"color: #008080; text-decoration-color: #008080; font-weight: bold\">0</span>. <span style=\"color: #008080; text-decoration-color: #008080; font-weight: bold\">0</span>.<span style=\"font-weight: bold\">]</span>, action:      <a href=\"file:///home/vulf/.pyenv/versions/3.11.7/envs/acm-venv/lib/python3.11/site-packages/regelum/callback.py\" target=\"_blank\"><span style=\"color: #7f7f7f; text-decoration-color: #7f7f7f\">callback.py</span></a><span style=\"color: #7f7f7f; text-decoration-color: #7f7f7f\">:</span><a href=\"file:///home/vulf/.pyenv/versions/3.11.7/envs/acm-venv/lib/python3.11/site-packages/regelum/callback.py#1109\" target=\"_blank\"><span style=\"color: #7f7f7f; text-decoration-color: #7f7f7f\">1109</span></a>\n",
       "<span style=\"color: #7fbfbf; text-decoration-color: #7fbfbf\">           </span>         <span style=\"font-weight: bold\">[</span><span style=\"color: #008080; text-decoration-color: #008080; font-weight: bold\">0</span>.<span style=\"font-weight: bold\">]</span>, value: <span style=\"color: #008080; text-decoration-color: #008080; font-weight: bold\">0.0073</span>, time: <span style=\"color: #008080; text-decoration-color: #008080; font-weight: bold\">0.0010</span> <span style=\"font-weight: bold\">(</span><span style=\"color: #008080; text-decoration-color: #008080; font-weight: bold\">10.0</span>%<span style=\"font-weight: bold\">)</span>, episode: <span style=\"color: #008080; text-decoration-color: #008080; font-weight: bold\">1</span>/<span style=\"color: #008080; text-decoration-color: #008080; font-weight: bold\">1</span>, iteration: <span style=\"color: #008080; text-decoration-color: #008080; font-weight: bold\">1</span>/<span style=\"color: #008080; text-decoration-color: #008080; font-weight: bold\">1</span>        <span style=\"color: #7f7f7f; text-decoration-color: #7f7f7f\">                </span>\n",
       "</pre>\n"
      ],
      "text/plain": [
       "\u001b[2;36m[23:50:03]\u001b[0m\u001b[2;36m \u001b[0m\u001b[34mINFO    \u001b[0m runn. objective: \u001b[1;36m3.67\u001b[0m, state est.: \u001b[1m[\u001b[0m\u001b[1;36m1000\u001b[0m.\u001b[1m]\u001b[0m, observation: \u001b[1m[\u001b[0m\u001b[1;36m0\u001b[0m. \u001b[1;36m0\u001b[0m.\u001b[1m]\u001b[0m, action:      \u001b]8;id=660652;file:///home/vulf/.pyenv/versions/3.11.7/envs/acm-venv/lib/python3.11/site-packages/regelum/callback.py\u001b\\\u001b[2mcallback.py\u001b[0m\u001b]8;;\u001b\\\u001b[2m:\u001b[0m\u001b]8;id=913174;file:///home/vulf/.pyenv/versions/3.11.7/envs/acm-venv/lib/python3.11/site-packages/regelum/callback.py#1109\u001b\\\u001b[2m1109\u001b[0m\u001b]8;;\u001b\\\n",
       "\u001b[2;36m           \u001b[0m         \u001b[1m[\u001b[0m\u001b[1;36m0\u001b[0m.\u001b[1m]\u001b[0m, value: \u001b[1;36m0.0073\u001b[0m, time: \u001b[1;36m0.0010\u001b[0m \u001b[1m(\u001b[0m\u001b[1;36m10.0\u001b[0m%\u001b[1m)\u001b[0m, episode: \u001b[1;36m1\u001b[0m/\u001b[1;36m1\u001b[0m, iteration: \u001b[1;36m1\u001b[0m/\u001b[1;36m1\u001b[0m        \u001b[2m                \u001b[0m\n"
      ]
     },
     "metadata": {},
     "output_type": "display_data"
    },
    {
     "data": {
      "text/html": [
       "<pre style=\"white-space:pre;overflow-x:auto;line-height:normal;font-family:Menlo,'DejaVu Sans Mono',consolas,'Courier New',monospace\"><span style=\"color: #7fbfbf; text-decoration-color: #7fbfbf\">[23:50:09] </span><span style=\"color: #000080; text-decoration-color: #000080\">INFO    </span> runn. objective: <span style=\"color: #008080; text-decoration-color: #008080; font-weight: bold\">3.67</span>, state est.: <span style=\"font-weight: bold\">[</span><span style=\"color: #008080; text-decoration-color: #008080; font-weight: bold\">1000</span>.<span style=\"font-weight: bold\">]</span>, observation: <span style=\"font-weight: bold\">[</span><span style=\"color: #008080; text-decoration-color: #008080; font-weight: bold\">0</span>. <span style=\"color: #008080; text-decoration-color: #008080; font-weight: bold\">0</span>.<span style=\"font-weight: bold\">]</span>, action:      <a href=\"file:///home/vulf/.pyenv/versions/3.11.7/envs/acm-venv/lib/python3.11/site-packages/regelum/callback.py\" target=\"_blank\"><span style=\"color: #7f7f7f; text-decoration-color: #7f7f7f\">callback.py</span></a><span style=\"color: #7f7f7f; text-decoration-color: #7f7f7f\">:</span><a href=\"file:///home/vulf/.pyenv/versions/3.11.7/envs/acm-venv/lib/python3.11/site-packages/regelum/callback.py#1109\" target=\"_blank\"><span style=\"color: #7f7f7f; text-decoration-color: #7f7f7f\">1109</span></a>\n",
       "<span style=\"color: #7fbfbf; text-decoration-color: #7fbfbf\">           </span>         <span style=\"font-weight: bold\">[</span><span style=\"color: #008080; text-decoration-color: #008080; font-weight: bold\">0</span>.<span style=\"font-weight: bold\">]</span>, value: <span style=\"color: #008080; text-decoration-color: #008080; font-weight: bold\">0.0110</span>, time: <span style=\"color: #008080; text-decoration-color: #008080; font-weight: bold\">0.0020</span> <span style=\"font-weight: bold\">(</span><span style=\"color: #008080; text-decoration-color: #008080; font-weight: bold\">20.0</span>%<span style=\"font-weight: bold\">)</span>, episode: <span style=\"color: #008080; text-decoration-color: #008080; font-weight: bold\">1</span>/<span style=\"color: #008080; text-decoration-color: #008080; font-weight: bold\">1</span>, iteration: <span style=\"color: #008080; text-decoration-color: #008080; font-weight: bold\">1</span>/<span style=\"color: #008080; text-decoration-color: #008080; font-weight: bold\">1</span>        <span style=\"color: #7f7f7f; text-decoration-color: #7f7f7f\">                </span>\n",
       "</pre>\n"
      ],
      "text/plain": [
       "\u001b[2;36m[23:50:09]\u001b[0m\u001b[2;36m \u001b[0m\u001b[34mINFO    \u001b[0m runn. objective: \u001b[1;36m3.67\u001b[0m, state est.: \u001b[1m[\u001b[0m\u001b[1;36m1000\u001b[0m.\u001b[1m]\u001b[0m, observation: \u001b[1m[\u001b[0m\u001b[1;36m0\u001b[0m. \u001b[1;36m0\u001b[0m.\u001b[1m]\u001b[0m, action:      \u001b]8;id=560249;file:///home/vulf/.pyenv/versions/3.11.7/envs/acm-venv/lib/python3.11/site-packages/regelum/callback.py\u001b\\\u001b[2mcallback.py\u001b[0m\u001b]8;;\u001b\\\u001b[2m:\u001b[0m\u001b]8;id=519837;file:///home/vulf/.pyenv/versions/3.11.7/envs/acm-venv/lib/python3.11/site-packages/regelum/callback.py#1109\u001b\\\u001b[2m1109\u001b[0m\u001b]8;;\u001b\\\n",
       "\u001b[2;36m           \u001b[0m         \u001b[1m[\u001b[0m\u001b[1;36m0\u001b[0m.\u001b[1m]\u001b[0m, value: \u001b[1;36m0.0110\u001b[0m, time: \u001b[1;36m0.0020\u001b[0m \u001b[1m(\u001b[0m\u001b[1;36m20.0\u001b[0m%\u001b[1m)\u001b[0m, episode: \u001b[1;36m1\u001b[0m/\u001b[1;36m1\u001b[0m, iteration: \u001b[1;36m1\u001b[0m/\u001b[1;36m1\u001b[0m        \u001b[2m                \u001b[0m\n"
      ]
     },
     "metadata": {},
     "output_type": "display_data"
    },
    {
     "data": {
      "text/html": [
       "<pre style=\"white-space:pre;overflow-x:auto;line-height:normal;font-family:Menlo,'DejaVu Sans Mono',consolas,'Courier New',monospace\"><span style=\"color: #7fbfbf; text-decoration-color: #7fbfbf\">[23:50:15] </span><span style=\"color: #000080; text-decoration-color: #000080\">INFO    </span> runn. objective: <span style=\"color: #008080; text-decoration-color: #008080; font-weight: bold\">3.67</span>, state est.: <span style=\"font-weight: bold\">[</span><span style=\"color: #008080; text-decoration-color: #008080; font-weight: bold\">1000</span>.<span style=\"font-weight: bold\">]</span>, observation: <span style=\"font-weight: bold\">[</span><span style=\"color: #008080; text-decoration-color: #008080; font-weight: bold\">0</span>. <span style=\"color: #008080; text-decoration-color: #008080; font-weight: bold\">0</span>.<span style=\"font-weight: bold\">]</span>, action:      <a href=\"file:///home/vulf/.pyenv/versions/3.11.7/envs/acm-venv/lib/python3.11/site-packages/regelum/callback.py\" target=\"_blank\"><span style=\"color: #7f7f7f; text-decoration-color: #7f7f7f\">callback.py</span></a><span style=\"color: #7f7f7f; text-decoration-color: #7f7f7f\">:</span><a href=\"file:///home/vulf/.pyenv/versions/3.11.7/envs/acm-venv/lib/python3.11/site-packages/regelum/callback.py#1109\" target=\"_blank\"><span style=\"color: #7f7f7f; text-decoration-color: #7f7f7f\">1109</span></a>\n",
       "<span style=\"color: #7fbfbf; text-decoration-color: #7fbfbf\">           </span>         <span style=\"font-weight: bold\">[</span><span style=\"color: #008080; text-decoration-color: #008080; font-weight: bold\">0</span>.<span style=\"font-weight: bold\">]</span>, value: <span style=\"color: #008080; text-decoration-color: #008080; font-weight: bold\">0.0147</span>, time: <span style=\"color: #008080; text-decoration-color: #008080; font-weight: bold\">0.0030</span> <span style=\"font-weight: bold\">(</span><span style=\"color: #008080; text-decoration-color: #008080; font-weight: bold\">30.0</span>%<span style=\"font-weight: bold\">)</span>, episode: <span style=\"color: #008080; text-decoration-color: #008080; font-weight: bold\">1</span>/<span style=\"color: #008080; text-decoration-color: #008080; font-weight: bold\">1</span>, iteration: <span style=\"color: #008080; text-decoration-color: #008080; font-weight: bold\">1</span>/<span style=\"color: #008080; text-decoration-color: #008080; font-weight: bold\">1</span>        <span style=\"color: #7f7f7f; text-decoration-color: #7f7f7f\">                </span>\n",
       "</pre>\n"
      ],
      "text/plain": [
       "\u001b[2;36m[23:50:15]\u001b[0m\u001b[2;36m \u001b[0m\u001b[34mINFO    \u001b[0m runn. objective: \u001b[1;36m3.67\u001b[0m, state est.: \u001b[1m[\u001b[0m\u001b[1;36m1000\u001b[0m.\u001b[1m]\u001b[0m, observation: \u001b[1m[\u001b[0m\u001b[1;36m0\u001b[0m. \u001b[1;36m0\u001b[0m.\u001b[1m]\u001b[0m, action:      \u001b]8;id=183962;file:///home/vulf/.pyenv/versions/3.11.7/envs/acm-venv/lib/python3.11/site-packages/regelum/callback.py\u001b\\\u001b[2mcallback.py\u001b[0m\u001b]8;;\u001b\\\u001b[2m:\u001b[0m\u001b]8;id=537040;file:///home/vulf/.pyenv/versions/3.11.7/envs/acm-venv/lib/python3.11/site-packages/regelum/callback.py#1109\u001b\\\u001b[2m1109\u001b[0m\u001b]8;;\u001b\\\n",
       "\u001b[2;36m           \u001b[0m         \u001b[1m[\u001b[0m\u001b[1;36m0\u001b[0m.\u001b[1m]\u001b[0m, value: \u001b[1;36m0.0147\u001b[0m, time: \u001b[1;36m0.0030\u001b[0m \u001b[1m(\u001b[0m\u001b[1;36m30.0\u001b[0m%\u001b[1m)\u001b[0m, episode: \u001b[1;36m1\u001b[0m/\u001b[1;36m1\u001b[0m, iteration: \u001b[1;36m1\u001b[0m/\u001b[1;36m1\u001b[0m        \u001b[2m                \u001b[0m\n"
      ]
     },
     "metadata": {},
     "output_type": "display_data"
    },
    {
     "data": {
      "text/html": [
       "<pre style=\"white-space:pre;overflow-x:auto;line-height:normal;font-family:Menlo,'DejaVu Sans Mono',consolas,'Courier New',monospace\"><span style=\"color: #7fbfbf; text-decoration-color: #7fbfbf\">[23:50:21] </span><span style=\"color: #000080; text-decoration-color: #000080\">INFO    </span> runn. objective: <span style=\"color: #008080; text-decoration-color: #008080; font-weight: bold\">3.67</span>, state est.: <span style=\"font-weight: bold\">[</span><span style=\"color: #008080; text-decoration-color: #008080; font-weight: bold\">1000</span>.<span style=\"font-weight: bold\">]</span>, observation: <span style=\"font-weight: bold\">[</span><span style=\"color: #008080; text-decoration-color: #008080; font-weight: bold\">0</span>. <span style=\"color: #008080; text-decoration-color: #008080; font-weight: bold\">0</span>.<span style=\"font-weight: bold\">]</span>, action:      <a href=\"file:///home/vulf/.pyenv/versions/3.11.7/envs/acm-venv/lib/python3.11/site-packages/regelum/callback.py\" target=\"_blank\"><span style=\"color: #7f7f7f; text-decoration-color: #7f7f7f\">callback.py</span></a><span style=\"color: #7f7f7f; text-decoration-color: #7f7f7f\">:</span><a href=\"file:///home/vulf/.pyenv/versions/3.11.7/envs/acm-venv/lib/python3.11/site-packages/regelum/callback.py#1109\" target=\"_blank\"><span style=\"color: #7f7f7f; text-decoration-color: #7f7f7f\">1109</span></a>\n",
       "<span style=\"color: #7fbfbf; text-decoration-color: #7fbfbf\">           </span>         <span style=\"font-weight: bold\">[</span><span style=\"color: #008080; text-decoration-color: #008080; font-weight: bold\">0</span>.<span style=\"font-weight: bold\">]</span>, value: <span style=\"color: #008080; text-decoration-color: #008080; font-weight: bold\">0.0184</span>, time: <span style=\"color: #008080; text-decoration-color: #008080; font-weight: bold\">0.0040</span> <span style=\"font-weight: bold\">(</span><span style=\"color: #008080; text-decoration-color: #008080; font-weight: bold\">40.0</span>%<span style=\"font-weight: bold\">)</span>, episode: <span style=\"color: #008080; text-decoration-color: #008080; font-weight: bold\">1</span>/<span style=\"color: #008080; text-decoration-color: #008080; font-weight: bold\">1</span>, iteration: <span style=\"color: #008080; text-decoration-color: #008080; font-weight: bold\">1</span>/<span style=\"color: #008080; text-decoration-color: #008080; font-weight: bold\">1</span>        <span style=\"color: #7f7f7f; text-decoration-color: #7f7f7f\">                </span>\n",
       "</pre>\n"
      ],
      "text/plain": [
       "\u001b[2;36m[23:50:21]\u001b[0m\u001b[2;36m \u001b[0m\u001b[34mINFO    \u001b[0m runn. objective: \u001b[1;36m3.67\u001b[0m, state est.: \u001b[1m[\u001b[0m\u001b[1;36m1000\u001b[0m.\u001b[1m]\u001b[0m, observation: \u001b[1m[\u001b[0m\u001b[1;36m0\u001b[0m. \u001b[1;36m0\u001b[0m.\u001b[1m]\u001b[0m, action:      \u001b]8;id=684671;file:///home/vulf/.pyenv/versions/3.11.7/envs/acm-venv/lib/python3.11/site-packages/regelum/callback.py\u001b\\\u001b[2mcallback.py\u001b[0m\u001b]8;;\u001b\\\u001b[2m:\u001b[0m\u001b]8;id=752562;file:///home/vulf/.pyenv/versions/3.11.7/envs/acm-venv/lib/python3.11/site-packages/regelum/callback.py#1109\u001b\\\u001b[2m1109\u001b[0m\u001b]8;;\u001b\\\n",
       "\u001b[2;36m           \u001b[0m         \u001b[1m[\u001b[0m\u001b[1;36m0\u001b[0m.\u001b[1m]\u001b[0m, value: \u001b[1;36m0.0184\u001b[0m, time: \u001b[1;36m0.0040\u001b[0m \u001b[1m(\u001b[0m\u001b[1;36m40.0\u001b[0m%\u001b[1m)\u001b[0m, episode: \u001b[1;36m1\u001b[0m/\u001b[1;36m1\u001b[0m, iteration: \u001b[1;36m1\u001b[0m/\u001b[1;36m1\u001b[0m        \u001b[2m                \u001b[0m\n"
      ]
     },
     "metadata": {},
     "output_type": "display_data"
    },
    {
     "data": {
      "text/html": [
       "<pre style=\"white-space:pre;overflow-x:auto;line-height:normal;font-family:Menlo,'DejaVu Sans Mono',consolas,'Courier New',monospace\"><span style=\"color: #7fbfbf; text-decoration-color: #7fbfbf\">[23:50:27] </span><span style=\"color: #000080; text-decoration-color: #000080\">INFO    </span> runn. objective: <span style=\"color: #008080; text-decoration-color: #008080; font-weight: bold\">3.67</span>, state est.: <span style=\"font-weight: bold\">[</span><span style=\"color: #008080; text-decoration-color: #008080; font-weight: bold\">1000</span>.<span style=\"font-weight: bold\">]</span>, observation: <span style=\"font-weight: bold\">[</span><span style=\"color: #008080; text-decoration-color: #008080; font-weight: bold\">0</span>. <span style=\"color: #008080; text-decoration-color: #008080; font-weight: bold\">0</span>.<span style=\"font-weight: bold\">]</span>, action:      <a href=\"file:///home/vulf/.pyenv/versions/3.11.7/envs/acm-venv/lib/python3.11/site-packages/regelum/callback.py\" target=\"_blank\"><span style=\"color: #7f7f7f; text-decoration-color: #7f7f7f\">callback.py</span></a><span style=\"color: #7f7f7f; text-decoration-color: #7f7f7f\">:</span><a href=\"file:///home/vulf/.pyenv/versions/3.11.7/envs/acm-venv/lib/python3.11/site-packages/regelum/callback.py#1109\" target=\"_blank\"><span style=\"color: #7f7f7f; text-decoration-color: #7f7f7f\">1109</span></a>\n",
       "<span style=\"color: #7fbfbf; text-decoration-color: #7fbfbf\">           </span>         <span style=\"font-weight: bold\">[</span><span style=\"color: #008080; text-decoration-color: #008080; font-weight: bold\">0</span>.<span style=\"font-weight: bold\">]</span>, value: <span style=\"color: #008080; text-decoration-color: #008080; font-weight: bold\">0.0220</span>, time: <span style=\"color: #008080; text-decoration-color: #008080; font-weight: bold\">0.0050</span> <span style=\"font-weight: bold\">(</span><span style=\"color: #008080; text-decoration-color: #008080; font-weight: bold\">50.0</span>%<span style=\"font-weight: bold\">)</span>, episode: <span style=\"color: #008080; text-decoration-color: #008080; font-weight: bold\">1</span>/<span style=\"color: #008080; text-decoration-color: #008080; font-weight: bold\">1</span>, iteration: <span style=\"color: #008080; text-decoration-color: #008080; font-weight: bold\">1</span>/<span style=\"color: #008080; text-decoration-color: #008080; font-weight: bold\">1</span>        <span style=\"color: #7f7f7f; text-decoration-color: #7f7f7f\">                </span>\n",
       "</pre>\n"
      ],
      "text/plain": [
       "\u001b[2;36m[23:50:27]\u001b[0m\u001b[2;36m \u001b[0m\u001b[34mINFO    \u001b[0m runn. objective: \u001b[1;36m3.67\u001b[0m, state est.: \u001b[1m[\u001b[0m\u001b[1;36m1000\u001b[0m.\u001b[1m]\u001b[0m, observation: \u001b[1m[\u001b[0m\u001b[1;36m0\u001b[0m. \u001b[1;36m0\u001b[0m.\u001b[1m]\u001b[0m, action:      \u001b]8;id=418359;file:///home/vulf/.pyenv/versions/3.11.7/envs/acm-venv/lib/python3.11/site-packages/regelum/callback.py\u001b\\\u001b[2mcallback.py\u001b[0m\u001b]8;;\u001b\\\u001b[2m:\u001b[0m\u001b]8;id=474993;file:///home/vulf/.pyenv/versions/3.11.7/envs/acm-venv/lib/python3.11/site-packages/regelum/callback.py#1109\u001b\\\u001b[2m1109\u001b[0m\u001b]8;;\u001b\\\n",
       "\u001b[2;36m           \u001b[0m         \u001b[1m[\u001b[0m\u001b[1;36m0\u001b[0m.\u001b[1m]\u001b[0m, value: \u001b[1;36m0.0220\u001b[0m, time: \u001b[1;36m0.0050\u001b[0m \u001b[1m(\u001b[0m\u001b[1;36m50.0\u001b[0m%\u001b[1m)\u001b[0m, episode: \u001b[1;36m1\u001b[0m/\u001b[1;36m1\u001b[0m, iteration: \u001b[1;36m1\u001b[0m/\u001b[1;36m1\u001b[0m        \u001b[2m                \u001b[0m\n"
      ]
     },
     "metadata": {},
     "output_type": "display_data"
    },
    {
     "data": {
      "text/html": [
       "<pre style=\"white-space:pre;overflow-x:auto;line-height:normal;font-family:Menlo,'DejaVu Sans Mono',consolas,'Courier New',monospace\"><span style=\"color: #7fbfbf; text-decoration-color: #7fbfbf\">[23:50:33] </span><span style=\"color: #000080; text-decoration-color: #000080\">INFO    </span> runn. objective: <span style=\"color: #008080; text-decoration-color: #008080; font-weight: bold\">3.67</span>, state est.: <span style=\"font-weight: bold\">[</span><span style=\"color: #008080; text-decoration-color: #008080; font-weight: bold\">1000</span>.<span style=\"font-weight: bold\">]</span>, observation: <span style=\"font-weight: bold\">[</span><span style=\"color: #008080; text-decoration-color: #008080; font-weight: bold\">0</span>. <span style=\"color: #008080; text-decoration-color: #008080; font-weight: bold\">0</span>.<span style=\"font-weight: bold\">]</span>, action:      <a href=\"file:///home/vulf/.pyenv/versions/3.11.7/envs/acm-venv/lib/python3.11/site-packages/regelum/callback.py\" target=\"_blank\"><span style=\"color: #7f7f7f; text-decoration-color: #7f7f7f\">callback.py</span></a><span style=\"color: #7f7f7f; text-decoration-color: #7f7f7f\">:</span><a href=\"file:///home/vulf/.pyenv/versions/3.11.7/envs/acm-venv/lib/python3.11/site-packages/regelum/callback.py#1109\" target=\"_blank\"><span style=\"color: #7f7f7f; text-decoration-color: #7f7f7f\">1109</span></a>\n",
       "<span style=\"color: #7fbfbf; text-decoration-color: #7fbfbf\">           </span>         <span style=\"font-weight: bold\">[</span><span style=\"color: #008080; text-decoration-color: #008080; font-weight: bold\">0</span>.<span style=\"font-weight: bold\">]</span>, value: <span style=\"color: #008080; text-decoration-color: #008080; font-weight: bold\">0.0257</span>, time: <span style=\"color: #008080; text-decoration-color: #008080; font-weight: bold\">0.0060</span> <span style=\"font-weight: bold\">(</span><span style=\"color: #008080; text-decoration-color: #008080; font-weight: bold\">60.0</span>%<span style=\"font-weight: bold\">)</span>, episode: <span style=\"color: #008080; text-decoration-color: #008080; font-weight: bold\">1</span>/<span style=\"color: #008080; text-decoration-color: #008080; font-weight: bold\">1</span>, iteration: <span style=\"color: #008080; text-decoration-color: #008080; font-weight: bold\">1</span>/<span style=\"color: #008080; text-decoration-color: #008080; font-weight: bold\">1</span>        <span style=\"color: #7f7f7f; text-decoration-color: #7f7f7f\">                </span>\n",
       "</pre>\n"
      ],
      "text/plain": [
       "\u001b[2;36m[23:50:33]\u001b[0m\u001b[2;36m \u001b[0m\u001b[34mINFO    \u001b[0m runn. objective: \u001b[1;36m3.67\u001b[0m, state est.: \u001b[1m[\u001b[0m\u001b[1;36m1000\u001b[0m.\u001b[1m]\u001b[0m, observation: \u001b[1m[\u001b[0m\u001b[1;36m0\u001b[0m. \u001b[1;36m0\u001b[0m.\u001b[1m]\u001b[0m, action:      \u001b]8;id=85660;file:///home/vulf/.pyenv/versions/3.11.7/envs/acm-venv/lib/python3.11/site-packages/regelum/callback.py\u001b\\\u001b[2mcallback.py\u001b[0m\u001b]8;;\u001b\\\u001b[2m:\u001b[0m\u001b]8;id=764600;file:///home/vulf/.pyenv/versions/3.11.7/envs/acm-venv/lib/python3.11/site-packages/regelum/callback.py#1109\u001b\\\u001b[2m1109\u001b[0m\u001b]8;;\u001b\\\n",
       "\u001b[2;36m           \u001b[0m         \u001b[1m[\u001b[0m\u001b[1;36m0\u001b[0m.\u001b[1m]\u001b[0m, value: \u001b[1;36m0.0257\u001b[0m, time: \u001b[1;36m0.0060\u001b[0m \u001b[1m(\u001b[0m\u001b[1;36m60.0\u001b[0m%\u001b[1m)\u001b[0m, episode: \u001b[1;36m1\u001b[0m/\u001b[1;36m1\u001b[0m, iteration: \u001b[1;36m1\u001b[0m/\u001b[1;36m1\u001b[0m        \u001b[2m                \u001b[0m\n"
      ]
     },
     "metadata": {},
     "output_type": "display_data"
    },
    {
     "data": {
      "text/html": [
       "<pre style=\"white-space:pre;overflow-x:auto;line-height:normal;font-family:Menlo,'DejaVu Sans Mono',consolas,'Courier New',monospace\"><span style=\"color: #7fbfbf; text-decoration-color: #7fbfbf\">[23:50:39] </span><span style=\"color: #000080; text-decoration-color: #000080\">INFO    </span> runn. objective: <span style=\"color: #008080; text-decoration-color: #008080; font-weight: bold\">3.67</span>, state est.: <span style=\"font-weight: bold\">[</span><span style=\"color: #008080; text-decoration-color: #008080; font-weight: bold\">1000</span>.<span style=\"font-weight: bold\">]</span>, observation: <span style=\"font-weight: bold\">[</span><span style=\"color: #008080; text-decoration-color: #008080; font-weight: bold\">0</span>. <span style=\"color: #008080; text-decoration-color: #008080; font-weight: bold\">0</span>.<span style=\"font-weight: bold\">]</span>, action:      <a href=\"file:///home/vulf/.pyenv/versions/3.11.7/envs/acm-venv/lib/python3.11/site-packages/regelum/callback.py\" target=\"_blank\"><span style=\"color: #7f7f7f; text-decoration-color: #7f7f7f\">callback.py</span></a><span style=\"color: #7f7f7f; text-decoration-color: #7f7f7f\">:</span><a href=\"file:///home/vulf/.pyenv/versions/3.11.7/envs/acm-venv/lib/python3.11/site-packages/regelum/callback.py#1109\" target=\"_blank\"><span style=\"color: #7f7f7f; text-decoration-color: #7f7f7f\">1109</span></a>\n",
       "<span style=\"color: #7fbfbf; text-decoration-color: #7fbfbf\">           </span>         <span style=\"font-weight: bold\">[</span><span style=\"color: #008080; text-decoration-color: #008080; font-weight: bold\">0</span>.<span style=\"font-weight: bold\">]</span>, value: <span style=\"color: #008080; text-decoration-color: #008080; font-weight: bold\">0.0294</span>, time: <span style=\"color: #008080; text-decoration-color: #008080; font-weight: bold\">0.0070</span> <span style=\"font-weight: bold\">(</span><span style=\"color: #008080; text-decoration-color: #008080; font-weight: bold\">70.0</span>%<span style=\"font-weight: bold\">)</span>, episode: <span style=\"color: #008080; text-decoration-color: #008080; font-weight: bold\">1</span>/<span style=\"color: #008080; text-decoration-color: #008080; font-weight: bold\">1</span>, iteration: <span style=\"color: #008080; text-decoration-color: #008080; font-weight: bold\">1</span>/<span style=\"color: #008080; text-decoration-color: #008080; font-weight: bold\">1</span>        <span style=\"color: #7f7f7f; text-decoration-color: #7f7f7f\">                </span>\n",
       "</pre>\n"
      ],
      "text/plain": [
       "\u001b[2;36m[23:50:39]\u001b[0m\u001b[2;36m \u001b[0m\u001b[34mINFO    \u001b[0m runn. objective: \u001b[1;36m3.67\u001b[0m, state est.: \u001b[1m[\u001b[0m\u001b[1;36m1000\u001b[0m.\u001b[1m]\u001b[0m, observation: \u001b[1m[\u001b[0m\u001b[1;36m0\u001b[0m. \u001b[1;36m0\u001b[0m.\u001b[1m]\u001b[0m, action:      \u001b]8;id=960089;file:///home/vulf/.pyenv/versions/3.11.7/envs/acm-venv/lib/python3.11/site-packages/regelum/callback.py\u001b\\\u001b[2mcallback.py\u001b[0m\u001b]8;;\u001b\\\u001b[2m:\u001b[0m\u001b]8;id=521462;file:///home/vulf/.pyenv/versions/3.11.7/envs/acm-venv/lib/python3.11/site-packages/regelum/callback.py#1109\u001b\\\u001b[2m1109\u001b[0m\u001b]8;;\u001b\\\n",
       "\u001b[2;36m           \u001b[0m         \u001b[1m[\u001b[0m\u001b[1;36m0\u001b[0m.\u001b[1m]\u001b[0m, value: \u001b[1;36m0.0294\u001b[0m, time: \u001b[1;36m0.0070\u001b[0m \u001b[1m(\u001b[0m\u001b[1;36m70.0\u001b[0m%\u001b[1m)\u001b[0m, episode: \u001b[1;36m1\u001b[0m/\u001b[1;36m1\u001b[0m, iteration: \u001b[1;36m1\u001b[0m/\u001b[1;36m1\u001b[0m        \u001b[2m                \u001b[0m\n"
      ]
     },
     "metadata": {},
     "output_type": "display_data"
    },
    {
     "data": {
      "text/html": [
       "<pre style=\"white-space:pre;overflow-x:auto;line-height:normal;font-family:Menlo,'DejaVu Sans Mono',consolas,'Courier New',monospace\"><span style=\"color: #7fbfbf; text-decoration-color: #7fbfbf\">[23:50:45] </span><span style=\"color: #000080; text-decoration-color: #000080\">INFO    </span> runn. objective: <span style=\"color: #008080; text-decoration-color: #008080; font-weight: bold\">3.67</span>, state est.: <span style=\"font-weight: bold\">[</span><span style=\"color: #008080; text-decoration-color: #008080; font-weight: bold\">1000</span>.<span style=\"font-weight: bold\">]</span>, observation: <span style=\"font-weight: bold\">[</span><span style=\"color: #008080; text-decoration-color: #008080; font-weight: bold\">0</span>. <span style=\"color: #008080; text-decoration-color: #008080; font-weight: bold\">0</span>.<span style=\"font-weight: bold\">]</span>, action:      <a href=\"file:///home/vulf/.pyenv/versions/3.11.7/envs/acm-venv/lib/python3.11/site-packages/regelum/callback.py\" target=\"_blank\"><span style=\"color: #7f7f7f; text-decoration-color: #7f7f7f\">callback.py</span></a><span style=\"color: #7f7f7f; text-decoration-color: #7f7f7f\">:</span><a href=\"file:///home/vulf/.pyenv/versions/3.11.7/envs/acm-venv/lib/python3.11/site-packages/regelum/callback.py#1109\" target=\"_blank\"><span style=\"color: #7f7f7f; text-decoration-color: #7f7f7f\">1109</span></a>\n",
       "<span style=\"color: #7fbfbf; text-decoration-color: #7fbfbf\">           </span>         <span style=\"font-weight: bold\">[</span><span style=\"color: #008080; text-decoration-color: #008080; font-weight: bold\">0</span>.<span style=\"font-weight: bold\">]</span>, value: <span style=\"color: #008080; text-decoration-color: #008080; font-weight: bold\">0.0331</span>, time: <span style=\"color: #008080; text-decoration-color: #008080; font-weight: bold\">0.0080</span> <span style=\"font-weight: bold\">(</span><span style=\"color: #008080; text-decoration-color: #008080; font-weight: bold\">80.0</span>%<span style=\"font-weight: bold\">)</span>, episode: <span style=\"color: #008080; text-decoration-color: #008080; font-weight: bold\">1</span>/<span style=\"color: #008080; text-decoration-color: #008080; font-weight: bold\">1</span>, iteration: <span style=\"color: #008080; text-decoration-color: #008080; font-weight: bold\">1</span>/<span style=\"color: #008080; text-decoration-color: #008080; font-weight: bold\">1</span>        <span style=\"color: #7f7f7f; text-decoration-color: #7f7f7f\">                </span>\n",
       "</pre>\n"
      ],
      "text/plain": [
       "\u001b[2;36m[23:50:45]\u001b[0m\u001b[2;36m \u001b[0m\u001b[34mINFO    \u001b[0m runn. objective: \u001b[1;36m3.67\u001b[0m, state est.: \u001b[1m[\u001b[0m\u001b[1;36m1000\u001b[0m.\u001b[1m]\u001b[0m, observation: \u001b[1m[\u001b[0m\u001b[1;36m0\u001b[0m. \u001b[1;36m0\u001b[0m.\u001b[1m]\u001b[0m, action:      \u001b]8;id=643170;file:///home/vulf/.pyenv/versions/3.11.7/envs/acm-venv/lib/python3.11/site-packages/regelum/callback.py\u001b\\\u001b[2mcallback.py\u001b[0m\u001b]8;;\u001b\\\u001b[2m:\u001b[0m\u001b]8;id=24779;file:///home/vulf/.pyenv/versions/3.11.7/envs/acm-venv/lib/python3.11/site-packages/regelum/callback.py#1109\u001b\\\u001b[2m1109\u001b[0m\u001b]8;;\u001b\\\n",
       "\u001b[2;36m           \u001b[0m         \u001b[1m[\u001b[0m\u001b[1;36m0\u001b[0m.\u001b[1m]\u001b[0m, value: \u001b[1;36m0.0331\u001b[0m, time: \u001b[1;36m0.0080\u001b[0m \u001b[1m(\u001b[0m\u001b[1;36m80.0\u001b[0m%\u001b[1m)\u001b[0m, episode: \u001b[1;36m1\u001b[0m/\u001b[1;36m1\u001b[0m, iteration: \u001b[1;36m1\u001b[0m/\u001b[1;36m1\u001b[0m        \u001b[2m                \u001b[0m\n"
      ]
     },
     "metadata": {},
     "output_type": "display_data"
    },
    {
     "data": {
      "text/html": [
       "<pre style=\"white-space:pre;overflow-x:auto;line-height:normal;font-family:Menlo,'DejaVu Sans Mono',consolas,'Courier New',monospace\"><span style=\"color: #7fbfbf; text-decoration-color: #7fbfbf\">[23:50:51] </span><span style=\"color: #000080; text-decoration-color: #000080\">INFO    </span> runn. objective: <span style=\"color: #008080; text-decoration-color: #008080; font-weight: bold\">3.67</span>, state est.: <span style=\"font-weight: bold\">[</span><span style=\"color: #008080; text-decoration-color: #008080; font-weight: bold\">1000</span>.<span style=\"font-weight: bold\">]</span>, observation: <span style=\"font-weight: bold\">[</span><span style=\"color: #008080; text-decoration-color: #008080; font-weight: bold\">0</span>. <span style=\"color: #008080; text-decoration-color: #008080; font-weight: bold\">0</span>.<span style=\"font-weight: bold\">]</span>, action:      <a href=\"file:///home/vulf/.pyenv/versions/3.11.7/envs/acm-venv/lib/python3.11/site-packages/regelum/callback.py\" target=\"_blank\"><span style=\"color: #7f7f7f; text-decoration-color: #7f7f7f\">callback.py</span></a><span style=\"color: #7f7f7f; text-decoration-color: #7f7f7f\">:</span><a href=\"file:///home/vulf/.pyenv/versions/3.11.7/envs/acm-venv/lib/python3.11/site-packages/regelum/callback.py#1109\" target=\"_blank\"><span style=\"color: #7f7f7f; text-decoration-color: #7f7f7f\">1109</span></a>\n",
       "<span style=\"color: #7fbfbf; text-decoration-color: #7fbfbf\">           </span>         <span style=\"font-weight: bold\">[</span><span style=\"color: #008080; text-decoration-color: #008080; font-weight: bold\">0</span>.<span style=\"font-weight: bold\">]</span>, value: <span style=\"color: #008080; text-decoration-color: #008080; font-weight: bold\">0.0367</span>, time: <span style=\"color: #008080; text-decoration-color: #008080; font-weight: bold\">0.0090</span> <span style=\"font-weight: bold\">(</span><span style=\"color: #008080; text-decoration-color: #008080; font-weight: bold\">90.0</span>%<span style=\"font-weight: bold\">)</span>, episode: <span style=\"color: #008080; text-decoration-color: #008080; font-weight: bold\">1</span>/<span style=\"color: #008080; text-decoration-color: #008080; font-weight: bold\">1</span>, iteration: <span style=\"color: #008080; text-decoration-color: #008080; font-weight: bold\">1</span>/<span style=\"color: #008080; text-decoration-color: #008080; font-weight: bold\">1</span>        <span style=\"color: #7f7f7f; text-decoration-color: #7f7f7f\">                </span>\n",
       "</pre>\n"
      ],
      "text/plain": [
       "\u001b[2;36m[23:50:51]\u001b[0m\u001b[2;36m \u001b[0m\u001b[34mINFO    \u001b[0m runn. objective: \u001b[1;36m3.67\u001b[0m, state est.: \u001b[1m[\u001b[0m\u001b[1;36m1000\u001b[0m.\u001b[1m]\u001b[0m, observation: \u001b[1m[\u001b[0m\u001b[1;36m0\u001b[0m. \u001b[1;36m0\u001b[0m.\u001b[1m]\u001b[0m, action:      \u001b]8;id=515456;file:///home/vulf/.pyenv/versions/3.11.7/envs/acm-venv/lib/python3.11/site-packages/regelum/callback.py\u001b\\\u001b[2mcallback.py\u001b[0m\u001b]8;;\u001b\\\u001b[2m:\u001b[0m\u001b]8;id=351545;file:///home/vulf/.pyenv/versions/3.11.7/envs/acm-venv/lib/python3.11/site-packages/regelum/callback.py#1109\u001b\\\u001b[2m1109\u001b[0m\u001b]8;;\u001b\\\n",
       "\u001b[2;36m           \u001b[0m         \u001b[1m[\u001b[0m\u001b[1;36m0\u001b[0m.\u001b[1m]\u001b[0m, value: \u001b[1;36m0.0367\u001b[0m, time: \u001b[1;36m0.0090\u001b[0m \u001b[1m(\u001b[0m\u001b[1;36m90.0\u001b[0m%\u001b[1m)\u001b[0m, episode: \u001b[1;36m1\u001b[0m/\u001b[1;36m1\u001b[0m, iteration: \u001b[1;36m1\u001b[0m/\u001b[1;36m1\u001b[0m        \u001b[2m                \u001b[0m\n"
      ]
     },
     "metadata": {},
     "output_type": "display_data"
    },
    {
     "data": {
      "text/html": [
       "<pre style=\"white-space:pre;overflow-x:auto;line-height:normal;font-family:Menlo,'DejaVu Sans Mono',consolas,'Courier New',monospace\"><span style=\"color: #7fbfbf; text-decoration-color: #7fbfbf\">[23:50:57] </span><span style=\"color: #000080; text-decoration-color: #000080\">INFO    </span> runn. objective: <span style=\"color: #008080; text-decoration-color: #008080; font-weight: bold\">3.67</span>, state est.: <span style=\"font-weight: bold\">[</span><span style=\"color: #008080; text-decoration-color: #008080; font-weight: bold\">1000</span>.<span style=\"font-weight: bold\">]</span>, observation: <span style=\"font-weight: bold\">[</span><span style=\"color: #008080; text-decoration-color: #008080; font-weight: bold\">0</span>. <span style=\"color: #008080; text-decoration-color: #008080; font-weight: bold\">0</span>.<span style=\"font-weight: bold\">]</span>, action:      <a href=\"file:///home/vulf/.pyenv/versions/3.11.7/envs/acm-venv/lib/python3.11/site-packages/regelum/callback.py\" target=\"_blank\"><span style=\"color: #7f7f7f; text-decoration-color: #7f7f7f\">callback.py</span></a><span style=\"color: #7f7f7f; text-decoration-color: #7f7f7f\">:</span><a href=\"file:///home/vulf/.pyenv/versions/3.11.7/envs/acm-venv/lib/python3.11/site-packages/regelum/callback.py#1109\" target=\"_blank\"><span style=\"color: #7f7f7f; text-decoration-color: #7f7f7f\">1109</span></a>\n",
       "<span style=\"color: #7fbfbf; text-decoration-color: #7fbfbf\">           </span>         <span style=\"font-weight: bold\">[</span><span style=\"color: #008080; text-decoration-color: #008080; font-weight: bold\">0</span>.<span style=\"font-weight: bold\">]</span>, value: <span style=\"color: #008080; text-decoration-color: #008080; font-weight: bold\">0.0404</span>, time: <span style=\"color: #008080; text-decoration-color: #008080; font-weight: bold\">0.0100</span> <span style=\"font-weight: bold\">(</span><span style=\"color: #008080; text-decoration-color: #008080; font-weight: bold\">100.0</span>%<span style=\"font-weight: bold\">)</span>, episode: <span style=\"color: #008080; text-decoration-color: #008080; font-weight: bold\">1</span>/<span style=\"color: #008080; text-decoration-color: #008080; font-weight: bold\">1</span>, iteration: <span style=\"color: #008080; text-decoration-color: #008080; font-weight: bold\">1</span>/<span style=\"color: #008080; text-decoration-color: #008080; font-weight: bold\">1</span>       <span style=\"color: #7f7f7f; text-decoration-color: #7f7f7f\">                </span>\n",
       "</pre>\n"
      ],
      "text/plain": [
       "\u001b[2;36m[23:50:57]\u001b[0m\u001b[2;36m \u001b[0m\u001b[34mINFO    \u001b[0m runn. objective: \u001b[1;36m3.67\u001b[0m, state est.: \u001b[1m[\u001b[0m\u001b[1;36m1000\u001b[0m.\u001b[1m]\u001b[0m, observation: \u001b[1m[\u001b[0m\u001b[1;36m0\u001b[0m. \u001b[1;36m0\u001b[0m.\u001b[1m]\u001b[0m, action:      \u001b]8;id=156152;file:///home/vulf/.pyenv/versions/3.11.7/envs/acm-venv/lib/python3.11/site-packages/regelum/callback.py\u001b\\\u001b[2mcallback.py\u001b[0m\u001b]8;;\u001b\\\u001b[2m:\u001b[0m\u001b]8;id=402372;file:///home/vulf/.pyenv/versions/3.11.7/envs/acm-venv/lib/python3.11/site-packages/regelum/callback.py#1109\u001b\\\u001b[2m1109\u001b[0m\u001b]8;;\u001b\\\n",
       "\u001b[2;36m           \u001b[0m         \u001b[1m[\u001b[0m\u001b[1;36m0\u001b[0m.\u001b[1m]\u001b[0m, value: \u001b[1;36m0.0404\u001b[0m, time: \u001b[1;36m0.0100\u001b[0m \u001b[1m(\u001b[0m\u001b[1;36m100.0\u001b[0m%\u001b[1m)\u001b[0m, episode: \u001b[1;36m1\u001b[0m/\u001b[1;36m1\u001b[0m, iteration: \u001b[1;36m1\u001b[0m/\u001b[1;36m1\u001b[0m       \u001b[2m                \u001b[0m\n"
      ]
     },
     "metadata": {},
     "output_type": "display_data"
    }
   ],
   "source": [
    "# the output of the cell is omitted\n",
    "scenario.run()"
   ]
  },
  {
   "cell_type": "code",
   "execution_count": 23,
   "metadata": {},
   "outputs": [],
   "source": [
    "# time = 0\n",
    "# action = rg.array([10])\n",
    "# state = rg.array([1.005e3, 0, 0, p_atm, p_atm])\n",
    "# observation = system.get_observation(\n",
    "#     time=time,\n",
    "#     state=state,\n",
    "#     inputs=action\n",
    "# )\n",
    "# estimated_state = observer.get_state_estimation(\n",
    "#     t=time,\n",
    "#     observation=observation,\n",
    "#     action=action\n",
    "# )"
   ]
  },
  {
   "cell_type": "code",
   "execution_count": null,
   "metadata": {},
   "outputs": [],
   "source": []
  }
 ],
 "metadata": {
  "kernelspec": {
   "display_name": "acm-venv",
   "language": "python",
   "name": "python3"
  },
  "language_info": {
   "codemirror_mode": {
    "name": "ipython",
    "version": 3
   },
   "file_extension": ".py",
   "mimetype": "text/x-python",
   "name": "python",
   "nbconvert_exporter": "python",
   "pygments_lexer": "ipython3",
   "version": "3.11.7"
  }
 },
 "nbformat": 4,
 "nbformat_minor": 2
}
