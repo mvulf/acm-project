{
 "cells": [
  {
   "cell_type": "code",
   "execution_count": 1,
   "metadata": {},
   "outputs": [],
   "source": [
    "# from regelum.scenario import Scenario\n",
    "from regelum.simulator import CasADi\n",
    "import numpy as np\n",
    "\n",
    "from regelum.utils import rg\n",
    "from regelum.model import ModelWeightContainer\n",
    "# Max Iteration count may be added in opt_options={\"print_level\": 0, \"max_iter\": MAX_ITER},\n",
    "from regelum.optimizable.core.configs import CasadiOptimizerConfig\n",
    "from regelum.predictor import EulerPredictor\n",
    "from regelum.objective import RunningObjective\n",
    "from regelum.critic import CriticTrivial\n",
    "from regelum.scenario import RLScenario\n",
    "from regelum.event import Event\n",
    "\n",
    "import sys\n",
    "sys.path.append('../')\n",
    "\n",
    "from src.system import HydraulicSystem, StationaryHydraulicSystem\n",
    "from src.observer import StationaryHydraulicObserver\n",
    "from src.objective import HydraulicObjectiveModel\n",
    "from src.policy import MPC"
   ]
  },
  {
   "cell_type": "code",
   "execution_count": 2,
   "metadata": {},
   "outputs": [],
   "source": [
    "from regelum.callback import (\n",
    "    ScenarioStepLogger,\n",
    "    # StateTracker,\n",
    "    # HistoricalDataCallback,\n",
    ")\n",
    "from src.callback import HistoricalDataCallback, SimulatorStepLogger\n",
    "\n",
    "from regelum import set_ipython_env\n",
    "%matplotlib inline\n",
    "callbacks = [SimulatorStepLogger, ScenarioStepLogger, HistoricalDataCallback]\n",
    "ScenarioStepLogger.cooldown = 0.01\n",
    "callbacks = set_ipython_env(callbacks=callbacks, interactive=True)"
   ]
  },
  {
   "cell_type": "code",
   "execution_count": 3,
   "metadata": {},
   "outputs": [],
   "source": [
    "MAX_STEP = 1e-7\n",
    "PREDICTION_HORIZON = 5\n",
    "FINAL_TIME = 10e-3\n",
    "SAMPLING_TIME = 1e-3\n",
    "ACTION_SIZE = 1\n",
    "\n",
    "pred_step_size = 1 * SAMPLING_TIME\n",
    "\n",
    "# Define the initial state\n",
    "p_atm = 1e5\n",
    "initial_state = rg.array([1e3, 0, 0, p_atm, p_atm])\n",
    "\n",
    "model = ModelWeightContainer(\n",
    "    dim_output=ACTION_SIZE, \n",
    "    weights_init=rg.zeros((PREDICTION_HORIZON + 1, ACTION_SIZE), rc_type=rg.CASADI)\n",
    ")  # A trivial model contains our predicted actions\n",
    "\n",
    "system = HydraulicSystem(\n",
    "    init_state=initial_state\n",
    ")\n",
    "system_model = StationaryHydraulicSystem(\n",
    "    init_state=initial_state\n",
    ")\n",
    "observer = StationaryHydraulicObserver(\n",
    "    system=system_model\n",
    ")\n",
    "predictor = EulerPredictor(\n",
    "    system=system_model, pred_step_size=pred_step_size\n",
    ")  # Predictor is used for MPC-prediction\n",
    "\n",
    "# RUNNING OBJECTIVE\n",
    "running_objective_model = HydraulicObjectiveModel(\n",
    "    system=system_model,\n",
    "    quad_matrix_type=\"diagonal\", weights=[1, 0, 0]\n",
    ")  # A quadratic model for running (a.k.a. instant) objective. We \n",
    "running_objective = RunningObjective(\n",
    "    model=running_objective_model\n",
    ")  # Wrap `running_objective_model` into `RunningObjective` class\n",
    "\n",
    "simulator = CasADi(\n",
    "    system=system,\n",
    "    state_init=initial_state,\n",
    "    action_init=rg.array([0]),\n",
    "    time_final=FINAL_TIME,\n",
    "    max_step=MAX_STEP,\n",
    ")\n",
    "\n",
    "scenario = RLScenario(\n",
    "    policy=MPC(\n",
    "        model=model,\n",
    "        system=system_model,\n",
    "        action_bounds=system_model.action_bounds,\n",
    "        optimizer_config=CasadiOptimizerConfig(),\n",
    "        prediction_horizon=PREDICTION_HORIZON,\n",
    "        running_objective=running_objective,\n",
    "        predictor=predictor\n",
    "    ),\n",
    "    observer = observer,\n",
    "    critic=CriticTrivial(),  # mocked critic\n",
    "    running_objective=running_objective,\n",
    "    policy_optimization_event=Event.compute_action,  # run policy optimization on each step\n",
    "    discount_factor=1.0,\n",
    "    sampling_time=SAMPLING_TIME,\n",
    "    simulator=simulator,\n",
    "    N_episodes=1,\n",
    "    N_iterations=1,\n",
    ")"
   ]
  },
  {
   "cell_type": "code",
   "execution_count": 4,
   "metadata": {},
   "outputs": [
    {
     "name": "stdout",
     "output_type": "stream",
     "text": [
      "\n",
      "******************************************************************************\n",
      "This program contains Ipopt, a library for large-scale nonlinear optimization.\n",
      " Ipopt is released as open source code under the Eclipse Public License (EPL).\n",
      "         For more information visit https://github.com/coin-or/Ipopt\n",
      "******************************************************************************\n",
      "\n"
     ]
    },
    {
     "data": {
      "text/html": [
       "<pre style=\"white-space:pre;overflow-x:auto;line-height:normal;font-family:Menlo,'DejaVu Sans Mono',consolas,'Courier New',monospace\"><span style=\"color: #7fbfbf; text-decoration-color: #7fbfbf\">[11:19:48] </span><span style=\"color: #000080; text-decoration-color: #000080\">INFO    </span> runn. objective: <span style=\"color: #008080; text-decoration-color: #008080; font-weight: bold\">3.71</span>, state est.: <span style=\"font-weight: bold\">[</span><span style=\"color: #008080; text-decoration-color: #008080; font-weight: bold\">1000</span>.    <span style=\"color: #008080; text-decoration-color: #008080; font-weight: bold\">0</span>.    <span style=\"color: #008080; text-decoration-color: #008080; font-weight: bold\">0</span>.<span style=\"font-weight: bold\">]</span>, observation: <span style=\"font-weight: bold\">[</span><span style=\"color: #008080; text-decoration-color: #008080; font-weight: bold\">0</span>. <span style=\"color: #008080; text-decoration-color: #008080; font-weight: bold\">0</span>.<span style=\"font-weight: bold\">]</span>,  <a href=\"file:///Users/vulf/.pyenv/versions/3.11.8/envs/acm-env/lib/python3.11/site-packages/regelum/callback.py\" target=\"_blank\"><span style=\"color: #7f7f7f; text-decoration-color: #7f7f7f\">callback.py</span></a><span style=\"color: #7f7f7f; text-decoration-color: #7f7f7f\">:</span><a href=\"file:///Users/vulf/.pyenv/versions/3.11.8/envs/acm-env/lib/python3.11/site-packages/regelum/callback.py#1109\" target=\"_blank\"><span style=\"color: #7f7f7f; text-decoration-color: #7f7f7f\">1109</span></a>\n",
       "<span style=\"color: #7fbfbf; text-decoration-color: #7fbfbf\">           </span>         action: <span style=\"font-weight: bold\">[</span><span style=\"color: #008080; text-decoration-color: #008080; font-weight: bold\">20</span>.<span style=\"font-weight: bold\">]</span>, value: <span style=\"color: #008080; text-decoration-color: #008080; font-weight: bold\">0.0037</span>, time: <span style=\"color: #008080; text-decoration-color: #008080; font-weight: bold\">0.0000</span> <span style=\"font-weight: bold\">(</span><span style=\"color: #008080; text-decoration-color: #008080; font-weight: bold\">0.0</span>%<span style=\"font-weight: bold\">)</span>, episode: <span style=\"color: #008080; text-decoration-color: #008080; font-weight: bold\">1</span>/<span style=\"color: #008080; text-decoration-color: #008080; font-weight: bold\">1</span>, iteration:    <span style=\"color: #7f7f7f; text-decoration-color: #7f7f7f\">                </span>\n",
       "<span style=\"color: #7fbfbf; text-decoration-color: #7fbfbf\">           </span>         <span style=\"color: #008080; text-decoration-color: #008080; font-weight: bold\">1</span>/<span style=\"color: #008080; text-decoration-color: #008080; font-weight: bold\">1</span>                                                                            <span style=\"color: #7f7f7f; text-decoration-color: #7f7f7f\">                </span>\n",
       "</pre>\n"
      ],
      "text/plain": [
       "\u001b[2;36m[11:19:48]\u001b[0m\u001b[2;36m \u001b[0m\u001b[34mINFO    \u001b[0m runn. objective: \u001b[1;36m3.71\u001b[0m, state est.: \u001b[1m[\u001b[0m\u001b[1;36m1000\u001b[0m.    \u001b[1;36m0\u001b[0m.    \u001b[1;36m0\u001b[0m.\u001b[1m]\u001b[0m, observation: \u001b[1m[\u001b[0m\u001b[1;36m0\u001b[0m. \u001b[1;36m0\u001b[0m.\u001b[1m]\u001b[0m,  \u001b]8;id=450936;file:///Users/vulf/.pyenv/versions/3.11.8/envs/acm-env/lib/python3.11/site-packages/regelum/callback.py\u001b\\\u001b[2mcallback.py\u001b[0m\u001b]8;;\u001b\\\u001b[2m:\u001b[0m\u001b]8;id=323889;file:///Users/vulf/.pyenv/versions/3.11.8/envs/acm-env/lib/python3.11/site-packages/regelum/callback.py#1109\u001b\\\u001b[2m1109\u001b[0m\u001b]8;;\u001b\\\n",
       "\u001b[2;36m           \u001b[0m         action: \u001b[1m[\u001b[0m\u001b[1;36m20\u001b[0m.\u001b[1m]\u001b[0m, value: \u001b[1;36m0.0037\u001b[0m, time: \u001b[1;36m0.0000\u001b[0m \u001b[1m(\u001b[0m\u001b[1;36m0.0\u001b[0m%\u001b[1m)\u001b[0m, episode: \u001b[1;36m1\u001b[0m/\u001b[1;36m1\u001b[0m, iteration:    \u001b[2m                \u001b[0m\n",
       "\u001b[2;36m           \u001b[0m         \u001b[1;36m1\u001b[0m/\u001b[1;36m1\u001b[0m                                                                            \u001b[2m                \u001b[0m\n"
      ]
     },
     "metadata": {},
     "output_type": "display_data"
    },
    {
     "data": {
      "text/html": [
       "<pre style=\"white-space:pre;overflow-x:auto;line-height:normal;font-family:Menlo,'DejaVu Sans Mono',consolas,'Courier New',monospace\"><span style=\"color: #7fbfbf; text-decoration-color: #7fbfbf\">[11:19:54] </span><span style=\"color: #000080; text-decoration-color: #000080\">INFO    </span> runn. objective: <span style=\"color: #008080; text-decoration-color: #008080; font-weight: bold\">2.92</span>, state est.: <span style=\"font-weight: bold\">[</span><span style=\"color: #008080; text-decoration-color: #008080; font-weight: bold\">1000.06</span>  <span style=\"color: #008080; text-decoration-color: #008080; font-weight: bold\">117.74</span>    <span style=\"color: #008080; text-decoration-color: #008080; font-weight: bold\">7.86</span><span style=\"font-weight: bold\">]</span>, observation: <span style=\"font-weight: bold\">[</span>   <a href=\"file:///Users/vulf/.pyenv/versions/3.11.8/envs/acm-env/lib/python3.11/site-packages/regelum/callback.py\" target=\"_blank\"><span style=\"color: #7f7f7f; text-decoration-color: #7f7f7f\">callback.py</span></a><span style=\"color: #7f7f7f; text-decoration-color: #7f7f7f\">:</span><a href=\"file:///Users/vulf/.pyenv/versions/3.11.8/envs/acm-env/lib/python3.11/site-packages/regelum/callback.py#1109\" target=\"_blank\"><span style=\"color: #7f7f7f; text-decoration-color: #7f7f7f\">1109</span></a>\n",
       "<span style=\"color: #7fbfbf; text-decoration-color: #7fbfbf\">           </span>         <span style=\"color: #008080; text-decoration-color: #008080; font-weight: bold\">0.22</span> <span style=\"color: #008080; text-decoration-color: #008080; font-weight: bold\">432.48</span><span style=\"font-weight: bold\">]</span>, action: <span style=\"font-weight: bold\">[</span><span style=\"color: #008080; text-decoration-color: #008080; font-weight: bold\">20</span>.<span style=\"font-weight: bold\">]</span>, value: <span style=\"color: #008080; text-decoration-color: #008080; font-weight: bold\">0.0066</span>, time: <span style=\"color: #008080; text-decoration-color: #008080; font-weight: bold\">0.0010</span> <span style=\"font-weight: bold\">(</span><span style=\"color: #008080; text-decoration-color: #008080; font-weight: bold\">10.0</span>%<span style=\"font-weight: bold\">)</span>, episode:     <span style=\"color: #7f7f7f; text-decoration-color: #7f7f7f\">                </span>\n",
       "<span style=\"color: #7fbfbf; text-decoration-color: #7fbfbf\">           </span>         <span style=\"color: #008080; text-decoration-color: #008080; font-weight: bold\">1</span>/<span style=\"color: #008080; text-decoration-color: #008080; font-weight: bold\">1</span>, iteration: <span style=\"color: #008080; text-decoration-color: #008080; font-weight: bold\">1</span>/<span style=\"color: #008080; text-decoration-color: #008080; font-weight: bold\">1</span>                                                            <span style=\"color: #7f7f7f; text-decoration-color: #7f7f7f\">                </span>\n",
       "</pre>\n"
      ],
      "text/plain": [
       "\u001b[2;36m[11:19:54]\u001b[0m\u001b[2;36m \u001b[0m\u001b[34mINFO    \u001b[0m runn. objective: \u001b[1;36m2.92\u001b[0m, state est.: \u001b[1m[\u001b[0m\u001b[1;36m1000.06\u001b[0m  \u001b[1;36m117.74\u001b[0m    \u001b[1;36m7.86\u001b[0m\u001b[1m]\u001b[0m, observation: \u001b[1m[\u001b[0m   \u001b]8;id=273412;file:///Users/vulf/.pyenv/versions/3.11.8/envs/acm-env/lib/python3.11/site-packages/regelum/callback.py\u001b\\\u001b[2mcallback.py\u001b[0m\u001b]8;;\u001b\\\u001b[2m:\u001b[0m\u001b]8;id=677635;file:///Users/vulf/.pyenv/versions/3.11.8/envs/acm-env/lib/python3.11/site-packages/regelum/callback.py#1109\u001b\\\u001b[2m1109\u001b[0m\u001b]8;;\u001b\\\n",
       "\u001b[2;36m           \u001b[0m         \u001b[1;36m0.22\u001b[0m \u001b[1;36m432.48\u001b[0m\u001b[1m]\u001b[0m, action: \u001b[1m[\u001b[0m\u001b[1;36m20\u001b[0m.\u001b[1m]\u001b[0m, value: \u001b[1;36m0.0066\u001b[0m, time: \u001b[1;36m0.0010\u001b[0m \u001b[1m(\u001b[0m\u001b[1;36m10.0\u001b[0m%\u001b[1m)\u001b[0m, episode:     \u001b[2m                \u001b[0m\n",
       "\u001b[2;36m           \u001b[0m         \u001b[1;36m1\u001b[0m/\u001b[1;36m1\u001b[0m, iteration: \u001b[1;36m1\u001b[0m/\u001b[1;36m1\u001b[0m                                                            \u001b[2m                \u001b[0m\n"
      ]
     },
     "metadata": {},
     "output_type": "display_data"
    },
    {
     "data": {
      "text/html": [
       "<pre style=\"white-space:pre;overflow-x:auto;line-height:normal;font-family:Menlo,'DejaVu Sans Mono',consolas,'Courier New',monospace\"><span style=\"color: #7fbfbf; text-decoration-color: #7fbfbf\">[11:20:01] </span><span style=\"color: #000080; text-decoration-color: #000080\">INFO    </span> runn. objective: <span style=\"color: #008080; text-decoration-color: #008080; font-weight: bold\">1.29</span>, state est.: <span style=\"font-weight: bold\">[</span><span style=\"color: #008080; text-decoration-color: #008080; font-weight: bold\">1000.22</span>  <span style=\"color: #008080; text-decoration-color: #008080; font-weight: bold\">189</span>.     <span style=\"color: #008080; text-decoration-color: #008080; font-weight: bold\">12.63</span><span style=\"font-weight: bold\">]</span>, observation: <span style=\"font-weight: bold\">[</span>   <a href=\"file:///Users/vulf/.pyenv/versions/3.11.8/envs/acm-env/lib/python3.11/site-packages/regelum/callback.py\" target=\"_blank\"><span style=\"color: #7f7f7f; text-decoration-color: #7f7f7f\">callback.py</span></a><span style=\"color: #7f7f7f; text-decoration-color: #7f7f7f\">:</span><a href=\"file:///Users/vulf/.pyenv/versions/3.11.8/envs/acm-env/lib/python3.11/site-packages/regelum/callback.py#1109\" target=\"_blank\"><span style=\"color: #7f7f7f; text-decoration-color: #7f7f7f\">1109</span></a>\n",
       "<span style=\"color: #7fbfbf; text-decoration-color: #7fbfbf\">           </span>         <span style=\"color: #008080; text-decoration-color: #008080; font-weight: bold\">0.79</span> <span style=\"color: #008080; text-decoration-color: #008080; font-weight: bold\">694.23</span><span style=\"font-weight: bold\">]</span>, action: <span style=\"font-weight: bold\">[</span><span style=\"color: #008080; text-decoration-color: #008080; font-weight: bold\">3.37</span><span style=\"font-weight: bold\">]</span>, value: <span style=\"color: #008080; text-decoration-color: #008080; font-weight: bold\">0.0079</span>, time: <span style=\"color: #008080; text-decoration-color: #008080; font-weight: bold\">0.0020</span> <span style=\"font-weight: bold\">(</span><span style=\"color: #008080; text-decoration-color: #008080; font-weight: bold\">20.0</span>%<span style=\"font-weight: bold\">)</span>, episode:    <span style=\"color: #7f7f7f; text-decoration-color: #7f7f7f\">                </span>\n",
       "<span style=\"color: #7fbfbf; text-decoration-color: #7fbfbf\">           </span>         <span style=\"color: #008080; text-decoration-color: #008080; font-weight: bold\">1</span>/<span style=\"color: #008080; text-decoration-color: #008080; font-weight: bold\">1</span>, iteration: <span style=\"color: #008080; text-decoration-color: #008080; font-weight: bold\">1</span>/<span style=\"color: #008080; text-decoration-color: #008080; font-weight: bold\">1</span>                                                            <span style=\"color: #7f7f7f; text-decoration-color: #7f7f7f\">                </span>\n",
       "</pre>\n"
      ],
      "text/plain": [
       "\u001b[2;36m[11:20:01]\u001b[0m\u001b[2;36m \u001b[0m\u001b[34mINFO    \u001b[0m runn. objective: \u001b[1;36m1.29\u001b[0m, state est.: \u001b[1m[\u001b[0m\u001b[1;36m1000.22\u001b[0m  \u001b[1;36m189\u001b[0m.     \u001b[1;36m12.63\u001b[0m\u001b[1m]\u001b[0m, observation: \u001b[1m[\u001b[0m   \u001b]8;id=587439;file:///Users/vulf/.pyenv/versions/3.11.8/envs/acm-env/lib/python3.11/site-packages/regelum/callback.py\u001b\\\u001b[2mcallback.py\u001b[0m\u001b]8;;\u001b\\\u001b[2m:\u001b[0m\u001b]8;id=561534;file:///Users/vulf/.pyenv/versions/3.11.8/envs/acm-env/lib/python3.11/site-packages/regelum/callback.py#1109\u001b\\\u001b[2m1109\u001b[0m\u001b]8;;\u001b\\\n",
       "\u001b[2;36m           \u001b[0m         \u001b[1;36m0.79\u001b[0m \u001b[1;36m694.23\u001b[0m\u001b[1m]\u001b[0m, action: \u001b[1m[\u001b[0m\u001b[1;36m3.37\u001b[0m\u001b[1m]\u001b[0m, value: \u001b[1;36m0.0079\u001b[0m, time: \u001b[1;36m0.0020\u001b[0m \u001b[1m(\u001b[0m\u001b[1;36m20.0\u001b[0m%\u001b[1m)\u001b[0m, episode:    \u001b[2m                \u001b[0m\n",
       "\u001b[2;36m           \u001b[0m         \u001b[1;36m1\u001b[0m/\u001b[1;36m1\u001b[0m, iteration: \u001b[1;36m1\u001b[0m/\u001b[1;36m1\u001b[0m                                                            \u001b[2m                \u001b[0m\n"
      ]
     },
     "metadata": {},
     "output_type": "display_data"
    },
    {
     "data": {
      "text/html": [
       "<pre style=\"white-space:pre;overflow-x:auto;line-height:normal;font-family:Menlo,'DejaVu Sans Mono',consolas,'Courier New',monospace\"><span style=\"color: #7fbfbf; text-decoration-color: #7fbfbf\">[11:20:09] </span><span style=\"color: #000080; text-decoration-color: #000080\">INFO    </span> runn. objective: <span style=\"color: #008080; text-decoration-color: #008080; font-weight: bold\">0.30</span>, state est.: <span style=\"font-weight: bold\">[</span><span style=\"color: #008080; text-decoration-color: #008080; font-weight: bold\">1000.38</span>  <span style=\"color: #008080; text-decoration-color: #008080; font-weight: bold\">134.83</span>    <span style=\"color: #008080; text-decoration-color: #008080; font-weight: bold\">9</span>.  <span style=\"font-weight: bold\">]</span>, observation: <span style=\"font-weight: bold\">[</span>   <a href=\"file:///Users/vulf/.pyenv/versions/3.11.8/envs/acm-env/lib/python3.11/site-packages/regelum/callback.py\" target=\"_blank\"><span style=\"color: #7f7f7f; text-decoration-color: #7f7f7f\">callback.py</span></a><span style=\"color: #7f7f7f; text-decoration-color: #7f7f7f\">:</span><a href=\"file:///Users/vulf/.pyenv/versions/3.11.8/envs/acm-env/lib/python3.11/site-packages/regelum/callback.py#1109\" target=\"_blank\"><span style=\"color: #7f7f7f; text-decoration-color: #7f7f7f\">1109</span></a>\n",
       "<span style=\"color: #7fbfbf; text-decoration-color: #7fbfbf\">           </span>         <span style=\"color: #008080; text-decoration-color: #008080; font-weight: bold\">1.38</span> <span style=\"color: #008080; text-decoration-color: #008080; font-weight: bold\">495.24</span><span style=\"font-weight: bold\">]</span>, action: <span style=\"font-weight: bold\">[</span><span style=\"color: #008080; text-decoration-color: #008080; font-weight: bold\">-7.11</span><span style=\"font-weight: bold\">]</span>, value: <span style=\"color: #008080; text-decoration-color: #008080; font-weight: bold\">0.0082</span>, time: <span style=\"color: #008080; text-decoration-color: #008080; font-weight: bold\">0.0030</span> <span style=\"font-weight: bold\">(</span><span style=\"color: #008080; text-decoration-color: #008080; font-weight: bold\">30.0</span>%<span style=\"font-weight: bold\">)</span>, episode:   <span style=\"color: #7f7f7f; text-decoration-color: #7f7f7f\">                </span>\n",
       "<span style=\"color: #7fbfbf; text-decoration-color: #7fbfbf\">           </span>         <span style=\"color: #008080; text-decoration-color: #008080; font-weight: bold\">1</span>/<span style=\"color: #008080; text-decoration-color: #008080; font-weight: bold\">1</span>, iteration: <span style=\"color: #008080; text-decoration-color: #008080; font-weight: bold\">1</span>/<span style=\"color: #008080; text-decoration-color: #008080; font-weight: bold\">1</span>                                                            <span style=\"color: #7f7f7f; text-decoration-color: #7f7f7f\">                </span>\n",
       "</pre>\n"
      ],
      "text/plain": [
       "\u001b[2;36m[11:20:09]\u001b[0m\u001b[2;36m \u001b[0m\u001b[34mINFO    \u001b[0m runn. objective: \u001b[1;36m0.30\u001b[0m, state est.: \u001b[1m[\u001b[0m\u001b[1;36m1000.38\u001b[0m  \u001b[1;36m134.83\u001b[0m    \u001b[1;36m9\u001b[0m.  \u001b[1m]\u001b[0m, observation: \u001b[1m[\u001b[0m   \u001b]8;id=860310;file:///Users/vulf/.pyenv/versions/3.11.8/envs/acm-env/lib/python3.11/site-packages/regelum/callback.py\u001b\\\u001b[2mcallback.py\u001b[0m\u001b]8;;\u001b\\\u001b[2m:\u001b[0m\u001b]8;id=97916;file:///Users/vulf/.pyenv/versions/3.11.8/envs/acm-env/lib/python3.11/site-packages/regelum/callback.py#1109\u001b\\\u001b[2m1109\u001b[0m\u001b]8;;\u001b\\\n",
       "\u001b[2;36m           \u001b[0m         \u001b[1;36m1.38\u001b[0m \u001b[1;36m495.24\u001b[0m\u001b[1m]\u001b[0m, action: \u001b[1m[\u001b[0m\u001b[1;36m-7.11\u001b[0m\u001b[1m]\u001b[0m, value: \u001b[1;36m0.0082\u001b[0m, time: \u001b[1;36m0.0030\u001b[0m \u001b[1m(\u001b[0m\u001b[1;36m30.0\u001b[0m%\u001b[1m)\u001b[0m, episode:   \u001b[2m                \u001b[0m\n",
       "\u001b[2;36m           \u001b[0m         \u001b[1;36m1\u001b[0m/\u001b[1;36m1\u001b[0m, iteration: \u001b[1;36m1\u001b[0m/\u001b[1;36m1\u001b[0m                                                            \u001b[2m                \u001b[0m\n"
      ]
     },
     "metadata": {},
     "output_type": "display_data"
    },
    {
     "data": {
      "text/html": [
       "<pre style=\"white-space:pre;overflow-x:auto;line-height:normal;font-family:Menlo,'DejaVu Sans Mono',consolas,'Courier New',monospace\"><span style=\"color: #7fbfbf; text-decoration-color: #7fbfbf\">[11:20:20] </span><span style=\"color: #000080; text-decoration-color: #000080\">INFO    </span> runn. objective: <span style=\"color: #008080; text-decoration-color: #008080; font-weight: bold\">0.06</span>, state est.: <span style=\"font-weight: bold\">[</span><span style=\"color: #008080; text-decoration-color: #008080; font-weight: bold\">1000.46</span>   <span style=\"color: #008080; text-decoration-color: #008080; font-weight: bold\">39.89</span>    <span style=\"color: #008080; text-decoration-color: #008080; font-weight: bold\">2.66</span><span style=\"font-weight: bold\">]</span>, observation: <span style=\"font-weight: bold\">[</span>   <a href=\"file:///Users/vulf/.pyenv/versions/3.11.8/envs/acm-env/lib/python3.11/site-packages/regelum/callback.py\" target=\"_blank\"><span style=\"color: #7f7f7f; text-decoration-color: #7f7f7f\">callback.py</span></a><span style=\"color: #7f7f7f; text-decoration-color: #7f7f7f\">:</span><a href=\"file:///Users/vulf/.pyenv/versions/3.11.8/envs/acm-env/lib/python3.11/site-packages/regelum/callback.py#1109\" target=\"_blank\"><span style=\"color: #7f7f7f; text-decoration-color: #7f7f7f\">1109</span></a>\n",
       "<span style=\"color: #7fbfbf; text-decoration-color: #7fbfbf\">           </span>         <span style=\"color: #008080; text-decoration-color: #008080; font-weight: bold\">1.69</span> <span style=\"color: #008080; text-decoration-color: #008080; font-weight: bold\">146.52</span><span style=\"font-weight: bold\">]</span>, action: <span style=\"font-weight: bold\">[</span><span style=\"color: #008080; text-decoration-color: #008080; font-weight: bold\">0.75</span><span style=\"font-weight: bold\">]</span>, value: <span style=\"color: #008080; text-decoration-color: #008080; font-weight: bold\">0.0083</span>, time: <span style=\"color: #008080; text-decoration-color: #008080; font-weight: bold\">0.0040</span> <span style=\"font-weight: bold\">(</span><span style=\"color: #008080; text-decoration-color: #008080; font-weight: bold\">40.0</span>%<span style=\"font-weight: bold\">)</span>, episode:    <span style=\"color: #7f7f7f; text-decoration-color: #7f7f7f\">                </span>\n",
       "<span style=\"color: #7fbfbf; text-decoration-color: #7fbfbf\">           </span>         <span style=\"color: #008080; text-decoration-color: #008080; font-weight: bold\">1</span>/<span style=\"color: #008080; text-decoration-color: #008080; font-weight: bold\">1</span>, iteration: <span style=\"color: #008080; text-decoration-color: #008080; font-weight: bold\">1</span>/<span style=\"color: #008080; text-decoration-color: #008080; font-weight: bold\">1</span>                                                            <span style=\"color: #7f7f7f; text-decoration-color: #7f7f7f\">                </span>\n",
       "</pre>\n"
      ],
      "text/plain": [
       "\u001b[2;36m[11:20:20]\u001b[0m\u001b[2;36m \u001b[0m\u001b[34mINFO    \u001b[0m runn. objective: \u001b[1;36m0.06\u001b[0m, state est.: \u001b[1m[\u001b[0m\u001b[1;36m1000.46\u001b[0m   \u001b[1;36m39.89\u001b[0m    \u001b[1;36m2.66\u001b[0m\u001b[1m]\u001b[0m, observation: \u001b[1m[\u001b[0m   \u001b]8;id=346348;file:///Users/vulf/.pyenv/versions/3.11.8/envs/acm-env/lib/python3.11/site-packages/regelum/callback.py\u001b\\\u001b[2mcallback.py\u001b[0m\u001b]8;;\u001b\\\u001b[2m:\u001b[0m\u001b]8;id=987309;file:///Users/vulf/.pyenv/versions/3.11.8/envs/acm-env/lib/python3.11/site-packages/regelum/callback.py#1109\u001b\\\u001b[2m1109\u001b[0m\u001b]8;;\u001b\\\n",
       "\u001b[2;36m           \u001b[0m         \u001b[1;36m1.69\u001b[0m \u001b[1;36m146.52\u001b[0m\u001b[1m]\u001b[0m, action: \u001b[1m[\u001b[0m\u001b[1;36m0.75\u001b[0m\u001b[1m]\u001b[0m, value: \u001b[1;36m0.0083\u001b[0m, time: \u001b[1;36m0.0040\u001b[0m \u001b[1m(\u001b[0m\u001b[1;36m40.0\u001b[0m%\u001b[1m)\u001b[0m, episode:    \u001b[2m                \u001b[0m\n",
       "\u001b[2;36m           \u001b[0m         \u001b[1;36m1\u001b[0m/\u001b[1;36m1\u001b[0m, iteration: \u001b[1;36m1\u001b[0m/\u001b[1;36m1\u001b[0m                                                            \u001b[2m                \u001b[0m\n"
      ]
     },
     "metadata": {},
     "output_type": "display_data"
    },
    {
     "data": {
      "text/html": [
       "<pre style=\"white-space:pre;overflow-x:auto;line-height:normal;font-family:Menlo,'DejaVu Sans Mono',consolas,'Courier New',monospace\"><span style=\"color: #7fbfbf; text-decoration-color: #7fbfbf\">[11:20:31] </span><span style=\"color: #000080; text-decoration-color: #000080\">INFO    </span> runn. objective: <span style=\"color: #008080; text-decoration-color: #008080; font-weight: bold\">0.01</span>, state est.: <span style=\"font-weight: bold\">[</span><span style=\"color: #008080; text-decoration-color: #008080; font-weight: bold\">1000.49</span>   <span style=\"color: #008080; text-decoration-color: #008080; font-weight: bold\">28.6</span>     <span style=\"color: #008080; text-decoration-color: #008080; font-weight: bold\">1.91</span><span style=\"font-weight: bold\">]</span>, observation: <span style=\"font-weight: bold\">[</span>   <a href=\"file:///Users/vulf/.pyenv/versions/3.11.8/envs/acm-env/lib/python3.11/site-packages/regelum/callback.py\" target=\"_blank\"><span style=\"color: #7f7f7f; text-decoration-color: #7f7f7f\">callback.py</span></a><span style=\"color: #7f7f7f; text-decoration-color: #7f7f7f\">:</span><a href=\"file:///Users/vulf/.pyenv/versions/3.11.8/envs/acm-env/lib/python3.11/site-packages/regelum/callback.py#1109\" target=\"_blank\"><span style=\"color: #7f7f7f; text-decoration-color: #7f7f7f\">1109</span></a>\n",
       "<span style=\"color: #7fbfbf; text-decoration-color: #7fbfbf\">           </span>         <span style=\"color: #008080; text-decoration-color: #008080; font-weight: bold\">1.81</span> <span style=\"color: #008080; text-decoration-color: #008080; font-weight: bold\">105.06</span><span style=\"font-weight: bold\">]</span>, action: <span style=\"font-weight: bold\">[</span><span style=\"color: #008080; text-decoration-color: #008080; font-weight: bold\">-1.49</span><span style=\"font-weight: bold\">]</span>, value: <span style=\"color: #008080; text-decoration-color: #008080; font-weight: bold\">0.0083</span>, time: <span style=\"color: #008080; text-decoration-color: #008080; font-weight: bold\">0.0050</span> <span style=\"font-weight: bold\">(</span><span style=\"color: #008080; text-decoration-color: #008080; font-weight: bold\">50.0</span>%<span style=\"font-weight: bold\">)</span>, episode:   <span style=\"color: #7f7f7f; text-decoration-color: #7f7f7f\">                </span>\n",
       "<span style=\"color: #7fbfbf; text-decoration-color: #7fbfbf\">           </span>         <span style=\"color: #008080; text-decoration-color: #008080; font-weight: bold\">1</span>/<span style=\"color: #008080; text-decoration-color: #008080; font-weight: bold\">1</span>, iteration: <span style=\"color: #008080; text-decoration-color: #008080; font-weight: bold\">1</span>/<span style=\"color: #008080; text-decoration-color: #008080; font-weight: bold\">1</span>                                                            <span style=\"color: #7f7f7f; text-decoration-color: #7f7f7f\">                </span>\n",
       "</pre>\n"
      ],
      "text/plain": [
       "\u001b[2;36m[11:20:31]\u001b[0m\u001b[2;36m \u001b[0m\u001b[34mINFO    \u001b[0m runn. objective: \u001b[1;36m0.01\u001b[0m, state est.: \u001b[1m[\u001b[0m\u001b[1;36m1000.49\u001b[0m   \u001b[1;36m28.6\u001b[0m     \u001b[1;36m1.91\u001b[0m\u001b[1m]\u001b[0m, observation: \u001b[1m[\u001b[0m   \u001b]8;id=712276;file:///Users/vulf/.pyenv/versions/3.11.8/envs/acm-env/lib/python3.11/site-packages/regelum/callback.py\u001b\\\u001b[2mcallback.py\u001b[0m\u001b]8;;\u001b\\\u001b[2m:\u001b[0m\u001b]8;id=715107;file:///Users/vulf/.pyenv/versions/3.11.8/envs/acm-env/lib/python3.11/site-packages/regelum/callback.py#1109\u001b\\\u001b[2m1109\u001b[0m\u001b]8;;\u001b\\\n",
       "\u001b[2;36m           \u001b[0m         \u001b[1;36m1.81\u001b[0m \u001b[1;36m105.06\u001b[0m\u001b[1m]\u001b[0m, action: \u001b[1m[\u001b[0m\u001b[1;36m-1.49\u001b[0m\u001b[1m]\u001b[0m, value: \u001b[1;36m0.0083\u001b[0m, time: \u001b[1;36m0.0050\u001b[0m \u001b[1m(\u001b[0m\u001b[1;36m50.0\u001b[0m%\u001b[1m)\u001b[0m, episode:   \u001b[2m                \u001b[0m\n",
       "\u001b[2;36m           \u001b[0m         \u001b[1;36m1\u001b[0m/\u001b[1;36m1\u001b[0m, iteration: \u001b[1;36m1\u001b[0m/\u001b[1;36m1\u001b[0m                                                            \u001b[2m                \u001b[0m\n"
      ]
     },
     "metadata": {},
     "output_type": "display_data"
    },
    {
     "data": {
      "text/html": [
       "<pre style=\"white-space:pre;overflow-x:auto;line-height:normal;font-family:Menlo,'DejaVu Sans Mono',consolas,'Courier New',monospace\"><span style=\"color: #7fbfbf; text-decoration-color: #7fbfbf\">[11:20:45] </span><span style=\"color: #000080; text-decoration-color: #000080\">INFO    </span> runn. objective: <span style=\"color: #008080; text-decoration-color: #008080; font-weight: bold\">0.00</span>, state est.: <span style=\"font-weight: bold\">[</span><span style=\"color: #008080; text-decoration-color: #008080; font-weight: bold\">1000.51</span>    <span style=\"color: #008080; text-decoration-color: #008080; font-weight: bold\">8.55</span>    <span style=\"color: #008080; text-decoration-color: #008080; font-weight: bold\">0.57</span><span style=\"font-weight: bold\">]</span>, observation: <span style=\"font-weight: bold\">[</span>   <a href=\"file:///Users/vulf/.pyenv/versions/3.11.8/envs/acm-env/lib/python3.11/site-packages/regelum/callback.py\" target=\"_blank\"><span style=\"color: #7f7f7f; text-decoration-color: #7f7f7f\">callback.py</span></a><span style=\"color: #7f7f7f; text-decoration-color: #7f7f7f\">:</span><a href=\"file:///Users/vulf/.pyenv/versions/3.11.8/envs/acm-env/lib/python3.11/site-packages/regelum/callback.py#1109\" target=\"_blank\"><span style=\"color: #7f7f7f; text-decoration-color: #7f7f7f\">1109</span></a>\n",
       "<span style=\"color: #7fbfbf; text-decoration-color: #7fbfbf\">           </span>         <span style=\"color: #008080; text-decoration-color: #008080; font-weight: bold\">1.87</span> <span style=\"color: #008080; text-decoration-color: #008080; font-weight: bold\">31.39</span><span style=\"font-weight: bold\">]</span>, action: <span style=\"font-weight: bold\">[</span><span style=\"color: #008080; text-decoration-color: #008080; font-weight: bold\">0.15</span><span style=\"font-weight: bold\">]</span>, value: <span style=\"color: #008080; text-decoration-color: #008080; font-weight: bold\">0.0083</span>, time: <span style=\"color: #008080; text-decoration-color: #008080; font-weight: bold\">0.0060</span> <span style=\"font-weight: bold\">(</span><span style=\"color: #008080; text-decoration-color: #008080; font-weight: bold\">60.0</span>%<span style=\"font-weight: bold\">)</span>, episode:     <span style=\"color: #7f7f7f; text-decoration-color: #7f7f7f\">                </span>\n",
       "<span style=\"color: #7fbfbf; text-decoration-color: #7fbfbf\">           </span>         <span style=\"color: #008080; text-decoration-color: #008080; font-weight: bold\">1</span>/<span style=\"color: #008080; text-decoration-color: #008080; font-weight: bold\">1</span>, iteration: <span style=\"color: #008080; text-decoration-color: #008080; font-weight: bold\">1</span>/<span style=\"color: #008080; text-decoration-color: #008080; font-weight: bold\">1</span>                                                            <span style=\"color: #7f7f7f; text-decoration-color: #7f7f7f\">                </span>\n",
       "</pre>\n"
      ],
      "text/plain": [
       "\u001b[2;36m[11:20:45]\u001b[0m\u001b[2;36m \u001b[0m\u001b[34mINFO    \u001b[0m runn. objective: \u001b[1;36m0.00\u001b[0m, state est.: \u001b[1m[\u001b[0m\u001b[1;36m1000.51\u001b[0m    \u001b[1;36m8.55\u001b[0m    \u001b[1;36m0.57\u001b[0m\u001b[1m]\u001b[0m, observation: \u001b[1m[\u001b[0m   \u001b]8;id=62925;file:///Users/vulf/.pyenv/versions/3.11.8/envs/acm-env/lib/python3.11/site-packages/regelum/callback.py\u001b\\\u001b[2mcallback.py\u001b[0m\u001b]8;;\u001b\\\u001b[2m:\u001b[0m\u001b]8;id=622674;file:///Users/vulf/.pyenv/versions/3.11.8/envs/acm-env/lib/python3.11/site-packages/regelum/callback.py#1109\u001b\\\u001b[2m1109\u001b[0m\u001b]8;;\u001b\\\n",
       "\u001b[2;36m           \u001b[0m         \u001b[1;36m1.87\u001b[0m \u001b[1;36m31.39\u001b[0m\u001b[1m]\u001b[0m, action: \u001b[1m[\u001b[0m\u001b[1;36m0.15\u001b[0m\u001b[1m]\u001b[0m, value: \u001b[1;36m0.0083\u001b[0m, time: \u001b[1;36m0.0060\u001b[0m \u001b[1m(\u001b[0m\u001b[1;36m60.0\u001b[0m%\u001b[1m)\u001b[0m, episode:     \u001b[2m                \u001b[0m\n",
       "\u001b[2;36m           \u001b[0m         \u001b[1;36m1\u001b[0m/\u001b[1;36m1\u001b[0m, iteration: \u001b[1;36m1\u001b[0m/\u001b[1;36m1\u001b[0m                                                            \u001b[2m                \u001b[0m\n"
      ]
     },
     "metadata": {},
     "output_type": "display_data"
    },
    {
     "data": {
      "text/html": [
       "<pre style=\"white-space:pre;overflow-x:auto;line-height:normal;font-family:Menlo,'DejaVu Sans Mono',consolas,'Courier New',monospace\"><span style=\"color: #7fbfbf; text-decoration-color: #7fbfbf\">[11:21:01] </span><span style=\"color: #000080; text-decoration-color: #000080\">INFO    </span> runn. objective: <span style=\"color: #008080; text-decoration-color: #008080; font-weight: bold\">0.00</span>, state est.: <span style=\"font-weight: bold\">[</span><span style=\"color: #008080; text-decoration-color: #008080; font-weight: bold\">1000.52</span>    <span style=\"color: #008080; text-decoration-color: #008080; font-weight: bold\">6.09</span>    <span style=\"color: #008080; text-decoration-color: #008080; font-weight: bold\">0.41</span><span style=\"font-weight: bold\">]</span>, observation: <span style=\"font-weight: bold\">[</span>   <a href=\"file:///Users/vulf/.pyenv/versions/3.11.8/envs/acm-env/lib/python3.11/site-packages/regelum/callback.py\" target=\"_blank\"><span style=\"color: #7f7f7f; text-decoration-color: #7f7f7f\">callback.py</span></a><span style=\"color: #7f7f7f; text-decoration-color: #7f7f7f\">:</span><a href=\"file:///Users/vulf/.pyenv/versions/3.11.8/envs/acm-env/lib/python3.11/site-packages/regelum/callback.py#1109\" target=\"_blank\"><span style=\"color: #7f7f7f; text-decoration-color: #7f7f7f\">1109</span></a>\n",
       "<span style=\"color: #7fbfbf; text-decoration-color: #7fbfbf\">           </span>         <span style=\"color: #008080; text-decoration-color: #008080; font-weight: bold\">1.9</span>  <span style=\"color: #008080; text-decoration-color: #008080; font-weight: bold\">22.37</span><span style=\"font-weight: bold\">]</span>, action: <span style=\"font-weight: bold\">[</span><span style=\"color: #008080; text-decoration-color: #008080; font-weight: bold\">-0.32</span><span style=\"font-weight: bold\">]</span>, value: <span style=\"color: #008080; text-decoration-color: #008080; font-weight: bold\">0.0083</span>, time: <span style=\"color: #008080; text-decoration-color: #008080; font-weight: bold\">0.0070</span> <span style=\"font-weight: bold\">(</span><span style=\"color: #008080; text-decoration-color: #008080; font-weight: bold\">70.0</span>%<span style=\"font-weight: bold\">)</span>, episode:    <span style=\"color: #7f7f7f; text-decoration-color: #7f7f7f\">                </span>\n",
       "<span style=\"color: #7fbfbf; text-decoration-color: #7fbfbf\">           </span>         <span style=\"color: #008080; text-decoration-color: #008080; font-weight: bold\">1</span>/<span style=\"color: #008080; text-decoration-color: #008080; font-weight: bold\">1</span>, iteration: <span style=\"color: #008080; text-decoration-color: #008080; font-weight: bold\">1</span>/<span style=\"color: #008080; text-decoration-color: #008080; font-weight: bold\">1</span>                                                            <span style=\"color: #7f7f7f; text-decoration-color: #7f7f7f\">                </span>\n",
       "</pre>\n"
      ],
      "text/plain": [
       "\u001b[2;36m[11:21:01]\u001b[0m\u001b[2;36m \u001b[0m\u001b[34mINFO    \u001b[0m runn. objective: \u001b[1;36m0.00\u001b[0m, state est.: \u001b[1m[\u001b[0m\u001b[1;36m1000.52\u001b[0m    \u001b[1;36m6.09\u001b[0m    \u001b[1;36m0.41\u001b[0m\u001b[1m]\u001b[0m, observation: \u001b[1m[\u001b[0m   \u001b]8;id=477164;file:///Users/vulf/.pyenv/versions/3.11.8/envs/acm-env/lib/python3.11/site-packages/regelum/callback.py\u001b\\\u001b[2mcallback.py\u001b[0m\u001b]8;;\u001b\\\u001b[2m:\u001b[0m\u001b]8;id=41421;file:///Users/vulf/.pyenv/versions/3.11.8/envs/acm-env/lib/python3.11/site-packages/regelum/callback.py#1109\u001b\\\u001b[2m1109\u001b[0m\u001b]8;;\u001b\\\n",
       "\u001b[2;36m           \u001b[0m         \u001b[1;36m1.9\u001b[0m  \u001b[1;36m22.37\u001b[0m\u001b[1m]\u001b[0m, action: \u001b[1m[\u001b[0m\u001b[1;36m-0.32\u001b[0m\u001b[1m]\u001b[0m, value: \u001b[1;36m0.0083\u001b[0m, time: \u001b[1;36m0.0070\u001b[0m \u001b[1m(\u001b[0m\u001b[1;36m70.0\u001b[0m%\u001b[1m)\u001b[0m, episode:    \u001b[2m                \u001b[0m\n",
       "\u001b[2;36m           \u001b[0m         \u001b[1;36m1\u001b[0m/\u001b[1;36m1\u001b[0m, iteration: \u001b[1;36m1\u001b[0m/\u001b[1;36m1\u001b[0m                                                            \u001b[2m                \u001b[0m\n"
      ]
     },
     "metadata": {},
     "output_type": "display_data"
    },
    {
     "data": {
      "text/html": [
       "<pre style=\"white-space:pre;overflow-x:auto;line-height:normal;font-family:Menlo,'DejaVu Sans Mono',consolas,'Courier New',monospace\"><span style=\"color: #7fbfbf; text-decoration-color: #7fbfbf\">[11:21:18] </span><span style=\"color: #000080; text-decoration-color: #000080\">INFO    </span> runn. objective: <span style=\"color: #008080; text-decoration-color: #008080; font-weight: bold\">0.00</span>, state est.: <span style=\"font-weight: bold\">[</span><span style=\"color: #008080; text-decoration-color: #008080; font-weight: bold\">1000.52</span>    <span style=\"color: #008080; text-decoration-color: #008080; font-weight: bold\">1.83</span>    <span style=\"color: #008080; text-decoration-color: #008080; font-weight: bold\">0.12</span><span style=\"font-weight: bold\">]</span>, observation:     <a href=\"file:///Users/vulf/.pyenv/versions/3.11.8/envs/acm-env/lib/python3.11/site-packages/regelum/callback.py\" target=\"_blank\"><span style=\"color: #7f7f7f; text-decoration-color: #7f7f7f\">callback.py</span></a><span style=\"color: #7f7f7f; text-decoration-color: #7f7f7f\">:</span><a href=\"file:///Users/vulf/.pyenv/versions/3.11.8/envs/acm-env/lib/python3.11/site-packages/regelum/callback.py#1109\" target=\"_blank\"><span style=\"color: #7f7f7f; text-decoration-color: #7f7f7f\">1109</span></a>\n",
       "<span style=\"color: #7fbfbf; text-decoration-color: #7fbfbf\">           </span>         <span style=\"font-weight: bold\">[</span><span style=\"color: #008080; text-decoration-color: #008080; font-weight: bold\">1.92</span> <span style=\"color: #008080; text-decoration-color: #008080; font-weight: bold\">6.7</span> <span style=\"font-weight: bold\">]</span>, action: <span style=\"font-weight: bold\">[</span><span style=\"color: #008080; text-decoration-color: #008080; font-weight: bold\">0.03</span><span style=\"font-weight: bold\">]</span>, value: <span style=\"color: #008080; text-decoration-color: #008080; font-weight: bold\">0.0083</span>, time: <span style=\"color: #008080; text-decoration-color: #008080; font-weight: bold\">0.0080</span> <span style=\"font-weight: bold\">(</span><span style=\"color: #008080; text-decoration-color: #008080; font-weight: bold\">80.0</span>%<span style=\"font-weight: bold\">)</span>, episode:     <span style=\"color: #7f7f7f; text-decoration-color: #7f7f7f\">                </span>\n",
       "<span style=\"color: #7fbfbf; text-decoration-color: #7fbfbf\">           </span>         <span style=\"color: #008080; text-decoration-color: #008080; font-weight: bold\">1</span>/<span style=\"color: #008080; text-decoration-color: #008080; font-weight: bold\">1</span>, iteration: <span style=\"color: #008080; text-decoration-color: #008080; font-weight: bold\">1</span>/<span style=\"color: #008080; text-decoration-color: #008080; font-weight: bold\">1</span>                                                            <span style=\"color: #7f7f7f; text-decoration-color: #7f7f7f\">                </span>\n",
       "</pre>\n"
      ],
      "text/plain": [
       "\u001b[2;36m[11:21:18]\u001b[0m\u001b[2;36m \u001b[0m\u001b[34mINFO    \u001b[0m runn. objective: \u001b[1;36m0.00\u001b[0m, state est.: \u001b[1m[\u001b[0m\u001b[1;36m1000.52\u001b[0m    \u001b[1;36m1.83\u001b[0m    \u001b[1;36m0.12\u001b[0m\u001b[1m]\u001b[0m, observation:     \u001b]8;id=701334;file:///Users/vulf/.pyenv/versions/3.11.8/envs/acm-env/lib/python3.11/site-packages/regelum/callback.py\u001b\\\u001b[2mcallback.py\u001b[0m\u001b]8;;\u001b\\\u001b[2m:\u001b[0m\u001b]8;id=436463;file:///Users/vulf/.pyenv/versions/3.11.8/envs/acm-env/lib/python3.11/site-packages/regelum/callback.py#1109\u001b\\\u001b[2m1109\u001b[0m\u001b]8;;\u001b\\\n",
       "\u001b[2;36m           \u001b[0m         \u001b[1m[\u001b[0m\u001b[1;36m1.92\u001b[0m \u001b[1;36m6.7\u001b[0m \u001b[1m]\u001b[0m, action: \u001b[1m[\u001b[0m\u001b[1;36m0.03\u001b[0m\u001b[1m]\u001b[0m, value: \u001b[1;36m0.0083\u001b[0m, time: \u001b[1;36m0.0080\u001b[0m \u001b[1m(\u001b[0m\u001b[1;36m80.0\u001b[0m%\u001b[1m)\u001b[0m, episode:     \u001b[2m                \u001b[0m\n",
       "\u001b[2;36m           \u001b[0m         \u001b[1;36m1\u001b[0m/\u001b[1;36m1\u001b[0m, iteration: \u001b[1;36m1\u001b[0m/\u001b[1;36m1\u001b[0m                                                            \u001b[2m                \u001b[0m\n"
      ]
     },
     "metadata": {},
     "output_type": "display_data"
    },
    {
     "data": {
      "text/html": [
       "<pre style=\"white-space:pre;overflow-x:auto;line-height:normal;font-family:Menlo,'DejaVu Sans Mono',consolas,'Courier New',monospace\"><span style=\"color: #7fbfbf; text-decoration-color: #7fbfbf\">[11:21:36] </span><span style=\"color: #000080; text-decoration-color: #000080\">INFO    </span> runn. objective: <span style=\"color: #008080; text-decoration-color: #008080; font-weight: bold\">0.00</span>, state est.: <span style=\"font-weight: bold\">[</span><span style=\"color: #008080; text-decoration-color: #008080; font-weight: bold\">1000.52</span>    <span style=\"color: #008080; text-decoration-color: #008080; font-weight: bold\">1.29</span>    <span style=\"color: #008080; text-decoration-color: #008080; font-weight: bold\">0.09</span><span style=\"font-weight: bold\">]</span>, observation:     <a href=\"file:///Users/vulf/.pyenv/versions/3.11.8/envs/acm-env/lib/python3.11/site-packages/regelum/callback.py\" target=\"_blank\"><span style=\"color: #7f7f7f; text-decoration-color: #7f7f7f\">callback.py</span></a><span style=\"color: #7f7f7f; text-decoration-color: #7f7f7f\">:</span><a href=\"file:///Users/vulf/.pyenv/versions/3.11.8/envs/acm-env/lib/python3.11/site-packages/regelum/callback.py#1109\" target=\"_blank\"><span style=\"color: #7f7f7f; text-decoration-color: #7f7f7f\">1109</span></a>\n",
       "<span style=\"color: #7fbfbf; text-decoration-color: #7fbfbf\">           </span>         <span style=\"font-weight: bold\">[</span><span style=\"color: #008080; text-decoration-color: #008080; font-weight: bold\">1.92</span> <span style=\"color: #008080; text-decoration-color: #008080; font-weight: bold\">4.75</span><span style=\"font-weight: bold\">]</span>, action: <span style=\"font-weight: bold\">[</span><span style=\"color: #008080; text-decoration-color: #008080; font-weight: bold\">-0.07</span><span style=\"font-weight: bold\">]</span>, value: <span style=\"color: #008080; text-decoration-color: #008080; font-weight: bold\">0.0083</span>, time: <span style=\"color: #008080; text-decoration-color: #008080; font-weight: bold\">0.0090</span> <span style=\"font-weight: bold\">(</span><span style=\"color: #008080; text-decoration-color: #008080; font-weight: bold\">90.0</span>%<span style=\"font-weight: bold\">)</span>, episode:    <span style=\"color: #7f7f7f; text-decoration-color: #7f7f7f\">                </span>\n",
       "<span style=\"color: #7fbfbf; text-decoration-color: #7fbfbf\">           </span>         <span style=\"color: #008080; text-decoration-color: #008080; font-weight: bold\">1</span>/<span style=\"color: #008080; text-decoration-color: #008080; font-weight: bold\">1</span>, iteration: <span style=\"color: #008080; text-decoration-color: #008080; font-weight: bold\">1</span>/<span style=\"color: #008080; text-decoration-color: #008080; font-weight: bold\">1</span>                                                            <span style=\"color: #7f7f7f; text-decoration-color: #7f7f7f\">                </span>\n",
       "</pre>\n"
      ],
      "text/plain": [
       "\u001b[2;36m[11:21:36]\u001b[0m\u001b[2;36m \u001b[0m\u001b[34mINFO    \u001b[0m runn. objective: \u001b[1;36m0.00\u001b[0m, state est.: \u001b[1m[\u001b[0m\u001b[1;36m1000.52\u001b[0m    \u001b[1;36m1.29\u001b[0m    \u001b[1;36m0.09\u001b[0m\u001b[1m]\u001b[0m, observation:     \u001b]8;id=424201;file:///Users/vulf/.pyenv/versions/3.11.8/envs/acm-env/lib/python3.11/site-packages/regelum/callback.py\u001b\\\u001b[2mcallback.py\u001b[0m\u001b]8;;\u001b\\\u001b[2m:\u001b[0m\u001b]8;id=631087;file:///Users/vulf/.pyenv/versions/3.11.8/envs/acm-env/lib/python3.11/site-packages/regelum/callback.py#1109\u001b\\\u001b[2m1109\u001b[0m\u001b]8;;\u001b\\\n",
       "\u001b[2;36m           \u001b[0m         \u001b[1m[\u001b[0m\u001b[1;36m1.92\u001b[0m \u001b[1;36m4.75\u001b[0m\u001b[1m]\u001b[0m, action: \u001b[1m[\u001b[0m\u001b[1;36m-0.07\u001b[0m\u001b[1m]\u001b[0m, value: \u001b[1;36m0.0083\u001b[0m, time: \u001b[1;36m0.0090\u001b[0m \u001b[1m(\u001b[0m\u001b[1;36m90.0\u001b[0m%\u001b[1m)\u001b[0m, episode:    \u001b[2m                \u001b[0m\n",
       "\u001b[2;36m           \u001b[0m         \u001b[1;36m1\u001b[0m/\u001b[1;36m1\u001b[0m, iteration: \u001b[1;36m1\u001b[0m/\u001b[1;36m1\u001b[0m                                                            \u001b[2m                \u001b[0m\n"
      ]
     },
     "metadata": {},
     "output_type": "display_data"
    },
    {
     "data": {
      "text/html": [
       "<pre style=\"white-space:pre;overflow-x:auto;line-height:normal;font-family:Menlo,'DejaVu Sans Mono',consolas,'Courier New',monospace\"><span style=\"color: #7fbfbf; text-decoration-color: #7fbfbf\">[11:21:56] </span><span style=\"color: #000080; text-decoration-color: #000080\">INFO    </span> runn. objective: <span style=\"color: #008080; text-decoration-color: #008080; font-weight: bold\">0.00</span>, state est.: <span style=\"font-weight: bold\">[</span><span style=\"color: #008080; text-decoration-color: #008080; font-weight: bold\">1000.52</span>    <span style=\"color: #008080; text-decoration-color: #008080; font-weight: bold\">0.39</span>    <span style=\"color: #008080; text-decoration-color: #008080; font-weight: bold\">0.03</span><span style=\"font-weight: bold\">]</span>, observation:     <a href=\"file:///Users/vulf/.pyenv/versions/3.11.8/envs/acm-env/lib/python3.11/site-packages/regelum/callback.py\" target=\"_blank\"><span style=\"color: #7f7f7f; text-decoration-color: #7f7f7f\">callback.py</span></a><span style=\"color: #7f7f7f; text-decoration-color: #7f7f7f\">:</span><a href=\"file:///Users/vulf/.pyenv/versions/3.11.8/envs/acm-env/lib/python3.11/site-packages/regelum/callback.py#1109\" target=\"_blank\"><span style=\"color: #7f7f7f; text-decoration-color: #7f7f7f\">1109</span></a>\n",
       "<span style=\"color: #7fbfbf; text-decoration-color: #7fbfbf\">           </span>         <span style=\"font-weight: bold\">[</span><span style=\"color: #008080; text-decoration-color: #008080; font-weight: bold\">1.92</span> <span style=\"color: #008080; text-decoration-color: #008080; font-weight: bold\">1.45</span><span style=\"font-weight: bold\">]</span>, action: <span style=\"font-weight: bold\">[</span><span style=\"color: #008080; text-decoration-color: #008080; font-weight: bold\">0.01</span><span style=\"font-weight: bold\">]</span>, value: <span style=\"color: #008080; text-decoration-color: #008080; font-weight: bold\">0.0083</span>, time: <span style=\"color: #008080; text-decoration-color: #008080; font-weight: bold\">0.0100</span> <span style=\"font-weight: bold\">(</span><span style=\"color: #008080; text-decoration-color: #008080; font-weight: bold\">100.0</span>%<span style=\"font-weight: bold\">)</span>, episode:    <span style=\"color: #7f7f7f; text-decoration-color: #7f7f7f\">                </span>\n",
       "<span style=\"color: #7fbfbf; text-decoration-color: #7fbfbf\">           </span>         <span style=\"color: #008080; text-decoration-color: #008080; font-weight: bold\">1</span>/<span style=\"color: #008080; text-decoration-color: #008080; font-weight: bold\">1</span>, iteration: <span style=\"color: #008080; text-decoration-color: #008080; font-weight: bold\">1</span>/<span style=\"color: #008080; text-decoration-color: #008080; font-weight: bold\">1</span>                                                            <span style=\"color: #7f7f7f; text-decoration-color: #7f7f7f\">                </span>\n",
       "</pre>\n"
      ],
      "text/plain": [
       "\u001b[2;36m[11:21:56]\u001b[0m\u001b[2;36m \u001b[0m\u001b[34mINFO    \u001b[0m runn. objective: \u001b[1;36m0.00\u001b[0m, state est.: \u001b[1m[\u001b[0m\u001b[1;36m1000.52\u001b[0m    \u001b[1;36m0.39\u001b[0m    \u001b[1;36m0.03\u001b[0m\u001b[1m]\u001b[0m, observation:     \u001b]8;id=747362;file:///Users/vulf/.pyenv/versions/3.11.8/envs/acm-env/lib/python3.11/site-packages/regelum/callback.py\u001b\\\u001b[2mcallback.py\u001b[0m\u001b]8;;\u001b\\\u001b[2m:\u001b[0m\u001b]8;id=681196;file:///Users/vulf/.pyenv/versions/3.11.8/envs/acm-env/lib/python3.11/site-packages/regelum/callback.py#1109\u001b\\\u001b[2m1109\u001b[0m\u001b]8;;\u001b\\\n",
       "\u001b[2;36m           \u001b[0m         \u001b[1m[\u001b[0m\u001b[1;36m1.92\u001b[0m \u001b[1;36m1.45\u001b[0m\u001b[1m]\u001b[0m, action: \u001b[1m[\u001b[0m\u001b[1;36m0.01\u001b[0m\u001b[1m]\u001b[0m, value: \u001b[1;36m0.0083\u001b[0m, time: \u001b[1;36m0.0100\u001b[0m \u001b[1m(\u001b[0m\u001b[1;36m100.0\u001b[0m%\u001b[1m)\u001b[0m, episode:    \u001b[2m                \u001b[0m\n",
       "\u001b[2;36m           \u001b[0m         \u001b[1;36m1\u001b[0m/\u001b[1;36m1\u001b[0m, iteration: \u001b[1;36m1\u001b[0m/\u001b[1;36m1\u001b[0m                                                            \u001b[2m                \u001b[0m\n"
      ]
     },
     "metadata": {},
     "output_type": "display_data"
    }
   ],
   "source": [
    "# the output of the cell is omitted\n",
    "scenario.run()"
   ]
  },
  {
   "cell_type": "code",
   "execution_count": 5,
   "metadata": {},
   "outputs": [
    {
     "data": {
      "text/html": [
       "<div>\n",
       "<style scoped>\n",
       "    .dataframe tbody tr th:only-of-type {\n",
       "        vertical-align: middle;\n",
       "    }\n",
       "\n",
       "    .dataframe tbody tr th {\n",
       "        vertical-align: top;\n",
       "    }\n",
       "\n",
       "    .dataframe thead th {\n",
       "        text-align: right;\n",
       "    }\n",
       "</style>\n",
       "<table border=\"1\" class=\"dataframe\">\n",
       "  <thead>\n",
       "    <tr style=\"text-align: right;\">\n",
       "      <th></th>\n",
       "      <th>time</th>\n",
       "      <th>running_objective</th>\n",
       "      <th>current_value</th>\n",
       "      <th>episode_id</th>\n",
       "      <th>iteration_id</th>\n",
       "      <th>throttle action [µm]</th>\n",
       "      <th>jet length [mm]</th>\n",
       "      <th>jet velocity [mm/s]</th>\n",
       "      <th>piston position [µm]</th>\n",
       "      <th>piston velocity [µm/s]</th>\n",
       "      <th>throttle position [µm]</th>\n",
       "    </tr>\n",
       "  </thead>\n",
       "  <tbody>\n",
       "    <tr>\n",
       "      <th>0</th>\n",
       "      <td>0.000000</td>\n",
       "      <td>3.710643</td>\n",
       "      <td>0.003711</td>\n",
       "      <td>1</td>\n",
       "      <td>1</td>\n",
       "      <td>20.000000</td>\n",
       "      <td>0.000000</td>\n",
       "      <td>0.000000</td>\n",
       "      <td>1000.000000</td>\n",
       "      <td>0.000000</td>\n",
       "      <td>0.000000</td>\n",
       "    </tr>\n",
       "    <tr>\n",
       "      <th>1</th>\n",
       "      <td>0.001000</td>\n",
       "      <td>2.919688</td>\n",
       "      <td>0.006630</td>\n",
       "      <td>1</td>\n",
       "      <td>1</td>\n",
       "      <td>20.000000</td>\n",
       "      <td>0.217593</td>\n",
       "      <td>432.482032</td>\n",
       "      <td>1000.059240</td>\n",
       "      <td>117.743233</td>\n",
       "      <td>7.856631</td>\n",
       "    </tr>\n",
       "    <tr>\n",
       "      <th>2</th>\n",
       "      <td>0.002000</td>\n",
       "      <td>1.287058</td>\n",
       "      <td>0.007917</td>\n",
       "      <td>1</td>\n",
       "      <td>1</td>\n",
       "      <td>3.366563</td>\n",
       "      <td>0.791817</td>\n",
       "      <td>694.231119</td>\n",
       "      <td>1000.215572</td>\n",
       "      <td>189.004422</td>\n",
       "      <td>12.629617</td>\n",
       "    </tr>\n",
       "    <tr>\n",
       "      <th>3</th>\n",
       "      <td>0.003000</td>\n",
       "      <td>0.299487</td>\n",
       "      <td>0.008217</td>\n",
       "      <td>1</td>\n",
       "      <td>1</td>\n",
       "      <td>-7.111151</td>\n",
       "      <td>1.379049</td>\n",
       "      <td>495.240647</td>\n",
       "      <td>1000.375446</td>\n",
       "      <td>134.829266</td>\n",
       "      <td>8.999252</td>\n",
       "    </tr>\n",
       "    <tr>\n",
       "      <th>4</th>\n",
       "      <td>0.004000</td>\n",
       "      <td>0.057826</td>\n",
       "      <td>0.008275</td>\n",
       "      <td>1</td>\n",
       "      <td>1</td>\n",
       "      <td>0.750924</td>\n",
       "      <td>1.685832</td>\n",
       "      <td>146.520690</td>\n",
       "      <td>1000.458968</td>\n",
       "      <td>39.890258</td>\n",
       "      <td>2.659630</td>\n",
       "    </tr>\n",
       "    <tr>\n",
       "      <th>5</th>\n",
       "      <td>0.005000</td>\n",
       "      <td>0.013571</td>\n",
       "      <td>0.008288</td>\n",
       "      <td>1</td>\n",
       "      <td>1</td>\n",
       "      <td>-1.491658</td>\n",
       "      <td>1.809810</td>\n",
       "      <td>105.055304</td>\n",
       "      <td>1000.492721</td>\n",
       "      <td>28.601306</td>\n",
       "      <td>1.906858</td>\n",
       "    </tr>\n",
       "    <tr>\n",
       "      <th>6</th>\n",
       "      <td>0.006000</td>\n",
       "      <td>0.002634</td>\n",
       "      <td>0.008291</td>\n",
       "      <td>1</td>\n",
       "      <td>1</td>\n",
       "      <td>0.153753</td>\n",
       "      <td>1.874984</td>\n",
       "      <td>31.389021</td>\n",
       "      <td>1000.510464</td>\n",
       "      <td>8.545661</td>\n",
       "      <td>0.569714</td>\n",
       "    </tr>\n",
       "    <tr>\n",
       "      <th>7</th>\n",
       "      <td>0.007000</td>\n",
       "      <td>0.000616</td>\n",
       "      <td>0.008292</td>\n",
       "      <td>1</td>\n",
       "      <td>1</td>\n",
       "      <td>-0.316778</td>\n",
       "      <td>1.901481</td>\n",
       "      <td>22.365722</td>\n",
       "      <td>1000.517678</td>\n",
       "      <td>6.089068</td>\n",
       "      <td>0.405940</td>\n",
       "    </tr>\n",
       "    <tr>\n",
       "      <th>8</th>\n",
       "      <td>0.008000</td>\n",
       "      <td>0.000120</td>\n",
       "      <td>0.008292</td>\n",
       "      <td>1</td>\n",
       "      <td>1</td>\n",
       "      <td>0.031959</td>\n",
       "      <td>1.915365</td>\n",
       "      <td>6.704835</td>\n",
       "      <td>1000.521458</td>\n",
       "      <td>1.825391</td>\n",
       "      <td>0.121693</td>\n",
       "    </tr>\n",
       "    <tr>\n",
       "      <th>9</th>\n",
       "      <td>0.009000</td>\n",
       "      <td>0.000028</td>\n",
       "      <td>0.008292</td>\n",
       "      <td>1</td>\n",
       "      <td>1</td>\n",
       "      <td>-0.066606</td>\n",
       "      <td>1.921013</td>\n",
       "      <td>4.750175</td>\n",
       "      <td>1000.522996</td>\n",
       "      <td>1.293235</td>\n",
       "      <td>0.086216</td>\n",
       "    </tr>\n",
       "    <tr>\n",
       "      <th>10</th>\n",
       "      <td>0.009999</td>\n",
       "      <td>0.000005</td>\n",
       "      <td>0.008292</td>\n",
       "      <td>1</td>\n",
       "      <td>1</td>\n",
       "      <td>0.005521</td>\n",
       "      <td>1.923975</td>\n",
       "      <td>1.450710</td>\n",
       "      <td>1000.523802</td>\n",
       "      <td>0.394956</td>\n",
       "      <td>0.026330</td>\n",
       "    </tr>\n",
       "  </tbody>\n",
       "</table>\n",
       "</div>"
      ]
     },
     "metadata": {},
     "output_type": "display_data"
    },
    {
     "data": {
      "image/png": "[encoded data removed]"
     },
     "metadata": {},
     "output_type": "display_data"
    }
   ],
   "source": [
    "display(callbacks[-1].data)\n",
    "callbacks[-1].plot(name=\"observations\");"
   ]
  }
 ],
 "metadata": {
  "kernelspec": {
   "display_name": "acm-venv",
   "language": "python",
   "name": "python3"
  },
  "language_info": {
   "codemirror_mode": {
    "name": "ipython",
    "version": 3
   },
   "file_extension": ".py",
   "mimetype": "text/x-python",
   "name": "python",
   "nbconvert_exporter": "python",
   "pygments_lexer": "ipython3",
   "version": "3.11.8"
  }
 },
 "nbformat": 4,
 "nbformat_minor": 2
}
