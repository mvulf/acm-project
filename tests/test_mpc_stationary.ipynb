{
 "cells": [
  {
   "cell_type": "code",
   "execution_count": 1,
   "metadata": {},
   "outputs": [],
   "source": [
    "# from regelum.scenario import Scenario\n",
    "from regelum.simulator import CasADi\n",
    "import numpy as np\n",
    "from tqdm.notebook import tqdm\n",
    "\n",
    "import sys\n",
    "sys.path.append('../')\n",
    "\n",
    "from src.system import HydraulicSystem, HydraulicSystemStationary\n",
    "from src.observer import HydraulicStationaryObserver"
   ]
  },
  {
   "cell_type": "code",
   "execution_count": 2,
   "metadata": {},
   "outputs": [],
   "source": [
    "from regelum.policy import Policy\n",
    "from regelum.utils import rg\n",
    "from regelum.model import ModelWeightContainer\n",
    "from regelum.system import ComposedSystem, System\n",
    "# from regelum.optimizable.core.configs import CasadiOptimizerConfig\n",
    "from numpy import ndarray\n",
    "from regelum.model import Model, ModelNN, ModelQuadLin\n",
    "from regelum.optimizable.core.configs import OptimizerConfig\n",
    "from regelum.objective import mpc_objective\n",
    "from regelum.predictor import EulerPredictor\n",
    "from regelum.objective import RunningObjective\n",
    "from regelum.data_buffers import DataBuffer"
   ]
  },
  {
   "cell_type": "code",
   "execution_count": 3,
   "metadata": {},
   "outputs": [],
   "source": [
    "from regelum.callback import (\n",
    "    ScenarioStepLogger,\n",
    "    # StateTracker,\n",
    "    # HistoricalDataCallback,\n",
    ")\n",
    "from src.callback import HistoricalDataCallback, SimulatorStepLogger\n",
    "\n",
    "from regelum import set_ipython_env\n",
    "%matplotlib inline\n",
    "callbacks = [SimulatorStepLogger, ScenarioStepLogger, HistoricalDataCallback]\n",
    "ScenarioStepLogger.cooldown = 0.01\n",
    "callbacks = set_ipython_env(callbacks=callbacks, interactive=True)"
   ]
  },
  {
   "cell_type": "code",
   "execution_count": 4,
   "metadata": {},
   "outputs": [],
   "source": [
    "from regelum.model import ModelQuadLin\n",
    "\n",
    "# from regelum.typing import RgArray\n",
    "# from regelum.objective import Objective\n",
    "\n",
    "# class HydraulicObjective(Objective):\n",
    "#     def __init__(\n",
    "#         self,\n",
    "#         system: HydraulicSystemModel\n",
    "#     ):\n",
    "#         self.l_crit = system._parameters[\"l_crit\"]\n",
    "    \n",
    "#     def __call__(\n",
    "#         self, \n",
    "#         observation: RgArray, \n",
    "#         action: RgArray,\n",
    "#         is_save_batch_format = False,\n",
    "#     ):\n",
    "#         # return rg.array(\n",
    "#         #     [[(observation[:,0] - self.l_crit)**2]],\n",
    "#         #     prototype=observation\n",
    "#         # )\n",
    "        \n",
    "#         result = (observation[:,0] - self.l_crit)**2\n",
    "        \n",
    "#         return result[None, :]\n",
    "        \n",
    "#         # return rg.array(\n",
    "#         #     [result],\n",
    "#         #     prototype=observation\n",
    "#         # )\n",
    "\n",
    "class HydraulicObjectiveModel(ModelQuadLin):\n",
    "    \n",
    "    def __init__(\n",
    "        self,\n",
    "        system: HydraulicSystemStationary,\n",
    "        *args,\n",
    "        **kwargs\n",
    "    ):\n",
    "        super().__init__(*args, **kwargs)\n",
    "        \n",
    "        self.l_crit = system._parameters[\"l_crit\"]\n",
    "    \n",
    "    def forward(self, inputs, weights=None):\n",
    "        if weights is None:\n",
    "            weights = self.weights\n",
    "            quad_matrix = self._quad_matrix\n",
    "            linear_coefs = self._linear_coefs\n",
    "            # if isinstance(inputs, torch.Tensor):\n",
    "            #     quad_matrix = torch.FloatTensor(quad_matrix).to(inputs.device)\n",
    "            #     if linear_coefs is not None:\n",
    "            #         linear_coefs = torch.FloatTensor(linear_coefs).to(inputs.device)\n",
    "        else:\n",
    "            quad_matrix, linear_coefs = self.get_quad_lin(weights)\n",
    "\n",
    "        substract = rg.zeros(\n",
    "            inputs.shape,\n",
    "            prototype=inputs\n",
    "        )\n",
    "        \n",
    "        substract[:,0] = self.l_crit\n",
    "        \n",
    "        inputs -= substract\n",
    "\n",
    "        return ModelQuadLin.quadratic_linear_form(\n",
    "            inputs,\n",
    "            quad_matrix,\n",
    "            linear_coefs,\n",
    "        )"
   ]
  },
  {
   "cell_type": "code",
   "execution_count": 5,
   "metadata": {},
   "outputs": [],
   "source": [
    "MAX_STEP = 1e-7\n",
    "PREDICTION_HORIZON = 10\n",
    "# PREDICTION_HORIZON = 100\n",
    "FINAL_TIME = 10e-3\n",
    "SAMPLING_TIME = 1e-3\n",
    "ACTION_SIZE = 1\n",
    "\n",
    "pred_step_size = 1 * SAMPLING_TIME\n",
    "\n",
    "MAX_ITER = 5000\n",
    "\n",
    "import casadi\n",
    "\n",
    "class CasadiOptimizerConfig(OptimizerConfig):\n",
    "    \"\"\"Config for casadi-based optimizers.\"\"\"\n",
    "\n",
    "    def __init__(\n",
    "        self,\n",
    "        batch_size=1,\n",
    "    ) -> None:\n",
    "        \"\"\"Instantiate CasadiOptimizerConfig object.\n",
    "\n",
    "        Args:\n",
    "            batch_size (int, optional): How many latest samples to use\n",
    "                from `DataBuffer`, defaults to 1\n",
    "        \"\"\"\n",
    "        super().__init__(\n",
    "            kind=\"symbolic\",\n",
    "            opt_method=\"ipopt\",\n",
    "            opt_options={\"print_level\": 0, \"max_iter\": MAX_ITER},\n",
    "            log_options={\"print_in\": False, \"print_out\": False, \"print_time\": False},\n",
    "            config_options={\n",
    "                \"data_buffer_sampling_method\": \"sample_last\",\n",
    "                \"data_buffer_sampling_kwargs\": {\n",
    "                    \"n_samples\": batch_size,\n",
    "                    \"dtype\": casadi.DM,\n",
    "                },\n",
    "            },\n",
    "        )\n",
    "\n",
    "\n",
    "# Define the initial state (initial position of the kinematic point).\n",
    "p_atm = 1e5\n",
    "initial_state = rg.array([1e3, 0, 0, p_atm, p_atm])\n",
    "\n",
    "model = ModelWeightContainer(\n",
    "    dim_output=ACTION_SIZE, \n",
    "    weights_init=rg.zeros((PREDICTION_HORIZON + 1, ACTION_SIZE), rc_type=rg.CASADI)\n",
    ")  # A trivial model contains our predicted actions\n",
    "\n",
    "system = HydraulicSystem(\n",
    "    init_state=initial_state\n",
    ")\n",
    "system_model = HydraulicSystemStationary(\n",
    "    init_state=initial_state\n",
    ")\n",
    "observer = HydraulicStationaryObserver(\n",
    "    system=system_model\n",
    ")\n",
    "predictor = EulerPredictor(\n",
    "    system=system_model, pred_step_size=pred_step_size\n",
    ")  # Predictor is used for MPC-prediction\n",
    "\n",
    "# RUNNING OBJECTIVE\n",
    "running_objective_model = HydraulicObjectiveModel(\n",
    "    system=system_model,\n",
    "    quad_matrix_type=\"diagonal\", weights=[1, 0, 0]\n",
    ")  # A quadratic model for running (a.k.a. instant) objective. We \n",
    "running_objective = RunningObjective(\n",
    "    model=running_objective_model\n",
    ")  # Wrap `running_objective_model` into `RunningObjective` class\n",
    "\n",
    "class MPC(Policy):\n",
    "\n",
    "    def __init__(\n",
    "        self,\n",
    "        model: Model | ModelNN = model,\n",
    "        system: System | ComposedSystem = system_model,\n",
    "        action_bounds: list | ndarray | None = system_model.action_bounds,\n",
    "        optimizer_config: OptimizerConfig | None = CasadiOptimizerConfig(),\n",
    "        discount_factor: float | None = 1,\n",
    "        epsilon_random_parameter: float | None = None,\n",
    "        prediction_horizon: int = PREDICTION_HORIZON,\n",
    "        running_objective: RunningObjective = running_objective,\n",
    "        predictor: EulerPredictor = predictor,\n",
    "    ):\n",
    "        \"\"\"Instantiate MPC policy.\"\"\"\n",
    "        super().__init__(\n",
    "            model,\n",
    "            system,\n",
    "            action_bounds,\n",
    "            optimizer_config,\n",
    "            discount_factor,\n",
    "            epsilon_random_parameter,\n",
    "        )  # Initialize the parent `Policy` class.\n",
    "\n",
    "        self.prediction_horizon = prediction_horizon\n",
    "        self.running_objective = running_objective\n",
    "        self.predictor = predictor\n",
    "        ###### Define the optimization problem\n",
    "        self.observation_var = self.create_variable(\n",
    "            1,  # dimensionality of axis 0\n",
    "            self.system.dim_observation,  # dimensionality of axis 1\n",
    "            name=\"observation\",\n",
    "            is_constant=True,  # is_constant set to `True` as `observation` is a constant parameter of optimization\n",
    "        )\n",
    "        self.est_state_var = self.create_variable(\n",
    "            1,  # dimensionality of axis 0\n",
    "            self.system.dim_state,  # dimensionality of axis 1\n",
    "            name=\"estimated_state\",\n",
    "            is_constant=True,  # is_constant is set to `True` as `estimated_state` is a constant parameter of optimization\n",
    "        )\n",
    "        self.policy_model_weights_var = self.create_variable(\n",
    "            name=\"policy_model_weights\",\n",
    "            is_constant=False,  # is_constant is set to False because policy_model_weights is a decision variable in our optimization problem\n",
    "            like=self.model.named_parameters,  # like parameter utilizes the dimensions of the model's weights for compatibility\n",
    "        )\n",
    "        ## Let us register bounds for policy model weights to be within action bounds\n",
    "        (\n",
    "            self.action_bounds_tiled,\n",
    "            self.action_initial_guess,\n",
    "            self.action_min,\n",
    "            self.action_max,\n",
    "        ) = self.handle_bounds(\n",
    "            self.action_bounds,\n",
    "            self.dim_action,\n",
    "            tile_parameter=self.model.weights.shape[0],\n",
    "        )\n",
    "        self.register_bounds(self.policy_model_weights_var, self.action_bounds_tiled)\n",
    "\n",
    "        ## Make `Optimizable` aware of objective function and variables it depends on\n",
    "        self.register_objective(\n",
    "            self.cost,\n",
    "            variables=[\n",
    "                self.observation_var,\n",
    "                self.est_state_var,\n",
    "                self.policy_model_weights_var,\n",
    "            ],\n",
    "        )\n",
    "\n",
    "    def optimize(self, databuffer: DataBuffer) -> None:\n",
    "        \"\"\"Define optimization routine for `Optimizable` class.\"\"\"\n",
    "        new_weights = super().optimize_symbolic(\n",
    "            **databuffer.get_optimization_kwargs(\n",
    "                keys=[\"observation\", \"estimated_state\"],\n",
    "                optimizer_config=self.optimizer_config,\n",
    "            ),\n",
    "            policy_model_weights=self.policy_model_weights_var(),\n",
    "        )[\n",
    "            \"policy_model_weights\"\n",
    "        ]  # Get the optimized weights from `Optimizable` class\n",
    "        self.model.update_and_cache_weights(new_weights)\n",
    "\n",
    "    def cost(self, observation, estimated_state, policy_model_weights):\n",
    "        \"\"\"Cost function for MPC Policy.\"\"\"\n",
    "        return mpc_objective(\n",
    "            observation=observation,\n",
    "            estimated_state=estimated_state,\n",
    "            policy_model_weights=policy_model_weights,\n",
    "            discount_factor=self.discount_factor,\n",
    "            running_objective=self.running_objective,\n",
    "            prediction_horizon=self.prediction_horizon,\n",
    "            predictor=self.predictor,\n",
    "            model=self.model,\n",
    "        )  # Call `mpc_objective` function to get the cost of current state and sequence of predicted actions"
   ]
  },
  {
   "cell_type": "code",
   "execution_count": 6,
   "metadata": {},
   "outputs": [],
   "source": [
    "from regelum.critic import CriticTrivial\n",
    "from regelum.scenario import RLScenario\n",
    "# from src.scenario_temp import RLScenario\n",
    "from regelum.event import Event\n",
    "\n",
    "\n",
    "simulator = CasADi(\n",
    "    system=system,\n",
    "    state_init=initial_state,\n",
    "    action_init=rg.array([0]),\n",
    "    time_final=FINAL_TIME,\n",
    "    max_step=MAX_STEP,\n",
    "    # first_step=1e-6,\n",
    "    # atol=1e-5,\n",
    "    # rtol=1e-3,\n",
    ")\n",
    "\n",
    "scenario = RLScenario(\n",
    "    policy=MPC(),\n",
    "    observer = observer,\n",
    "    critic=CriticTrivial(),  # mocked critic\n",
    "    running_objective=running_objective,\n",
    "    policy_optimization_event=Event.compute_action,  # run policy optimization on each step\n",
    "    discount_factor=1.0,\n",
    "    sampling_time=SAMPLING_TIME,\n",
    "    simulator=simulator,\n",
    "    N_episodes=1,\n",
    "    N_iterations=1,\n",
    ")"
   ]
  },
  {
   "cell_type": "code",
   "execution_count": 7,
   "metadata": {},
   "outputs": [
    {
     "name": "stdout",
     "output_type": "stream",
     "text": [
      "\n",
      "******************************************************************************\n",
      "This program contains Ipopt, a library for large-scale nonlinear optimization.\n",
      " Ipopt is released as open source code under the Eclipse Public License (EPL).\n",
      "         For more information visit https://github.com/coin-or/Ipopt\n",
      "******************************************************************************\n",
      "\n"
     ]
    },
    {
     "data": {
      "text/html": [
       "<pre style=\"white-space:pre;overflow-x:auto;line-height:normal;font-family:Menlo,'DejaVu Sans Mono',consolas,'Courier New',monospace\"><span style=\"color: #7fbfbf; text-decoration-color: #7fbfbf\">[00:18:32] </span><span style=\"color: #000080; text-decoration-color: #000080\">INFO    </span> runn. objective: <span style=\"color: #008080; text-decoration-color: #008080; font-weight: bold\">3.67</span>, state est.: <span style=\"font-weight: bold\">[</span><span style=\"color: #008080; text-decoration-color: #008080; font-weight: bold\">1000</span>.<span style=\"font-weight: bold\">]</span>, observation: <span style=\"font-weight: bold\">[</span><span style=\"color: #008080; text-decoration-color: #008080; font-weight: bold\">0</span>. <span style=\"color: #008080; text-decoration-color: #008080; font-weight: bold\">0</span>.<span style=\"font-weight: bold\">]</span>, action:      <a href=\"file:///home/vulf/.pyenv/versions/3.11.7/envs/acm-venv/lib/python3.11/site-packages/regelum/callback.py\" target=\"_blank\"><span style=\"color: #7f7f7f; text-decoration-color: #7f7f7f\">callback.py</span></a><span style=\"color: #7f7f7f; text-decoration-color: #7f7f7f\">:</span><a href=\"file:///home/vulf/.pyenv/versions/3.11.7/envs/acm-venv/lib/python3.11/site-packages/regelum/callback.py#1109\" target=\"_blank\"><span style=\"color: #7f7f7f; text-decoration-color: #7f7f7f\">1109</span></a>\n",
       "<span style=\"color: #7fbfbf; text-decoration-color: #7fbfbf\">           </span>         <span style=\"font-weight: bold\">[</span><span style=\"color: #008080; text-decoration-color: #008080; font-weight: bold\">20</span>.<span style=\"font-weight: bold\">]</span>, value: <span style=\"color: #008080; text-decoration-color: #008080; font-weight: bold\">0.0037</span>, time: <span style=\"color: #008080; text-decoration-color: #008080; font-weight: bold\">0.0000</span> <span style=\"font-weight: bold\">(</span><span style=\"color: #008080; text-decoration-color: #008080; font-weight: bold\">0.0</span>%<span style=\"font-weight: bold\">)</span>, episode: <span style=\"color: #008080; text-decoration-color: #008080; font-weight: bold\">1</span>/<span style=\"color: #008080; text-decoration-color: #008080; font-weight: bold\">1</span>, iteration: <span style=\"color: #008080; text-decoration-color: #008080; font-weight: bold\">1</span>/<span style=\"color: #008080; text-decoration-color: #008080; font-weight: bold\">1</span>        <span style=\"color: #7f7f7f; text-decoration-color: #7f7f7f\">                </span>\n",
       "</pre>\n"
      ],
      "text/plain": [
       "\u001b[2;36m[00:18:32]\u001b[0m\u001b[2;36m \u001b[0m\u001b[34mINFO    \u001b[0m runn. objective: \u001b[1;36m3.67\u001b[0m, state est.: \u001b[1m[\u001b[0m\u001b[1;36m1000\u001b[0m.\u001b[1m]\u001b[0m, observation: \u001b[1m[\u001b[0m\u001b[1;36m0\u001b[0m. \u001b[1;36m0\u001b[0m.\u001b[1m]\u001b[0m, action:      \u001b]8;id=112086;file:///home/vulf/.pyenv/versions/3.11.7/envs/acm-venv/lib/python3.11/site-packages/regelum/callback.py\u001b\\\u001b[2mcallback.py\u001b[0m\u001b]8;;\u001b\\\u001b[2m:\u001b[0m\u001b]8;id=384541;file:///home/vulf/.pyenv/versions/3.11.7/envs/acm-venv/lib/python3.11/site-packages/regelum/callback.py#1109\u001b\\\u001b[2m1109\u001b[0m\u001b]8;;\u001b\\\n",
       "\u001b[2;36m           \u001b[0m         \u001b[1m[\u001b[0m\u001b[1;36m20\u001b[0m.\u001b[1m]\u001b[0m, value: \u001b[1;36m0.0037\u001b[0m, time: \u001b[1;36m0.0000\u001b[0m \u001b[1m(\u001b[0m\u001b[1;36m0.0\u001b[0m%\u001b[1m)\u001b[0m, episode: \u001b[1;36m1\u001b[0m/\u001b[1;36m1\u001b[0m, iteration: \u001b[1;36m1\u001b[0m/\u001b[1;36m1\u001b[0m        \u001b[2m                \u001b[0m\n"
      ]
     },
     "metadata": {},
     "output_type": "display_data"
    },
    {
     "data": {
      "text/html": [
       "<pre style=\"white-space:pre;overflow-x:auto;line-height:normal;font-family:Menlo,'DejaVu Sans Mono',consolas,'Courier New',monospace\"><span style=\"color: #7fbfbf; text-decoration-color: #7fbfbf\">[00:18:38] </span><span style=\"color: #000080; text-decoration-color: #000080\">INFO    </span> runn. objective: <span style=\"color: #008080; text-decoration-color: #008080; font-weight: bold\">2.89</span>, state est.: <span style=\"font-weight: bold\">[</span><span style=\"color: #008080; text-decoration-color: #008080; font-weight: bold\">1000.06</span><span style=\"font-weight: bold\">]</span>, observation: <span style=\"font-weight: bold\">[</span>  <span style=\"color: #008080; text-decoration-color: #008080; font-weight: bold\">0.22</span> <span style=\"color: #008080; text-decoration-color: #008080; font-weight: bold\">432.48</span><span style=\"font-weight: bold\">]</span>,    <a href=\"file:///home/vulf/.pyenv/versions/3.11.7/envs/acm-venv/lib/python3.11/site-packages/regelum/callback.py\" target=\"_blank\"><span style=\"color: #7f7f7f; text-decoration-color: #7f7f7f\">callback.py</span></a><span style=\"color: #7f7f7f; text-decoration-color: #7f7f7f\">:</span><a href=\"file:///home/vulf/.pyenv/versions/3.11.7/envs/acm-venv/lib/python3.11/site-packages/regelum/callback.py#1109\" target=\"_blank\"><span style=\"color: #7f7f7f; text-decoration-color: #7f7f7f\">1109</span></a>\n",
       "<span style=\"color: #7fbfbf; text-decoration-color: #7fbfbf\">           </span>         action: <span style=\"font-weight: bold\">[</span><span style=\"color: #008080; text-decoration-color: #008080; font-weight: bold\">20</span>.<span style=\"font-weight: bold\">]</span>, value: <span style=\"color: #008080; text-decoration-color: #008080; font-weight: bold\">0.0066</span>, time: <span style=\"color: #008080; text-decoration-color: #008080; font-weight: bold\">0.0010</span> <span style=\"font-weight: bold\">(</span><span style=\"color: #008080; text-decoration-color: #008080; font-weight: bold\">10.0</span>%<span style=\"font-weight: bold\">)</span>, episode: <span style=\"color: #008080; text-decoration-color: #008080; font-weight: bold\">1</span>/<span style=\"color: #008080; text-decoration-color: #008080; font-weight: bold\">1</span>, iteration:   <span style=\"color: #7f7f7f; text-decoration-color: #7f7f7f\">                </span>\n",
       "<span style=\"color: #7fbfbf; text-decoration-color: #7fbfbf\">           </span>         <span style=\"color: #008080; text-decoration-color: #008080; font-weight: bold\">1</span>/<span style=\"color: #008080; text-decoration-color: #008080; font-weight: bold\">1</span>                                                                            <span style=\"color: #7f7f7f; text-decoration-color: #7f7f7f\">                </span>\n",
       "</pre>\n"
      ],
      "text/plain": [
       "\u001b[2;36m[00:18:38]\u001b[0m\u001b[2;36m \u001b[0m\u001b[34mINFO    \u001b[0m runn. objective: \u001b[1;36m2.89\u001b[0m, state est.: \u001b[1m[\u001b[0m\u001b[1;36m1000.06\u001b[0m\u001b[1m]\u001b[0m, observation: \u001b[1m[\u001b[0m  \u001b[1;36m0.22\u001b[0m \u001b[1;36m432.48\u001b[0m\u001b[1m]\u001b[0m,    \u001b]8;id=995520;file:///home/vulf/.pyenv/versions/3.11.7/envs/acm-venv/lib/python3.11/site-packages/regelum/callback.py\u001b\\\u001b[2mcallback.py\u001b[0m\u001b]8;;\u001b\\\u001b[2m:\u001b[0m\u001b]8;id=415498;file:///home/vulf/.pyenv/versions/3.11.7/envs/acm-venv/lib/python3.11/site-packages/regelum/callback.py#1109\u001b\\\u001b[2m1109\u001b[0m\u001b]8;;\u001b\\\n",
       "\u001b[2;36m           \u001b[0m         action: \u001b[1m[\u001b[0m\u001b[1;36m20\u001b[0m.\u001b[1m]\u001b[0m, value: \u001b[1;36m0.0066\u001b[0m, time: \u001b[1;36m0.0010\u001b[0m \u001b[1m(\u001b[0m\u001b[1;36m10.0\u001b[0m%\u001b[1m)\u001b[0m, episode: \u001b[1;36m1\u001b[0m/\u001b[1;36m1\u001b[0m, iteration:   \u001b[2m                \u001b[0m\n",
       "\u001b[2;36m           \u001b[0m         \u001b[1;36m1\u001b[0m/\u001b[1;36m1\u001b[0m                                                                            \u001b[2m                \u001b[0m\n"
      ]
     },
     "metadata": {},
     "output_type": "display_data"
    },
    {
     "data": {
      "text/html": [
       "<pre style=\"white-space:pre;overflow-x:auto;line-height:normal;font-family:Menlo,'DejaVu Sans Mono',consolas,'Courier New',monospace\"><span style=\"color: #7fbfbf; text-decoration-color: #7fbfbf\">[00:18:45] </span><span style=\"color: #000080; text-decoration-color: #000080\">INFO    </span> runn. objective: <span style=\"color: #008080; text-decoration-color: #008080; font-weight: bold\">1.27</span>, state est.: <span style=\"font-weight: bold\">[</span><span style=\"color: #008080; text-decoration-color: #008080; font-weight: bold\">1000.22</span><span style=\"font-weight: bold\">]</span>, observation: <span style=\"font-weight: bold\">[</span>  <span style=\"color: #008080; text-decoration-color: #008080; font-weight: bold\">0.79</span> <span style=\"color: #008080; text-decoration-color: #008080; font-weight: bold\">694.23</span><span style=\"font-weight: bold\">]</span>,    <a href=\"file:///home/vulf/.pyenv/versions/3.11.7/envs/acm-venv/lib/python3.11/site-packages/regelum/callback.py\" target=\"_blank\"><span style=\"color: #7f7f7f; text-decoration-color: #7f7f7f\">callback.py</span></a><span style=\"color: #7f7f7f; text-decoration-color: #7f7f7f\">:</span><a href=\"file:///home/vulf/.pyenv/versions/3.11.7/envs/acm-venv/lib/python3.11/site-packages/regelum/callback.py#1109\" target=\"_blank\"><span style=\"color: #7f7f7f; text-decoration-color: #7f7f7f\">1109</span></a>\n",
       "<span style=\"color: #7fbfbf; text-decoration-color: #7fbfbf\">           </span>         action: <span style=\"font-weight: bold\">[</span><span style=\"color: #008080; text-decoration-color: #008080; font-weight: bold\">20</span>.<span style=\"font-weight: bold\">]</span>, value: <span style=\"color: #008080; text-decoration-color: #008080; font-weight: bold\">0.0078</span>, time: <span style=\"color: #008080; text-decoration-color: #008080; font-weight: bold\">0.0020</span> <span style=\"font-weight: bold\">(</span><span style=\"color: #008080; text-decoration-color: #008080; font-weight: bold\">20.0</span>%<span style=\"font-weight: bold\">)</span>, episode: <span style=\"color: #008080; text-decoration-color: #008080; font-weight: bold\">1</span>/<span style=\"color: #008080; text-decoration-color: #008080; font-weight: bold\">1</span>, iteration:   <span style=\"color: #7f7f7f; text-decoration-color: #7f7f7f\">                </span>\n",
       "<span style=\"color: #7fbfbf; text-decoration-color: #7fbfbf\">           </span>         <span style=\"color: #008080; text-decoration-color: #008080; font-weight: bold\">1</span>/<span style=\"color: #008080; text-decoration-color: #008080; font-weight: bold\">1</span>                                                                            <span style=\"color: #7f7f7f; text-decoration-color: #7f7f7f\">                </span>\n",
       "</pre>\n"
      ],
      "text/plain": [
       "\u001b[2;36m[00:18:45]\u001b[0m\u001b[2;36m \u001b[0m\u001b[34mINFO    \u001b[0m runn. objective: \u001b[1;36m1.27\u001b[0m, state est.: \u001b[1m[\u001b[0m\u001b[1;36m1000.22\u001b[0m\u001b[1m]\u001b[0m, observation: \u001b[1m[\u001b[0m  \u001b[1;36m0.79\u001b[0m \u001b[1;36m694.23\u001b[0m\u001b[1m]\u001b[0m,    \u001b]8;id=367765;file:///home/vulf/.pyenv/versions/3.11.7/envs/acm-venv/lib/python3.11/site-packages/regelum/callback.py\u001b\\\u001b[2mcallback.py\u001b[0m\u001b]8;;\u001b\\\u001b[2m:\u001b[0m\u001b]8;id=605422;file:///home/vulf/.pyenv/versions/3.11.7/envs/acm-venv/lib/python3.11/site-packages/regelum/callback.py#1109\u001b\\\u001b[2m1109\u001b[0m\u001b]8;;\u001b\\\n",
       "\u001b[2;36m           \u001b[0m         action: \u001b[1m[\u001b[0m\u001b[1;36m20\u001b[0m.\u001b[1m]\u001b[0m, value: \u001b[1;36m0.0078\u001b[0m, time: \u001b[1;36m0.0020\u001b[0m \u001b[1m(\u001b[0m\u001b[1;36m20.0\u001b[0m%\u001b[1m)\u001b[0m, episode: \u001b[1;36m1\u001b[0m/\u001b[1;36m1\u001b[0m, iteration:   \u001b[2m                \u001b[0m\n",
       "\u001b[2;36m           \u001b[0m         \u001b[1;36m1\u001b[0m/\u001b[1;36m1\u001b[0m                                                                            \u001b[2m                \u001b[0m\n"
      ]
     },
     "metadata": {},
     "output_type": "display_data"
    },
    {
     "data": {
      "text/html": [
       "<pre style=\"white-space:pre;overflow-x:auto;line-height:normal;font-family:Menlo,'DejaVu Sans Mono',consolas,'Courier New',monospace\"><span style=\"color: #7fbfbf; text-decoration-color: #7fbfbf\">[00:18:51] </span><span style=\"color: #000080; text-decoration-color: #000080\">INFO    </span> runn. objective: <span style=\"color: #008080; text-decoration-color: #008080; font-weight: bold\">0.12</span>, state est.: <span style=\"font-weight: bold\">[</span><span style=\"color: #008080; text-decoration-color: #008080; font-weight: bold\">1000.43</span><span style=\"font-weight: bold\">]</span>, observation: <span style=\"font-weight: bold\">[</span>  <span style=\"color: #008080; text-decoration-color: #008080; font-weight: bold\">1.57</span> <span style=\"color: #008080; text-decoration-color: #008080; font-weight: bold\">852.54</span><span style=\"font-weight: bold\">]</span>,    <a href=\"file:///home/vulf/.pyenv/versions/3.11.7/envs/acm-venv/lib/python3.11/site-packages/regelum/callback.py\" target=\"_blank\"><span style=\"color: #7f7f7f; text-decoration-color: #7f7f7f\">callback.py</span></a><span style=\"color: #7f7f7f; text-decoration-color: #7f7f7f\">:</span><a href=\"file:///home/vulf/.pyenv/versions/3.11.7/envs/acm-venv/lib/python3.11/site-packages/regelum/callback.py#1109\" target=\"_blank\"><span style=\"color: #7f7f7f; text-decoration-color: #7f7f7f\">1109</span></a>\n",
       "<span style=\"color: #7fbfbf; text-decoration-color: #7fbfbf\">           </span>         action: <span style=\"font-weight: bold\">[</span><span style=\"color: #008080; text-decoration-color: #008080; font-weight: bold\">6.26</span><span style=\"font-weight: bold\">]</span>, value: <span style=\"color: #008080; text-decoration-color: #008080; font-weight: bold\">0.0079</span>, time: <span style=\"color: #008080; text-decoration-color: #008080; font-weight: bold\">0.0030</span> <span style=\"font-weight: bold\">(</span><span style=\"color: #008080; text-decoration-color: #008080; font-weight: bold\">30.0</span>%<span style=\"font-weight: bold\">)</span>, episode: <span style=\"color: #008080; text-decoration-color: #008080; font-weight: bold\">1</span>/<span style=\"color: #008080; text-decoration-color: #008080; font-weight: bold\">1</span>, iteration:  <span style=\"color: #7f7f7f; text-decoration-color: #7f7f7f\">                </span>\n",
       "<span style=\"color: #7fbfbf; text-decoration-color: #7fbfbf\">           </span>         <span style=\"color: #008080; text-decoration-color: #008080; font-weight: bold\">1</span>/<span style=\"color: #008080; text-decoration-color: #008080; font-weight: bold\">1</span>                                                                            <span style=\"color: #7f7f7f; text-decoration-color: #7f7f7f\">                </span>\n",
       "</pre>\n"
      ],
      "text/plain": [
       "\u001b[2;36m[00:18:51]\u001b[0m\u001b[2;36m \u001b[0m\u001b[34mINFO    \u001b[0m runn. objective: \u001b[1;36m0.12\u001b[0m, state est.: \u001b[1m[\u001b[0m\u001b[1;36m1000.43\u001b[0m\u001b[1m]\u001b[0m, observation: \u001b[1m[\u001b[0m  \u001b[1;36m1.57\u001b[0m \u001b[1;36m852.54\u001b[0m\u001b[1m]\u001b[0m,    \u001b]8;id=148700;file:///home/vulf/.pyenv/versions/3.11.7/envs/acm-venv/lib/python3.11/site-packages/regelum/callback.py\u001b\\\u001b[2mcallback.py\u001b[0m\u001b]8;;\u001b\\\u001b[2m:\u001b[0m\u001b]8;id=870215;file:///home/vulf/.pyenv/versions/3.11.7/envs/acm-venv/lib/python3.11/site-packages/regelum/callback.py#1109\u001b\\\u001b[2m1109\u001b[0m\u001b]8;;\u001b\\\n",
       "\u001b[2;36m           \u001b[0m         action: \u001b[1m[\u001b[0m\u001b[1;36m6.26\u001b[0m\u001b[1m]\u001b[0m, value: \u001b[1;36m0.0079\u001b[0m, time: \u001b[1;36m0.0030\u001b[0m \u001b[1m(\u001b[0m\u001b[1;36m30.0\u001b[0m%\u001b[1m)\u001b[0m, episode: \u001b[1;36m1\u001b[0m/\u001b[1;36m1\u001b[0m, iteration:  \u001b[2m                \u001b[0m\n",
       "\u001b[2;36m           \u001b[0m         \u001b[1;36m1\u001b[0m/\u001b[1;36m1\u001b[0m                                                                            \u001b[2m                \u001b[0m\n"
      ]
     },
     "metadata": {},
     "output_type": "display_data"
    },
    {
     "data": {
      "text/html": [
       "<pre style=\"white-space:pre;overflow-x:auto;line-height:normal;font-family:Menlo,'DejaVu Sans Mono',consolas,'Courier New',monospace\"><span style=\"color: #7fbfbf; text-decoration-color: #7fbfbf\">[00:18:57] </span><span style=\"color: #000080; text-decoration-color: #000080\">INFO    </span> runn. objective: <span style=\"color: #008080; text-decoration-color: #008080; font-weight: bold\">0.16</span>, state est.: <span style=\"font-weight: bold\">[</span><span style=\"color: #008080; text-decoration-color: #008080; font-weight: bold\">1000.63</span><span style=\"font-weight: bold\">]</span>, observation: <span style=\"font-weight: bold\">[</span>  <span style=\"color: #008080; text-decoration-color: #008080; font-weight: bold\">2.32</span> <span style=\"color: #008080; text-decoration-color: #008080; font-weight: bold\">654.15</span><span style=\"font-weight: bold\">]</span>,    <a href=\"file:///home/vulf/.pyenv/versions/3.11.7/envs/acm-venv/lib/python3.11/site-packages/regelum/callback.py\" target=\"_blank\"><span style=\"color: #7f7f7f; text-decoration-color: #7f7f7f\">callback.py</span></a><span style=\"color: #7f7f7f; text-decoration-color: #7f7f7f\">:</span><a href=\"file:///home/vulf/.pyenv/versions/3.11.7/envs/acm-venv/lib/python3.11/site-packages/regelum/callback.py#1109\" target=\"_blank\"><span style=\"color: #7f7f7f; text-decoration-color: #7f7f7f\">1109</span></a>\n",
       "<span style=\"color: #7fbfbf; text-decoration-color: #7fbfbf\">           </span>         action: <span style=\"font-weight: bold\">[</span><span style=\"color: #008080; text-decoration-color: #008080; font-weight: bold\">-7.28</span><span style=\"font-weight: bold\">]</span>, value: <span style=\"color: #008080; text-decoration-color: #008080; font-weight: bold\">0.0081</span>, time: <span style=\"color: #008080; text-decoration-color: #008080; font-weight: bold\">0.0040</span> <span style=\"font-weight: bold\">(</span><span style=\"color: #008080; text-decoration-color: #008080; font-weight: bold\">40.0</span>%<span style=\"font-weight: bold\">)</span>, episode: <span style=\"color: #008080; text-decoration-color: #008080; font-weight: bold\">1</span>/<span style=\"color: #008080; text-decoration-color: #008080; font-weight: bold\">1</span>, iteration: <span style=\"color: #7f7f7f; text-decoration-color: #7f7f7f\">                </span>\n",
       "<span style=\"color: #7fbfbf; text-decoration-color: #7fbfbf\">           </span>         <span style=\"color: #008080; text-decoration-color: #008080; font-weight: bold\">1</span>/<span style=\"color: #008080; text-decoration-color: #008080; font-weight: bold\">1</span>                                                                            <span style=\"color: #7f7f7f; text-decoration-color: #7f7f7f\">                </span>\n",
       "</pre>\n"
      ],
      "text/plain": [
       "\u001b[2;36m[00:18:57]\u001b[0m\u001b[2;36m \u001b[0m\u001b[34mINFO    \u001b[0m runn. objective: \u001b[1;36m0.16\u001b[0m, state est.: \u001b[1m[\u001b[0m\u001b[1;36m1000.63\u001b[0m\u001b[1m]\u001b[0m, observation: \u001b[1m[\u001b[0m  \u001b[1;36m2.32\u001b[0m \u001b[1;36m654.15\u001b[0m\u001b[1m]\u001b[0m,    \u001b]8;id=706893;file:///home/vulf/.pyenv/versions/3.11.7/envs/acm-venv/lib/python3.11/site-packages/regelum/callback.py\u001b\\\u001b[2mcallback.py\u001b[0m\u001b]8;;\u001b\\\u001b[2m:\u001b[0m\u001b]8;id=964529;file:///home/vulf/.pyenv/versions/3.11.7/envs/acm-venv/lib/python3.11/site-packages/regelum/callback.py#1109\u001b\\\u001b[2m1109\u001b[0m\u001b]8;;\u001b\\\n",
       "\u001b[2;36m           \u001b[0m         action: \u001b[1m[\u001b[0m\u001b[1;36m-7.28\u001b[0m\u001b[1m]\u001b[0m, value: \u001b[1;36m0.0081\u001b[0m, time: \u001b[1;36m0.0040\u001b[0m \u001b[1m(\u001b[0m\u001b[1;36m40.0\u001b[0m%\u001b[1m)\u001b[0m, episode: \u001b[1;36m1\u001b[0m/\u001b[1;36m1\u001b[0m, iteration: \u001b[2m                \u001b[0m\n",
       "\u001b[2;36m           \u001b[0m         \u001b[1;36m1\u001b[0m/\u001b[1;36m1\u001b[0m                                                                            \u001b[2m                \u001b[0m\n"
      ]
     },
     "metadata": {},
     "output_type": "display_data"
    },
    {
     "data": {
      "text/html": [
       "<pre style=\"white-space:pre;overflow-x:auto;line-height:normal;font-family:Menlo,'DejaVu Sans Mono',consolas,'Courier New',monospace\"><span style=\"color: #7fbfbf; text-decoration-color: #7fbfbf\">[00:19:04] </span><span style=\"color: #000080; text-decoration-color: #000080\">INFO    </span> runn. objective: <span style=\"color: #008080; text-decoration-color: #008080; font-weight: bold\">0.69</span>, state est.: <span style=\"font-weight: bold\">[</span><span style=\"color: #008080; text-decoration-color: #008080; font-weight: bold\">1000.75</span><span style=\"font-weight: bold\">]</span>, observation: <span style=\"font-weight: bold\">[</span>  <span style=\"color: #008080; text-decoration-color: #008080; font-weight: bold\">2.75</span> <span style=\"color: #008080; text-decoration-color: #008080; font-weight: bold\">239.73</span><span style=\"font-weight: bold\">]</span>,    <a href=\"file:///home/vulf/.pyenv/versions/3.11.7/envs/acm-venv/lib/python3.11/site-packages/regelum/callback.py\" target=\"_blank\"><span style=\"color: #7f7f7f; text-decoration-color: #7f7f7f\">callback.py</span></a><span style=\"color: #7f7f7f; text-decoration-color: #7f7f7f\">:</span><a href=\"file:///home/vulf/.pyenv/versions/3.11.7/envs/acm-venv/lib/python3.11/site-packages/regelum/callback.py#1109\" target=\"_blank\"><span style=\"color: #7f7f7f; text-decoration-color: #7f7f7f\">1109</span></a>\n",
       "<span style=\"color: #7fbfbf; text-decoration-color: #7fbfbf\">           </span>         action: <span style=\"font-weight: bold\">[</span><span style=\"color: #008080; text-decoration-color: #008080; font-weight: bold\">-15.14</span><span style=\"font-weight: bold\">]</span>, value: <span style=\"color: #008080; text-decoration-color: #008080; font-weight: bold\">0.0088</span>, time: <span style=\"color: #008080; text-decoration-color: #008080; font-weight: bold\">0.0050</span> <span style=\"font-weight: bold\">(</span><span style=\"color: #008080; text-decoration-color: #008080; font-weight: bold\">50.0</span>%<span style=\"font-weight: bold\">)</span>, episode: <span style=\"color: #008080; text-decoration-color: #008080; font-weight: bold\">1</span>/<span style=\"color: #008080; text-decoration-color: #008080; font-weight: bold\">1</span>,           <span style=\"color: #7f7f7f; text-decoration-color: #7f7f7f\">                </span>\n",
       "<span style=\"color: #7fbfbf; text-decoration-color: #7fbfbf\">           </span>         iteration: <span style=\"color: #008080; text-decoration-color: #008080; font-weight: bold\">1</span>/<span style=\"color: #008080; text-decoration-color: #008080; font-weight: bold\">1</span>                                                                 <span style=\"color: #7f7f7f; text-decoration-color: #7f7f7f\">                </span>\n",
       "</pre>\n"
      ],
      "text/plain": [
       "\u001b[2;36m[00:19:04]\u001b[0m\u001b[2;36m \u001b[0m\u001b[34mINFO    \u001b[0m runn. objective: \u001b[1;36m0.69\u001b[0m, state est.: \u001b[1m[\u001b[0m\u001b[1;36m1000.75\u001b[0m\u001b[1m]\u001b[0m, observation: \u001b[1m[\u001b[0m  \u001b[1;36m2.75\u001b[0m \u001b[1;36m239.73\u001b[0m\u001b[1m]\u001b[0m,    \u001b]8;id=56417;file:///home/vulf/.pyenv/versions/3.11.7/envs/acm-venv/lib/python3.11/site-packages/regelum/callback.py\u001b\\\u001b[2mcallback.py\u001b[0m\u001b]8;;\u001b\\\u001b[2m:\u001b[0m\u001b]8;id=165494;file:///home/vulf/.pyenv/versions/3.11.7/envs/acm-venv/lib/python3.11/site-packages/regelum/callback.py#1109\u001b\\\u001b[2m1109\u001b[0m\u001b]8;;\u001b\\\n",
       "\u001b[2;36m           \u001b[0m         action: \u001b[1m[\u001b[0m\u001b[1;36m-15.14\u001b[0m\u001b[1m]\u001b[0m, value: \u001b[1;36m0.0088\u001b[0m, time: \u001b[1;36m0.0050\u001b[0m \u001b[1m(\u001b[0m\u001b[1;36m50.0\u001b[0m%\u001b[1m)\u001b[0m, episode: \u001b[1;36m1\u001b[0m/\u001b[1;36m1\u001b[0m,           \u001b[2m                \u001b[0m\n",
       "\u001b[2;36m           \u001b[0m         iteration: \u001b[1;36m1\u001b[0m/\u001b[1;36m1\u001b[0m                                                                 \u001b[2m                \u001b[0m\n"
      ]
     },
     "metadata": {},
     "output_type": "display_data"
    },
    {
     "data": {
      "text/html": [
       "<pre style=\"white-space:pre;overflow-x:auto;line-height:normal;font-family:Menlo,'DejaVu Sans Mono',consolas,'Courier New',monospace\"><span style=\"color: #7fbfbf; text-decoration-color: #7fbfbf\">[00:19:10] </span><span style=\"color: #000080; text-decoration-color: #000080\">INFO    </span> runn. objective: <span style=\"color: #008080; text-decoration-color: #008080; font-weight: bold\">0.79</span>, state est.: <span style=\"font-weight: bold\">[</span><span style=\"color: #008080; text-decoration-color: #008080; font-weight: bold\">1000.76</span><span style=\"font-weight: bold\">]</span>, observation: <span style=\"font-weight: bold\">[</span><span style=\"color: #008080; text-decoration-color: #008080; font-weight: bold\">2.81</span> <span style=\"color: #008080; text-decoration-color: #008080; font-weight: bold\">0.08</span><span style=\"font-weight: bold\">]</span>,        <a href=\"file:///home/vulf/.pyenv/versions/3.11.7/envs/acm-venv/lib/python3.11/site-packages/regelum/callback.py\" target=\"_blank\"><span style=\"color: #7f7f7f; text-decoration-color: #7f7f7f\">callback.py</span></a><span style=\"color: #7f7f7f; text-decoration-color: #7f7f7f\">:</span><a href=\"file:///home/vulf/.pyenv/versions/3.11.7/envs/acm-venv/lib/python3.11/site-packages/regelum/callback.py#1109\" target=\"_blank\"><span style=\"color: #7f7f7f; text-decoration-color: #7f7f7f\">1109</span></a>\n",
       "<span style=\"color: #7fbfbf; text-decoration-color: #7fbfbf\">           </span>         action: <span style=\"font-weight: bold\">[</span><span style=\"color: #008080; text-decoration-color: #008080; font-weight: bold\">-16.21</span><span style=\"font-weight: bold\">]</span>, value: <span style=\"color: #008080; text-decoration-color: #008080; font-weight: bold\">0.0096</span>, time: <span style=\"color: #008080; text-decoration-color: #008080; font-weight: bold\">0.0060</span> <span style=\"font-weight: bold\">(</span><span style=\"color: #008080; text-decoration-color: #008080; font-weight: bold\">60.0</span>%<span style=\"font-weight: bold\">)</span>, episode: <span style=\"color: #008080; text-decoration-color: #008080; font-weight: bold\">1</span>/<span style=\"color: #008080; text-decoration-color: #008080; font-weight: bold\">1</span>,           <span style=\"color: #7f7f7f; text-decoration-color: #7f7f7f\">                </span>\n",
       "<span style=\"color: #7fbfbf; text-decoration-color: #7fbfbf\">           </span>         iteration: <span style=\"color: #008080; text-decoration-color: #008080; font-weight: bold\">1</span>/<span style=\"color: #008080; text-decoration-color: #008080; font-weight: bold\">1</span>                                                                 <span style=\"color: #7f7f7f; text-decoration-color: #7f7f7f\">                </span>\n",
       "</pre>\n"
      ],
      "text/plain": [
       "\u001b[2;36m[00:19:10]\u001b[0m\u001b[2;36m \u001b[0m\u001b[34mINFO    \u001b[0m runn. objective: \u001b[1;36m0.79\u001b[0m, state est.: \u001b[1m[\u001b[0m\u001b[1;36m1000.76\u001b[0m\u001b[1m]\u001b[0m, observation: \u001b[1m[\u001b[0m\u001b[1;36m2.81\u001b[0m \u001b[1;36m0.08\u001b[0m\u001b[1m]\u001b[0m,        \u001b]8;id=913829;file:///home/vulf/.pyenv/versions/3.11.7/envs/acm-venv/lib/python3.11/site-packages/regelum/callback.py\u001b\\\u001b[2mcallback.py\u001b[0m\u001b]8;;\u001b\\\u001b[2m:\u001b[0m\u001b]8;id=964177;file:///home/vulf/.pyenv/versions/3.11.7/envs/acm-venv/lib/python3.11/site-packages/regelum/callback.py#1109\u001b\\\u001b[2m1109\u001b[0m\u001b]8;;\u001b\\\n",
       "\u001b[2;36m           \u001b[0m         action: \u001b[1m[\u001b[0m\u001b[1;36m-16.21\u001b[0m\u001b[1m]\u001b[0m, value: \u001b[1;36m0.0096\u001b[0m, time: \u001b[1;36m0.0060\u001b[0m \u001b[1m(\u001b[0m\u001b[1;36m60.0\u001b[0m%\u001b[1m)\u001b[0m, episode: \u001b[1;36m1\u001b[0m/\u001b[1;36m1\u001b[0m,           \u001b[2m                \u001b[0m\n",
       "\u001b[2;36m           \u001b[0m         iteration: \u001b[1;36m1\u001b[0m/\u001b[1;36m1\u001b[0m                                                                 \u001b[2m                \u001b[0m\n"
      ]
     },
     "metadata": {},
     "output_type": "display_data"
    },
    {
     "data": {
      "text/html": [
       "<pre style=\"white-space:pre;overflow-x:auto;line-height:normal;font-family:Menlo,'DejaVu Sans Mono',consolas,'Courier New',monospace\"><span style=\"color: #7fbfbf; text-decoration-color: #7fbfbf\">[00:19:17] </span><span style=\"color: #000080; text-decoration-color: #000080\">INFO    </span> runn. objective: <span style=\"color: #008080; text-decoration-color: #008080; font-weight: bold\">0.79</span>, state est.: <span style=\"font-weight: bold\">[</span><span style=\"color: #008080; text-decoration-color: #008080; font-weight: bold\">1000.76</span><span style=\"font-weight: bold\">]</span>, observation: <span style=\"font-weight: bold\">[</span><span style=\"color: #008080; text-decoration-color: #008080; font-weight: bold\">2.81</span> <span style=\"color: #008080; text-decoration-color: #008080; font-weight: bold\">0.39</span><span style=\"font-weight: bold\">]</span>,        <a href=\"file:///home/vulf/.pyenv/versions/3.11.7/envs/acm-venv/lib/python3.11/site-packages/regelum/callback.py\" target=\"_blank\"><span style=\"color: #7f7f7f; text-decoration-color: #7f7f7f\">callback.py</span></a><span style=\"color: #7f7f7f; text-decoration-color: #7f7f7f\">:</span><a href=\"file:///home/vulf/.pyenv/versions/3.11.7/envs/acm-venv/lib/python3.11/site-packages/regelum/callback.py#1109\" target=\"_blank\"><span style=\"color: #7f7f7f; text-decoration-color: #7f7f7f\">1109</span></a>\n",
       "<span style=\"color: #7fbfbf; text-decoration-color: #7fbfbf\">           </span>         action: <span style=\"font-weight: bold\">[</span><span style=\"color: #008080; text-decoration-color: #008080; font-weight: bold\">-16.23</span><span style=\"font-weight: bold\">]</span>, value: <span style=\"color: #008080; text-decoration-color: #008080; font-weight: bold\">0.0104</span>, time: <span style=\"color: #008080; text-decoration-color: #008080; font-weight: bold\">0.0070</span> <span style=\"font-weight: bold\">(</span><span style=\"color: #008080; text-decoration-color: #008080; font-weight: bold\">70.0</span>%<span style=\"font-weight: bold\">)</span>, episode: <span style=\"color: #008080; text-decoration-color: #008080; font-weight: bold\">1</span>/<span style=\"color: #008080; text-decoration-color: #008080; font-weight: bold\">1</span>,           <span style=\"color: #7f7f7f; text-decoration-color: #7f7f7f\">                </span>\n",
       "<span style=\"color: #7fbfbf; text-decoration-color: #7fbfbf\">           </span>         iteration: <span style=\"color: #008080; text-decoration-color: #008080; font-weight: bold\">1</span>/<span style=\"color: #008080; text-decoration-color: #008080; font-weight: bold\">1</span>                                                                 <span style=\"color: #7f7f7f; text-decoration-color: #7f7f7f\">                </span>\n",
       "</pre>\n"
      ],
      "text/plain": [
       "\u001b[2;36m[00:19:17]\u001b[0m\u001b[2;36m \u001b[0m\u001b[34mINFO    \u001b[0m runn. objective: \u001b[1;36m0.79\u001b[0m, state est.: \u001b[1m[\u001b[0m\u001b[1;36m1000.76\u001b[0m\u001b[1m]\u001b[0m, observation: \u001b[1m[\u001b[0m\u001b[1;36m2.81\u001b[0m \u001b[1;36m0.39\u001b[0m\u001b[1m]\u001b[0m,        \u001b]8;id=16143;file:///home/vulf/.pyenv/versions/3.11.7/envs/acm-venv/lib/python3.11/site-packages/regelum/callback.py\u001b\\\u001b[2mcallback.py\u001b[0m\u001b]8;;\u001b\\\u001b[2m:\u001b[0m\u001b]8;id=811825;file:///home/vulf/.pyenv/versions/3.11.7/envs/acm-venv/lib/python3.11/site-packages/regelum/callback.py#1109\u001b\\\u001b[2m1109\u001b[0m\u001b]8;;\u001b\\\n",
       "\u001b[2;36m           \u001b[0m         action: \u001b[1m[\u001b[0m\u001b[1;36m-16.23\u001b[0m\u001b[1m]\u001b[0m, value: \u001b[1;36m0.0104\u001b[0m, time: \u001b[1;36m0.0070\u001b[0m \u001b[1m(\u001b[0m\u001b[1;36m70.0\u001b[0m%\u001b[1m)\u001b[0m, episode: \u001b[1;36m1\u001b[0m/\u001b[1;36m1\u001b[0m,           \u001b[2m                \u001b[0m\n",
       "\u001b[2;36m           \u001b[0m         iteration: \u001b[1;36m1\u001b[0m/\u001b[1;36m1\u001b[0m                                                                 \u001b[2m                \u001b[0m\n"
      ]
     },
     "metadata": {},
     "output_type": "display_data"
    },
    {
     "data": {
      "text/html": [
       "<pre style=\"white-space:pre;overflow-x:auto;line-height:normal;font-family:Menlo,'DejaVu Sans Mono',consolas,'Courier New',monospace\"><span style=\"color: #7fbfbf; text-decoration-color: #7fbfbf\">[00:19:23] </span><span style=\"color: #000080; text-decoration-color: #000080\">INFO    </span> runn. objective: <span style=\"color: #008080; text-decoration-color: #008080; font-weight: bold\">0.80</span>, state est.: <span style=\"font-weight: bold\">[</span><span style=\"color: #008080; text-decoration-color: #008080; font-weight: bold\">1000.76</span><span style=\"font-weight: bold\">]</span>, observation: <span style=\"font-weight: bold\">[</span><span style=\"color: #008080; text-decoration-color: #008080; font-weight: bold\">2.81</span> <span style=\"color: #008080; text-decoration-color: #008080; font-weight: bold\">2.47</span><span style=\"font-weight: bold\">]</span>,        <a href=\"file:///home/vulf/.pyenv/versions/3.11.7/envs/acm-venv/lib/python3.11/site-packages/regelum/callback.py\" target=\"_blank\"><span style=\"color: #7f7f7f; text-decoration-color: #7f7f7f\">callback.py</span></a><span style=\"color: #7f7f7f; text-decoration-color: #7f7f7f\">:</span><a href=\"file:///home/vulf/.pyenv/versions/3.11.7/envs/acm-venv/lib/python3.11/site-packages/regelum/callback.py#1109\" target=\"_blank\"><span style=\"color: #7f7f7f; text-decoration-color: #7f7f7f\">1109</span></a>\n",
       "<span style=\"color: #7fbfbf; text-decoration-color: #7fbfbf\">           </span>         action: <span style=\"font-weight: bold\">[</span><span style=\"color: #008080; text-decoration-color: #008080; font-weight: bold\">-16.25</span><span style=\"font-weight: bold\">]</span>, value: <span style=\"color: #008080; text-decoration-color: #008080; font-weight: bold\">0.0112</span>, time: <span style=\"color: #008080; text-decoration-color: #008080; font-weight: bold\">0.0080</span> <span style=\"font-weight: bold\">(</span><span style=\"color: #008080; text-decoration-color: #008080; font-weight: bold\">80.0</span>%<span style=\"font-weight: bold\">)</span>, episode: <span style=\"color: #008080; text-decoration-color: #008080; font-weight: bold\">1</span>/<span style=\"color: #008080; text-decoration-color: #008080; font-weight: bold\">1</span>,           <span style=\"color: #7f7f7f; text-decoration-color: #7f7f7f\">                </span>\n",
       "<span style=\"color: #7fbfbf; text-decoration-color: #7fbfbf\">           </span>         iteration: <span style=\"color: #008080; text-decoration-color: #008080; font-weight: bold\">1</span>/<span style=\"color: #008080; text-decoration-color: #008080; font-weight: bold\">1</span>                                                                 <span style=\"color: #7f7f7f; text-decoration-color: #7f7f7f\">                </span>\n",
       "</pre>\n"
      ],
      "text/plain": [
       "\u001b[2;36m[00:19:23]\u001b[0m\u001b[2;36m \u001b[0m\u001b[34mINFO    \u001b[0m runn. objective: \u001b[1;36m0.80\u001b[0m, state est.: \u001b[1m[\u001b[0m\u001b[1;36m1000.76\u001b[0m\u001b[1m]\u001b[0m, observation: \u001b[1m[\u001b[0m\u001b[1;36m2.81\u001b[0m \u001b[1;36m2.47\u001b[0m\u001b[1m]\u001b[0m,        \u001b]8;id=647844;file:///home/vulf/.pyenv/versions/3.11.7/envs/acm-venv/lib/python3.11/site-packages/regelum/callback.py\u001b\\\u001b[2mcallback.py\u001b[0m\u001b]8;;\u001b\\\u001b[2m:\u001b[0m\u001b]8;id=515208;file:///home/vulf/.pyenv/versions/3.11.7/envs/acm-venv/lib/python3.11/site-packages/regelum/callback.py#1109\u001b\\\u001b[2m1109\u001b[0m\u001b]8;;\u001b\\\n",
       "\u001b[2;36m           \u001b[0m         action: \u001b[1m[\u001b[0m\u001b[1;36m-16.25\u001b[0m\u001b[1m]\u001b[0m, value: \u001b[1;36m0.0112\u001b[0m, time: \u001b[1;36m0.0080\u001b[0m \u001b[1m(\u001b[0m\u001b[1;36m80.0\u001b[0m%\u001b[1m)\u001b[0m, episode: \u001b[1;36m1\u001b[0m/\u001b[1;36m1\u001b[0m,           \u001b[2m                \u001b[0m\n",
       "\u001b[2;36m           \u001b[0m         iteration: \u001b[1;36m1\u001b[0m/\u001b[1;36m1\u001b[0m                                                                 \u001b[2m                \u001b[0m\n"
      ]
     },
     "metadata": {},
     "output_type": "display_data"
    },
    {
     "data": {
      "text/html": [
       "<pre style=\"white-space:pre;overflow-x:auto;line-height:normal;font-family:Menlo,'DejaVu Sans Mono',consolas,'Courier New',monospace\"><span style=\"color: #7fbfbf; text-decoration-color: #7fbfbf\">[00:19:30] </span><span style=\"color: #000080; text-decoration-color: #000080\">INFO    </span> runn. objective: <span style=\"color: #008080; text-decoration-color: #008080; font-weight: bold\">0.80</span>, state est.: <span style=\"font-weight: bold\">[</span><span style=\"color: #008080; text-decoration-color: #008080; font-weight: bold\">1000.76</span><span style=\"font-weight: bold\">]</span>, observation: <span style=\"font-weight: bold\">[</span><span style=\"color: #008080; text-decoration-color: #008080; font-weight: bold\">2.81</span> <span style=\"color: #008080; text-decoration-color: #008080; font-weight: bold\">2.42</span><span style=\"font-weight: bold\">]</span>,        <a href=\"file:///home/vulf/.pyenv/versions/3.11.7/envs/acm-venv/lib/python3.11/site-packages/regelum/callback.py\" target=\"_blank\"><span style=\"color: #7f7f7f; text-decoration-color: #7f7f7f\">callback.py</span></a><span style=\"color: #7f7f7f; text-decoration-color: #7f7f7f\">:</span><a href=\"file:///home/vulf/.pyenv/versions/3.11.7/envs/acm-venv/lib/python3.11/site-packages/regelum/callback.py#1109\" target=\"_blank\"><span style=\"color: #7f7f7f; text-decoration-color: #7f7f7f\">1109</span></a>\n",
       "<span style=\"color: #7fbfbf; text-decoration-color: #7fbfbf\">           </span>         action: <span style=\"font-weight: bold\">[</span><span style=\"color: #008080; text-decoration-color: #008080; font-weight: bold\">-16.27</span><span style=\"font-weight: bold\">]</span>, value: <span style=\"color: #008080; text-decoration-color: #008080; font-weight: bold\">0.0120</span>, time: <span style=\"color: #008080; text-decoration-color: #008080; font-weight: bold\">0.0090</span> <span style=\"font-weight: bold\">(</span><span style=\"color: #008080; text-decoration-color: #008080; font-weight: bold\">90.0</span>%<span style=\"font-weight: bold\">)</span>, episode: <span style=\"color: #008080; text-decoration-color: #008080; font-weight: bold\">1</span>/<span style=\"color: #008080; text-decoration-color: #008080; font-weight: bold\">1</span>,           <span style=\"color: #7f7f7f; text-decoration-color: #7f7f7f\">                </span>\n",
       "<span style=\"color: #7fbfbf; text-decoration-color: #7fbfbf\">           </span>         iteration: <span style=\"color: #008080; text-decoration-color: #008080; font-weight: bold\">1</span>/<span style=\"color: #008080; text-decoration-color: #008080; font-weight: bold\">1</span>                                                                 <span style=\"color: #7f7f7f; text-decoration-color: #7f7f7f\">                </span>\n",
       "</pre>\n"
      ],
      "text/plain": [
       "\u001b[2;36m[00:19:30]\u001b[0m\u001b[2;36m \u001b[0m\u001b[34mINFO    \u001b[0m runn. objective: \u001b[1;36m0.80\u001b[0m, state est.: \u001b[1m[\u001b[0m\u001b[1;36m1000.76\u001b[0m\u001b[1m]\u001b[0m, observation: \u001b[1m[\u001b[0m\u001b[1;36m2.81\u001b[0m \u001b[1;36m2.42\u001b[0m\u001b[1m]\u001b[0m,        \u001b]8;id=601401;file:///home/vulf/.pyenv/versions/3.11.7/envs/acm-venv/lib/python3.11/site-packages/regelum/callback.py\u001b\\\u001b[2mcallback.py\u001b[0m\u001b]8;;\u001b\\\u001b[2m:\u001b[0m\u001b]8;id=229247;file:///home/vulf/.pyenv/versions/3.11.7/envs/acm-venv/lib/python3.11/site-packages/regelum/callback.py#1109\u001b\\\u001b[2m1109\u001b[0m\u001b]8;;\u001b\\\n",
       "\u001b[2;36m           \u001b[0m         action: \u001b[1m[\u001b[0m\u001b[1;36m-16.27\u001b[0m\u001b[1m]\u001b[0m, value: \u001b[1;36m0.0120\u001b[0m, time: \u001b[1;36m0.0090\u001b[0m \u001b[1m(\u001b[0m\u001b[1;36m90.0\u001b[0m%\u001b[1m)\u001b[0m, episode: \u001b[1;36m1\u001b[0m/\u001b[1;36m1\u001b[0m,           \u001b[2m                \u001b[0m\n",
       "\u001b[2;36m           \u001b[0m         iteration: \u001b[1;36m1\u001b[0m/\u001b[1;36m1\u001b[0m                                                                 \u001b[2m                \u001b[0m\n"
      ]
     },
     "metadata": {},
     "output_type": "display_data"
    },
    {
     "data": {
      "text/html": [
       "<pre style=\"white-space:pre;overflow-x:auto;line-height:normal;font-family:Menlo,'DejaVu Sans Mono',consolas,'Courier New',monospace\"><span style=\"color: #7fbfbf; text-decoration-color: #7fbfbf\">[00:19:36] </span><span style=\"color: #000080; text-decoration-color: #000080\">INFO    </span> runn. objective: <span style=\"color: #008080; text-decoration-color: #008080; font-weight: bold\">0.80</span>, state est.: <span style=\"font-weight: bold\">[</span><span style=\"color: #008080; text-decoration-color: #008080; font-weight: bold\">1000.77</span><span style=\"font-weight: bold\">]</span>, observation: <span style=\"font-weight: bold\">[</span><span style=\"color: #008080; text-decoration-color: #008080; font-weight: bold\">2.81</span> <span style=\"color: #008080; text-decoration-color: #008080; font-weight: bold\">2.27</span><span style=\"font-weight: bold\">]</span>,        <a href=\"file:///home/vulf/.pyenv/versions/3.11.7/envs/acm-venv/lib/python3.11/site-packages/regelum/callback.py\" target=\"_blank\"><span style=\"color: #7f7f7f; text-decoration-color: #7f7f7f\">callback.py</span></a><span style=\"color: #7f7f7f; text-decoration-color: #7f7f7f\">:</span><a href=\"file:///home/vulf/.pyenv/versions/3.11.7/envs/acm-venv/lib/python3.11/site-packages/regelum/callback.py#1109\" target=\"_blank\"><span style=\"color: #7f7f7f; text-decoration-color: #7f7f7f\">1109</span></a>\n",
       "<span style=\"color: #7fbfbf; text-decoration-color: #7fbfbf\">           </span>         action: <span style=\"font-weight: bold\">[</span><span style=\"color: #008080; text-decoration-color: #008080; font-weight: bold\">-16.29</span><span style=\"font-weight: bold\">]</span>, value: <span style=\"color: #008080; text-decoration-color: #008080; font-weight: bold\">0.0128</span>, time: <span style=\"color: #008080; text-decoration-color: #008080; font-weight: bold\">0.0100</span> <span style=\"font-weight: bold\">(</span><span style=\"color: #008080; text-decoration-color: #008080; font-weight: bold\">100.0</span>%<span style=\"font-weight: bold\">)</span>, episode: <span style=\"color: #008080; text-decoration-color: #008080; font-weight: bold\">1</span>/<span style=\"color: #008080; text-decoration-color: #008080; font-weight: bold\">1</span>,          <span style=\"color: #7f7f7f; text-decoration-color: #7f7f7f\">                </span>\n",
       "<span style=\"color: #7fbfbf; text-decoration-color: #7fbfbf\">           </span>         iteration: <span style=\"color: #008080; text-decoration-color: #008080; font-weight: bold\">1</span>/<span style=\"color: #008080; text-decoration-color: #008080; font-weight: bold\">1</span>                                                                 <span style=\"color: #7f7f7f; text-decoration-color: #7f7f7f\">                </span>\n",
       "</pre>\n"
      ],
      "text/plain": [
       "\u001b[2;36m[00:19:36]\u001b[0m\u001b[2;36m \u001b[0m\u001b[34mINFO    \u001b[0m runn. objective: \u001b[1;36m0.80\u001b[0m, state est.: \u001b[1m[\u001b[0m\u001b[1;36m1000.77\u001b[0m\u001b[1m]\u001b[0m, observation: \u001b[1m[\u001b[0m\u001b[1;36m2.81\u001b[0m \u001b[1;36m2.27\u001b[0m\u001b[1m]\u001b[0m,        \u001b]8;id=259588;file:///home/vulf/.pyenv/versions/3.11.7/envs/acm-venv/lib/python3.11/site-packages/regelum/callback.py\u001b\\\u001b[2mcallback.py\u001b[0m\u001b]8;;\u001b\\\u001b[2m:\u001b[0m\u001b]8;id=459934;file:///home/vulf/.pyenv/versions/3.11.7/envs/acm-venv/lib/python3.11/site-packages/regelum/callback.py#1109\u001b\\\u001b[2m1109\u001b[0m\u001b]8;;\u001b\\\n",
       "\u001b[2;36m           \u001b[0m         action: \u001b[1m[\u001b[0m\u001b[1;36m-16.29\u001b[0m\u001b[1m]\u001b[0m, value: \u001b[1;36m0.0128\u001b[0m, time: \u001b[1;36m0.0100\u001b[0m \u001b[1m(\u001b[0m\u001b[1;36m100.0\u001b[0m%\u001b[1m)\u001b[0m, episode: \u001b[1;36m1\u001b[0m/\u001b[1;36m1\u001b[0m,          \u001b[2m                \u001b[0m\n",
       "\u001b[2;36m           \u001b[0m         iteration: \u001b[1;36m1\u001b[0m/\u001b[1;36m1\u001b[0m                                                                 \u001b[2m                \u001b[0m\n"
      ]
     },
     "metadata": {},
     "output_type": "display_data"
    }
   ],
   "source": [
    "# the output of the cell is omitted\n",
    "scenario.run()"
   ]
  },
  {
   "cell_type": "code",
   "execution_count": 23,
   "metadata": {},
   "outputs": [],
   "source": [
    "# time = 0\n",
    "# action = rg.array([10])\n",
    "# state = rg.array([1.005e3, 0, 0, p_atm, p_atm])\n",
    "# observation = system.get_observation(\n",
    "#     time=time,\n",
    "#     state=state,\n",
    "#     inputs=action\n",
    "# )\n",
    "# estimated_state = observer.get_state_estimation(\n",
    "#     t=time,\n",
    "#     observation=observation,\n",
    "#     action=action\n",
    "# )"
   ]
  },
  {
   "cell_type": "code",
   "execution_count": null,
   "metadata": {},
   "outputs": [],
   "source": []
  }
 ],
 "metadata": {
  "kernelspec": {
   "display_name": "acm-venv",
   "language": "python",
   "name": "python3"
  },
  "language_info": {
   "codemirror_mode": {
    "name": "ipython",
    "version": 3
   },
   "file_extension": ".py",
   "mimetype": "text/x-python",
   "name": "python",
   "nbconvert_exporter": "python",
   "pygments_lexer": "ipython3",
   "version": "3.11.7"
  }
 },
 "nbformat": 4,
 "nbformat_minor": 2
}
