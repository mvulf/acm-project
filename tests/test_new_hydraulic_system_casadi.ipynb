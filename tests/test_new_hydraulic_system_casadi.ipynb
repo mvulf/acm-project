{
 "cells": [
  {
   "cell_type": "markdown",
   "metadata": {},
   "source": [
    "This notebook is used to test the system simulator."
   ]
  },
  {
   "cell_type": "markdown",
   "metadata": {},
   "source": [
    "# Import libraries"
   ]
  },
  {
   "cell_type": "code",
   "execution_count": 1,
   "metadata": {},
   "outputs": [],
   "source": [
    "from regelum.scenario import Scenario\n",
    "from regelum.simulator import CasADi\n",
    "import numpy as np\n",
    "from tqdm.notebook import tqdm\n",
    "\n",
    "import sys\n",
    "sys.path.append('../')\n",
    "\n",
    "from src.system import HydraulicSystem\n",
    "from src.policy import PDController"
   ]
  },
  {
   "cell_type": "code",
   "execution_count": 2,
   "metadata": {},
   "outputs": [],
   "source": [
    "from regelum.callback import (\n",
    "    ScenarioStepLogger,\n",
    "    # HistoricalDataCallback,\n",
    ")\n",
    "from src.callback import HistoricalDataCallback\n",
    "\n",
    "from regelum import set_ipython_env\n",
    "%matplotlib inline\n",
    "callbacks = [ScenarioStepLogger, HistoricalDataCallback]\n",
    "ScenarioStepLogger.cooldown = 0.01\n",
    "callbacks = set_ipython_env(callbacks=callbacks, interactive=True)"
   ]
  },
  {
   "cell_type": "markdown",
   "metadata": {},
   "source": [
    "# Run simulation"
   ]
  },
  {
   "cell_type": "markdown",
   "metadata": {},
   "source": [
    "Instantiating Simulator, Policy, Scenario and run it"
   ]
  },
  {
   "cell_type": "code",
   "execution_count": 3,
   "metadata": {},
   "outputs": [
    {
     "data": {
      "text/html": [
       "<pre style=\"white-space:pre;overflow-x:auto;line-height:normal;font-family:Menlo,'DejaVu Sans Mono',consolas,'Courier New',monospace\"><span style=\"color: #7fbfbf; text-decoration-color: #7fbfbf\">[22:07:58] </span><span style=\"color: #000080; text-decoration-color: #000080\">INFO    </span> runn. objective: <span style=\"color: #008080; text-decoration-color: #008080; font-weight: bold\">0.00</span>, state est.: <span style=\"font-weight: bold\">[</span><span style=\"color: #008080; text-decoration-color: #008080; font-weight: bold\">0</span>. <span style=\"color: #008080; text-decoration-color: #008080; font-weight: bold\">0</span>.<span style=\"font-weight: bold\">]</span>, observation: <span style=\"font-weight: bold\">[</span><span style=\"color: #008080; text-decoration-color: #008080; font-weight: bold\">0</span>. <span style=\"color: #008080; text-decoration-color: #008080; font-weight: bold\">0</span>.<span style=\"font-weight: bold\">]</span>, action:      <a href=\"file:///Users/vulf/.pyenv/versions/3.11.8/envs/acm-env/lib/python3.11/site-packages/regelum/callback.py\" target=\"_blank\"><span style=\"color: #7f7f7f; text-decoration-color: #7f7f7f\">callback.py</span></a><span style=\"color: #7f7f7f; text-decoration-color: #7f7f7f\">:</span><a href=\"file:///Users/vulf/.pyenv/versions/3.11.8/envs/acm-env/lib/python3.11/site-packages/regelum/callback.py#1109\" target=\"_blank\"><span style=\"color: #7f7f7f; text-decoration-color: #7f7f7f\">1109</span></a>\n",
       "<span style=\"color: #7fbfbf; text-decoration-color: #7fbfbf\">           </span>         <span style=\"font-weight: bold\">[</span><span style=\"color: #008080; text-decoration-color: #008080; font-weight: bold\">20</span>.<span style=\"font-weight: bold\">]</span>, value: <span style=\"color: #008080; text-decoration-color: #008080; font-weight: bold\">0.0000</span>, time: <span style=\"color: #008080; text-decoration-color: #008080; font-weight: bold\">0.0000</span> <span style=\"font-weight: bold\">(</span><span style=\"color: #008080; text-decoration-color: #008080; font-weight: bold\">0.0</span>%<span style=\"font-weight: bold\">)</span>, episode: <span style=\"color: #008080; text-decoration-color: #008080; font-weight: bold\">1</span>/<span style=\"color: #008080; text-decoration-color: #008080; font-weight: bold\">1</span>, iteration: <span style=\"color: #008080; text-decoration-color: #008080; font-weight: bold\">1</span>/<span style=\"color: #008080; text-decoration-color: #008080; font-weight: bold\">1</span>        <span style=\"color: #7f7f7f; text-decoration-color: #7f7f7f\">                </span>\n",
       "</pre>\n"
      ],
      "text/plain": [
       "\u001b[2;36m[22:07:58]\u001b[0m\u001b[2;36m \u001b[0m\u001b[34mINFO    \u001b[0m runn. objective: \u001b[1;36m0.00\u001b[0m, state est.: \u001b[1m[\u001b[0m\u001b[1;36m0\u001b[0m. \u001b[1;36m0\u001b[0m.\u001b[1m]\u001b[0m, observation: \u001b[1m[\u001b[0m\u001b[1;36m0\u001b[0m. \u001b[1;36m0\u001b[0m.\u001b[1m]\u001b[0m, action:      \u001b]8;id=441292;file:///Users/vulf/.pyenv/versions/3.11.8/envs/acm-env/lib/python3.11/site-packages/regelum/callback.py\u001b\\\u001b[2mcallback.py\u001b[0m\u001b]8;;\u001b\\\u001b[2m:\u001b[0m\u001b]8;id=461982;file:///Users/vulf/.pyenv/versions/3.11.8/envs/acm-env/lib/python3.11/site-packages/regelum/callback.py#1109\u001b\\\u001b[2m1109\u001b[0m\u001b]8;;\u001b\\\n",
       "\u001b[2;36m           \u001b[0m         \u001b[1m[\u001b[0m\u001b[1;36m20\u001b[0m.\u001b[1m]\u001b[0m, value: \u001b[1;36m0.0000\u001b[0m, time: \u001b[1;36m0.0000\u001b[0m \u001b[1m(\u001b[0m\u001b[1;36m0.0\u001b[0m%\u001b[1m)\u001b[0m, episode: \u001b[1;36m1\u001b[0m/\u001b[1;36m1\u001b[0m, iteration: \u001b[1;36m1\u001b[0m/\u001b[1;36m1\u001b[0m        \u001b[2m                \u001b[0m\n"
      ]
     },
     "metadata": {},
     "output_type": "display_data"
    },
    {
     "data": {
      "text/html": [
       "<pre style=\"white-space:pre;overflow-x:auto;line-height:normal;font-family:Menlo,'DejaVu Sans Mono',consolas,'Courier New',monospace\"><span style=\"color: #7fbfbf; text-decoration-color: #7fbfbf\">[22:08:00] </span><span style=\"color: #000080; text-decoration-color: #000080\">INFO    </span> runn. objective: <span style=\"color: #008080; text-decoration-color: #008080; font-weight: bold\">0.00</span>, state est.: <span style=\"font-weight: bold\">[</span>  <span style=\"color: #008080; text-decoration-color: #008080; font-weight: bold\">0.22</span> <span style=\"color: #008080; text-decoration-color: #008080; font-weight: bold\">432.48</span><span style=\"font-weight: bold\">]</span>, observation: <span style=\"font-weight: bold\">[</span>  <span style=\"color: #008080; text-decoration-color: #008080; font-weight: bold\">0.22</span>       <a href=\"file:///Users/vulf/.pyenv/versions/3.11.8/envs/acm-env/lib/python3.11/site-packages/regelum/callback.py\" target=\"_blank\"><span style=\"color: #7f7f7f; text-decoration-color: #7f7f7f\">callback.py</span></a><span style=\"color: #7f7f7f; text-decoration-color: #7f7f7f\">:</span><a href=\"file:///Users/vulf/.pyenv/versions/3.11.8/envs/acm-env/lib/python3.11/site-packages/regelum/callback.py#1109\" target=\"_blank\"><span style=\"color: #7f7f7f; text-decoration-color: #7f7f7f\">1109</span></a>\n",
       "<span style=\"color: #7fbfbf; text-decoration-color: #7fbfbf\">           </span>         <span style=\"color: #008080; text-decoration-color: #008080; font-weight: bold\">432.48</span><span style=\"font-weight: bold\">]</span>, action: <span style=\"font-weight: bold\">[</span><span style=\"color: #008080; text-decoration-color: #008080; font-weight: bold\">20</span>.<span style=\"font-weight: bold\">]</span>, value: <span style=\"color: #008080; text-decoration-color: #008080; font-weight: bold\">0.0000</span>, time: <span style=\"color: #008080; text-decoration-color: #008080; font-weight: bold\">0.0010</span> <span style=\"font-weight: bold\">(</span><span style=\"color: #008080; text-decoration-color: #008080; font-weight: bold\">10.0</span>%<span style=\"font-weight: bold\">)</span>, episode: <span style=\"color: #008080; text-decoration-color: #008080; font-weight: bold\">1</span>/<span style=\"color: #008080; text-decoration-color: #008080; font-weight: bold\">1</span>,     <span style=\"color: #7f7f7f; text-decoration-color: #7f7f7f\">                </span>\n",
       "<span style=\"color: #7fbfbf; text-decoration-color: #7fbfbf\">           </span>         iteration: <span style=\"color: #008080; text-decoration-color: #008080; font-weight: bold\">1</span>/<span style=\"color: #008080; text-decoration-color: #008080; font-weight: bold\">1</span>                                                                 <span style=\"color: #7f7f7f; text-decoration-color: #7f7f7f\">                </span>\n",
       "</pre>\n"
      ],
      "text/plain": [
       "\u001b[2;36m[22:08:00]\u001b[0m\u001b[2;36m \u001b[0m\u001b[34mINFO    \u001b[0m runn. objective: \u001b[1;36m0.00\u001b[0m, state est.: \u001b[1m[\u001b[0m  \u001b[1;36m0.22\u001b[0m \u001b[1;36m432.48\u001b[0m\u001b[1m]\u001b[0m, observation: \u001b[1m[\u001b[0m  \u001b[1;36m0.22\u001b[0m       \u001b]8;id=194934;file:///Users/vulf/.pyenv/versions/3.11.8/envs/acm-env/lib/python3.11/site-packages/regelum/callback.py\u001b\\\u001b[2mcallback.py\u001b[0m\u001b]8;;\u001b\\\u001b[2m:\u001b[0m\u001b]8;id=709527;file:///Users/vulf/.pyenv/versions/3.11.8/envs/acm-env/lib/python3.11/site-packages/regelum/callback.py#1109\u001b\\\u001b[2m1109\u001b[0m\u001b]8;;\u001b\\\n",
       "\u001b[2;36m           \u001b[0m         \u001b[1;36m432.48\u001b[0m\u001b[1m]\u001b[0m, action: \u001b[1m[\u001b[0m\u001b[1;36m20\u001b[0m.\u001b[1m]\u001b[0m, value: \u001b[1;36m0.0000\u001b[0m, time: \u001b[1;36m0.0010\u001b[0m \u001b[1m(\u001b[0m\u001b[1;36m10.0\u001b[0m%\u001b[1m)\u001b[0m, episode: \u001b[1;36m1\u001b[0m/\u001b[1;36m1\u001b[0m,     \u001b[2m                \u001b[0m\n",
       "\u001b[2;36m           \u001b[0m         iteration: \u001b[1;36m1\u001b[0m/\u001b[1;36m1\u001b[0m                                                                 \u001b[2m                \u001b[0m\n"
      ]
     },
     "metadata": {},
     "output_type": "display_data"
    },
    {
     "data": {
      "text/html": [
       "<pre style=\"white-space:pre;overflow-x:auto;line-height:normal;font-family:Menlo,'DejaVu Sans Mono',consolas,'Courier New',monospace\"><span style=\"color: #7fbfbf; text-decoration-color: #7fbfbf\">[22:08:03] </span><span style=\"color: #000080; text-decoration-color: #000080\">INFO    </span> runn. objective: <span style=\"color: #008080; text-decoration-color: #008080; font-weight: bold\">0.00</span>, state est.: <span style=\"font-weight: bold\">[</span>  <span style=\"color: #008080; text-decoration-color: #008080; font-weight: bold\">0.79</span> <span style=\"color: #008080; text-decoration-color: #008080; font-weight: bold\">694.23</span><span style=\"font-weight: bold\">]</span>, observation: <span style=\"font-weight: bold\">[</span>  <span style=\"color: #008080; text-decoration-color: #008080; font-weight: bold\">0.79</span>       <a href=\"file:///Users/vulf/.pyenv/versions/3.11.8/envs/acm-env/lib/python3.11/site-packages/regelum/callback.py\" target=\"_blank\"><span style=\"color: #7f7f7f; text-decoration-color: #7f7f7f\">callback.py</span></a><span style=\"color: #7f7f7f; text-decoration-color: #7f7f7f\">:</span><a href=\"file:///Users/vulf/.pyenv/versions/3.11.8/envs/acm-env/lib/python3.11/site-packages/regelum/callback.py#1109\" target=\"_blank\"><span style=\"color: #7f7f7f; text-decoration-color: #7f7f7f\">1109</span></a>\n",
       "<span style=\"color: #7fbfbf; text-decoration-color: #7fbfbf\">           </span>         <span style=\"color: #008080; text-decoration-color: #008080; font-weight: bold\">694.23</span><span style=\"font-weight: bold\">]</span>, action: <span style=\"font-weight: bold\">[</span><span style=\"color: #008080; text-decoration-color: #008080; font-weight: bold\">14.67</span><span style=\"font-weight: bold\">]</span>, value: <span style=\"color: #008080; text-decoration-color: #008080; font-weight: bold\">0.0000</span>, time: <span style=\"color: #008080; text-decoration-color: #008080; font-weight: bold\">0.0020</span> <span style=\"font-weight: bold\">(</span><span style=\"color: #008080; text-decoration-color: #008080; font-weight: bold\">20.0</span>%<span style=\"font-weight: bold\">)</span>, episode: <span style=\"color: #008080; text-decoration-color: #008080; font-weight: bold\">1</span>/<span style=\"color: #008080; text-decoration-color: #008080; font-weight: bold\">1</span>,   <span style=\"color: #7f7f7f; text-decoration-color: #7f7f7f\">                </span>\n",
       "<span style=\"color: #7fbfbf; text-decoration-color: #7fbfbf\">           </span>         iteration: <span style=\"color: #008080; text-decoration-color: #008080; font-weight: bold\">1</span>/<span style=\"color: #008080; text-decoration-color: #008080; font-weight: bold\">1</span>                                                                 <span style=\"color: #7f7f7f; text-decoration-color: #7f7f7f\">                </span>\n",
       "</pre>\n"
      ],
      "text/plain": [
       "\u001b[2;36m[22:08:03]\u001b[0m\u001b[2;36m \u001b[0m\u001b[34mINFO    \u001b[0m runn. objective: \u001b[1;36m0.00\u001b[0m, state est.: \u001b[1m[\u001b[0m  \u001b[1;36m0.79\u001b[0m \u001b[1;36m694.23\u001b[0m\u001b[1m]\u001b[0m, observation: \u001b[1m[\u001b[0m  \u001b[1;36m0.79\u001b[0m       \u001b]8;id=651568;file:///Users/vulf/.pyenv/versions/3.11.8/envs/acm-env/lib/python3.11/site-packages/regelum/callback.py\u001b\\\u001b[2mcallback.py\u001b[0m\u001b]8;;\u001b\\\u001b[2m:\u001b[0m\u001b]8;id=598955;file:///Users/vulf/.pyenv/versions/3.11.8/envs/acm-env/lib/python3.11/site-packages/regelum/callback.py#1109\u001b\\\u001b[2m1109\u001b[0m\u001b]8;;\u001b\\\n",
       "\u001b[2;36m           \u001b[0m         \u001b[1;36m694.23\u001b[0m\u001b[1m]\u001b[0m, action: \u001b[1m[\u001b[0m\u001b[1;36m14.67\u001b[0m\u001b[1m]\u001b[0m, value: \u001b[1;36m0.0000\u001b[0m, time: \u001b[1;36m0.0020\u001b[0m \u001b[1m(\u001b[0m\u001b[1;36m20.0\u001b[0m%\u001b[1m)\u001b[0m, episode: \u001b[1;36m1\u001b[0m/\u001b[1;36m1\u001b[0m,   \u001b[2m                \u001b[0m\n",
       "\u001b[2;36m           \u001b[0m         iteration: \u001b[1;36m1\u001b[0m/\u001b[1;36m1\u001b[0m                                                                 \u001b[2m                \u001b[0m\n"
      ]
     },
     "metadata": {},
     "output_type": "display_data"
    },
    {
     "data": {
      "text/html": [
       "<pre style=\"white-space:pre;overflow-x:auto;line-height:normal;font-family:Menlo,'DejaVu Sans Mono',consolas,'Courier New',monospace\"><span style=\"color: #7fbfbf; text-decoration-color: #7fbfbf\">[22:08:05] </span><span style=\"color: #000080; text-decoration-color: #000080\">INFO    </span> runn. objective: <span style=\"color: #008080; text-decoration-color: #008080; font-weight: bold\">0.00</span>, state est.: <span style=\"font-weight: bold\">[</span>  <span style=\"color: #008080; text-decoration-color: #008080; font-weight: bold\">1.51</span> <span style=\"color: #008080; text-decoration-color: #008080; font-weight: bold\">738.48</span><span style=\"font-weight: bold\">]</span>, observation: <span style=\"font-weight: bold\">[</span>  <span style=\"color: #008080; text-decoration-color: #008080; font-weight: bold\">1.51</span>       <a href=\"file:///Users/vulf/.pyenv/versions/3.11.8/envs/acm-env/lib/python3.11/site-packages/regelum/callback.py\" target=\"_blank\"><span style=\"color: #7f7f7f; text-decoration-color: #7f7f7f\">callback.py</span></a><span style=\"color: #7f7f7f; text-decoration-color: #7f7f7f\">:</span><a href=\"file:///Users/vulf/.pyenv/versions/3.11.8/envs/acm-env/lib/python3.11/site-packages/regelum/callback.py#1109\" target=\"_blank\"><span style=\"color: #7f7f7f; text-decoration-color: #7f7f7f\">1109</span></a>\n",
       "<span style=\"color: #7fbfbf; text-decoration-color: #7fbfbf\">           </span>         <span style=\"color: #008080; text-decoration-color: #008080; font-weight: bold\">738.48</span><span style=\"font-weight: bold\">]</span>, action: <span style=\"font-weight: bold\">[</span><span style=\"color: #008080; text-decoration-color: #008080; font-weight: bold\">5.3</span><span style=\"font-weight: bold\">]</span>, value: <span style=\"color: #008080; text-decoration-color: #008080; font-weight: bold\">0.0000</span>, time: <span style=\"color: #008080; text-decoration-color: #008080; font-weight: bold\">0.0030</span> <span style=\"font-weight: bold\">(</span><span style=\"color: #008080; text-decoration-color: #008080; font-weight: bold\">30.0</span>%<span style=\"font-weight: bold\">)</span>, episode: <span style=\"color: #008080; text-decoration-color: #008080; font-weight: bold\">1</span>/<span style=\"color: #008080; text-decoration-color: #008080; font-weight: bold\">1</span>,     <span style=\"color: #7f7f7f; text-decoration-color: #7f7f7f\">                </span>\n",
       "<span style=\"color: #7fbfbf; text-decoration-color: #7fbfbf\">           </span>         iteration: <span style=\"color: #008080; text-decoration-color: #008080; font-weight: bold\">1</span>/<span style=\"color: #008080; text-decoration-color: #008080; font-weight: bold\">1</span>                                                                 <span style=\"color: #7f7f7f; text-decoration-color: #7f7f7f\">                </span>\n",
       "</pre>\n"
      ],
      "text/plain": [
       "\u001b[2;36m[22:08:05]\u001b[0m\u001b[2;36m \u001b[0m\u001b[34mINFO    \u001b[0m runn. objective: \u001b[1;36m0.00\u001b[0m, state est.: \u001b[1m[\u001b[0m  \u001b[1;36m1.51\u001b[0m \u001b[1;36m738.48\u001b[0m\u001b[1m]\u001b[0m, observation: \u001b[1m[\u001b[0m  \u001b[1;36m1.51\u001b[0m       \u001b]8;id=966195;file:///Users/vulf/.pyenv/versions/3.11.8/envs/acm-env/lib/python3.11/site-packages/regelum/callback.py\u001b\\\u001b[2mcallback.py\u001b[0m\u001b]8;;\u001b\\\u001b[2m:\u001b[0m\u001b]8;id=850827;file:///Users/vulf/.pyenv/versions/3.11.8/envs/acm-env/lib/python3.11/site-packages/regelum/callback.py#1109\u001b\\\u001b[2m1109\u001b[0m\u001b]8;;\u001b\\\n",
       "\u001b[2;36m           \u001b[0m         \u001b[1;36m738.48\u001b[0m\u001b[1m]\u001b[0m, action: \u001b[1m[\u001b[0m\u001b[1;36m5.3\u001b[0m\u001b[1m]\u001b[0m, value: \u001b[1;36m0.0000\u001b[0m, time: \u001b[1;36m0.0030\u001b[0m \u001b[1m(\u001b[0m\u001b[1;36m30.0\u001b[0m%\u001b[1m)\u001b[0m, episode: \u001b[1;36m1\u001b[0m/\u001b[1;36m1\u001b[0m,     \u001b[2m                \u001b[0m\n",
       "\u001b[2;36m           \u001b[0m         iteration: \u001b[1;36m1\u001b[0m/\u001b[1;36m1\u001b[0m                                                                 \u001b[2m                \u001b[0m\n"
      ]
     },
     "metadata": {},
     "output_type": "display_data"
    },
    {
     "data": {
      "text/html": [
       "<pre style=\"white-space:pre;overflow-x:auto;line-height:normal;font-family:Menlo,'DejaVu Sans Mono',consolas,'Courier New',monospace\"><span style=\"color: #7fbfbf; text-decoration-color: #7fbfbf\">[22:08:07] </span><span style=\"color: #000080; text-decoration-color: #000080\">INFO    </span> runn. objective: <span style=\"color: #008080; text-decoration-color: #008080; font-weight: bold\">0.00</span>, state est.: <span style=\"font-weight: bold\">[</span>  <span style=\"color: #008080; text-decoration-color: #008080; font-weight: bold\">2.15</span> <span style=\"color: #008080; text-decoration-color: #008080; font-weight: bold\">563.61</span><span style=\"font-weight: bold\">]</span>, observation: <span style=\"font-weight: bold\">[</span>  <span style=\"color: #008080; text-decoration-color: #008080; font-weight: bold\">2.15</span>       <a href=\"file:///Users/vulf/.pyenv/versions/3.11.8/envs/acm-env/lib/python3.11/site-packages/regelum/callback.py\" target=\"_blank\"><span style=\"color: #7f7f7f; text-decoration-color: #7f7f7f\">callback.py</span></a><span style=\"color: #7f7f7f; text-decoration-color: #7f7f7f\">:</span><a href=\"file:///Users/vulf/.pyenv/versions/3.11.8/envs/acm-env/lib/python3.11/site-packages/regelum/callback.py#1109\" target=\"_blank\"><span style=\"color: #7f7f7f; text-decoration-color: #7f7f7f\">1109</span></a>\n",
       "<span style=\"color: #7fbfbf; text-decoration-color: #7fbfbf\">           </span>         <span style=\"color: #008080; text-decoration-color: #008080; font-weight: bold\">563.61</span><span style=\"font-weight: bold\">]</span>, action: <span style=\"font-weight: bold\">[</span><span style=\"color: #008080; text-decoration-color: #008080; font-weight: bold\">-3.1</span><span style=\"font-weight: bold\">]</span>, value: <span style=\"color: #008080; text-decoration-color: #008080; font-weight: bold\">0.0000</span>, time: <span style=\"color: #008080; text-decoration-color: #008080; font-weight: bold\">0.0040</span> <span style=\"font-weight: bold\">(</span><span style=\"color: #008080; text-decoration-color: #008080; font-weight: bold\">40.0</span>%<span style=\"font-weight: bold\">)</span>, episode: <span style=\"color: #008080; text-decoration-color: #008080; font-weight: bold\">1</span>/<span style=\"color: #008080; text-decoration-color: #008080; font-weight: bold\">1</span>,    <span style=\"color: #7f7f7f; text-decoration-color: #7f7f7f\">                </span>\n",
       "<span style=\"color: #7fbfbf; text-decoration-color: #7fbfbf\">           </span>         iteration: <span style=\"color: #008080; text-decoration-color: #008080; font-weight: bold\">1</span>/<span style=\"color: #008080; text-decoration-color: #008080; font-weight: bold\">1</span>                                                                 <span style=\"color: #7f7f7f; text-decoration-color: #7f7f7f\">                </span>\n",
       "</pre>\n"
      ],
      "text/plain": [
       "\u001b[2;36m[22:08:07]\u001b[0m\u001b[2;36m \u001b[0m\u001b[34mINFO    \u001b[0m runn. objective: \u001b[1;36m0.00\u001b[0m, state est.: \u001b[1m[\u001b[0m  \u001b[1;36m2.15\u001b[0m \u001b[1;36m563.61\u001b[0m\u001b[1m]\u001b[0m, observation: \u001b[1m[\u001b[0m  \u001b[1;36m2.15\u001b[0m       \u001b]8;id=177919;file:///Users/vulf/.pyenv/versions/3.11.8/envs/acm-env/lib/python3.11/site-packages/regelum/callback.py\u001b\\\u001b[2mcallback.py\u001b[0m\u001b]8;;\u001b\\\u001b[2m:\u001b[0m\u001b]8;id=970854;file:///Users/vulf/.pyenv/versions/3.11.8/envs/acm-env/lib/python3.11/site-packages/regelum/callback.py#1109\u001b\\\u001b[2m1109\u001b[0m\u001b]8;;\u001b\\\n",
       "\u001b[2;36m           \u001b[0m         \u001b[1;36m563.61\u001b[0m\u001b[1m]\u001b[0m, action: \u001b[1m[\u001b[0m\u001b[1;36m-3.1\u001b[0m\u001b[1m]\u001b[0m, value: \u001b[1;36m0.0000\u001b[0m, time: \u001b[1;36m0.0040\u001b[0m \u001b[1m(\u001b[0m\u001b[1;36m40.0\u001b[0m%\u001b[1m)\u001b[0m, episode: \u001b[1;36m1\u001b[0m/\u001b[1;36m1\u001b[0m,    \u001b[2m                \u001b[0m\n",
       "\u001b[2;36m           \u001b[0m         iteration: \u001b[1;36m1\u001b[0m/\u001b[1;36m1\u001b[0m                                                                 \u001b[2m                \u001b[0m\n"
      ]
     },
     "metadata": {},
     "output_type": "display_data"
    },
    {
     "data": {
      "text/html": [
       "<pre style=\"white-space:pre;overflow-x:auto;line-height:normal;font-family:Menlo,'DejaVu Sans Mono',consolas,'Courier New',monospace\"><span style=\"color: #7fbfbf; text-decoration-color: #7fbfbf\">[22:08:09] </span><span style=\"color: #000080; text-decoration-color: #000080\">INFO    </span> runn. objective: <span style=\"color: #008080; text-decoration-color: #008080; font-weight: bold\">0.00</span>, state est.: <span style=\"font-weight: bold\">[</span>  <span style=\"color: #008080; text-decoration-color: #008080; font-weight: bold\">2.56</span> <span style=\"color: #008080; text-decoration-color: #008080; font-weight: bold\">275.13</span><span style=\"font-weight: bold\">]</span>, observation: <span style=\"font-weight: bold\">[</span>  <span style=\"color: #008080; text-decoration-color: #008080; font-weight: bold\">2.56</span>       <a href=\"file:///Users/vulf/.pyenv/versions/3.11.8/envs/acm-env/lib/python3.11/site-packages/regelum/callback.py\" target=\"_blank\"><span style=\"color: #7f7f7f; text-decoration-color: #7f7f7f\">callback.py</span></a><span style=\"color: #7f7f7f; text-decoration-color: #7f7f7f\">:</span><a href=\"file:///Users/vulf/.pyenv/versions/3.11.8/envs/acm-env/lib/python3.11/site-packages/regelum/callback.py#1109\" target=\"_blank\"><span style=\"color: #7f7f7f; text-decoration-color: #7f7f7f\">1109</span></a>\n",
       "<span style=\"color: #7fbfbf; text-decoration-color: #7fbfbf\">           </span>         <span style=\"color: #008080; text-decoration-color: #008080; font-weight: bold\">275.13</span><span style=\"font-weight: bold\">]</span>, action: <span style=\"font-weight: bold\">[</span><span style=\"color: #008080; text-decoration-color: #008080; font-weight: bold\">-8.42</span><span style=\"font-weight: bold\">]</span>, value: <span style=\"color: #008080; text-decoration-color: #008080; font-weight: bold\">0.0000</span>, time: <span style=\"color: #008080; text-decoration-color: #008080; font-weight: bold\">0.0050</span> <span style=\"font-weight: bold\">(</span><span style=\"color: #008080; text-decoration-color: #008080; font-weight: bold\">50.0</span>%<span style=\"font-weight: bold\">)</span>, episode: <span style=\"color: #008080; text-decoration-color: #008080; font-weight: bold\">1</span>/<span style=\"color: #008080; text-decoration-color: #008080; font-weight: bold\">1</span>,   <span style=\"color: #7f7f7f; text-decoration-color: #7f7f7f\">                </span>\n",
       "<span style=\"color: #7fbfbf; text-decoration-color: #7fbfbf\">           </span>         iteration: <span style=\"color: #008080; text-decoration-color: #008080; font-weight: bold\">1</span>/<span style=\"color: #008080; text-decoration-color: #008080; font-weight: bold\">1</span>                                                                 <span style=\"color: #7f7f7f; text-decoration-color: #7f7f7f\">                </span>\n",
       "</pre>\n"
      ],
      "text/plain": [
       "\u001b[2;36m[22:08:09]\u001b[0m\u001b[2;36m \u001b[0m\u001b[34mINFO    \u001b[0m runn. objective: \u001b[1;36m0.00\u001b[0m, state est.: \u001b[1m[\u001b[0m  \u001b[1;36m2.56\u001b[0m \u001b[1;36m275.13\u001b[0m\u001b[1m]\u001b[0m, observation: \u001b[1m[\u001b[0m  \u001b[1;36m2.56\u001b[0m       \u001b]8;id=791095;file:///Users/vulf/.pyenv/versions/3.11.8/envs/acm-env/lib/python3.11/site-packages/regelum/callback.py\u001b\\\u001b[2mcallback.py\u001b[0m\u001b]8;;\u001b\\\u001b[2m:\u001b[0m\u001b]8;id=818275;file:///Users/vulf/.pyenv/versions/3.11.8/envs/acm-env/lib/python3.11/site-packages/regelum/callback.py#1109\u001b\\\u001b[2m1109\u001b[0m\u001b]8;;\u001b\\\n",
       "\u001b[2;36m           \u001b[0m         \u001b[1;36m275.13\u001b[0m\u001b[1m]\u001b[0m, action: \u001b[1m[\u001b[0m\u001b[1;36m-8.42\u001b[0m\u001b[1m]\u001b[0m, value: \u001b[1;36m0.0000\u001b[0m, time: \u001b[1;36m0.0050\u001b[0m \u001b[1m(\u001b[0m\u001b[1;36m50.0\u001b[0m%\u001b[1m)\u001b[0m, episode: \u001b[1;36m1\u001b[0m/\u001b[1;36m1\u001b[0m,   \u001b[2m                \u001b[0m\n",
       "\u001b[2;36m           \u001b[0m         iteration: \u001b[1;36m1\u001b[0m/\u001b[1;36m1\u001b[0m                                                                 \u001b[2m                \u001b[0m\n"
      ]
     },
     "metadata": {},
     "output_type": "display_data"
    },
    {
     "data": {
      "text/html": [
       "<pre style=\"white-space:pre;overflow-x:auto;line-height:normal;font-family:Menlo,'DejaVu Sans Mono',consolas,'Courier New',monospace\"><span style=\"color: #7fbfbf; text-decoration-color: #7fbfbf\">[22:08:12] </span><span style=\"color: #000080; text-decoration-color: #000080\">INFO    </span> runn. objective: <span style=\"color: #008080; text-decoration-color: #008080; font-weight: bold\">0.00</span>, state est.: <span style=\"font-weight: bold\">[</span><span style=\"color: #008080; text-decoration-color: #008080; font-weight: bold\">2.68</span> <span style=\"color: #008080; text-decoration-color: #008080; font-weight: bold\">0.3</span> <span style=\"font-weight: bold\">]</span>, observation: <span style=\"font-weight: bold\">[</span><span style=\"color: #008080; text-decoration-color: #008080; font-weight: bold\">2.68</span> <span style=\"color: #008080; text-decoration-color: #008080; font-weight: bold\">0.3</span> <span style=\"font-weight: bold\">]</span>,      <a href=\"file:///Users/vulf/.pyenv/versions/3.11.8/envs/acm-env/lib/python3.11/site-packages/regelum/callback.py\" target=\"_blank\"><span style=\"color: #7f7f7f; text-decoration-color: #7f7f7f\">callback.py</span></a><span style=\"color: #7f7f7f; text-decoration-color: #7f7f7f\">:</span><a href=\"file:///Users/vulf/.pyenv/versions/3.11.8/envs/acm-env/lib/python3.11/site-packages/regelum/callback.py#1109\" target=\"_blank\"><span style=\"color: #7f7f7f; text-decoration-color: #7f7f7f\">1109</span></a>\n",
       "<span style=\"color: #7fbfbf; text-decoration-color: #7fbfbf\">           </span>         action: <span style=\"font-weight: bold\">[</span><span style=\"color: #008080; text-decoration-color: #008080; font-weight: bold\">-9.96</span><span style=\"font-weight: bold\">]</span>, value: <span style=\"color: #008080; text-decoration-color: #008080; font-weight: bold\">0.0000</span>, time: <span style=\"color: #008080; text-decoration-color: #008080; font-weight: bold\">0.0060</span> <span style=\"font-weight: bold\">(</span><span style=\"color: #008080; text-decoration-color: #008080; font-weight: bold\">60.0</span>%<span style=\"font-weight: bold\">)</span>, episode: <span style=\"color: #008080; text-decoration-color: #008080; font-weight: bold\">1</span>/<span style=\"color: #008080; text-decoration-color: #008080; font-weight: bold\">1</span>, iteration: <span style=\"color: #7f7f7f; text-decoration-color: #7f7f7f\">                </span>\n",
       "<span style=\"color: #7fbfbf; text-decoration-color: #7fbfbf\">           </span>         <span style=\"color: #008080; text-decoration-color: #008080; font-weight: bold\">1</span>/<span style=\"color: #008080; text-decoration-color: #008080; font-weight: bold\">1</span>                                                                            <span style=\"color: #7f7f7f; text-decoration-color: #7f7f7f\">                </span>\n",
       "</pre>\n"
      ],
      "text/plain": [
       "\u001b[2;36m[22:08:12]\u001b[0m\u001b[2;36m \u001b[0m\u001b[34mINFO    \u001b[0m runn. objective: \u001b[1;36m0.00\u001b[0m, state est.: \u001b[1m[\u001b[0m\u001b[1;36m2.68\u001b[0m \u001b[1;36m0.3\u001b[0m \u001b[1m]\u001b[0m, observation: \u001b[1m[\u001b[0m\u001b[1;36m2.68\u001b[0m \u001b[1;36m0.3\u001b[0m \u001b[1m]\u001b[0m,      \u001b]8;id=318909;file:///Users/vulf/.pyenv/versions/3.11.8/envs/acm-env/lib/python3.11/site-packages/regelum/callback.py\u001b\\\u001b[2mcallback.py\u001b[0m\u001b]8;;\u001b\\\u001b[2m:\u001b[0m\u001b]8;id=582129;file:///Users/vulf/.pyenv/versions/3.11.8/envs/acm-env/lib/python3.11/site-packages/regelum/callback.py#1109\u001b\\\u001b[2m1109\u001b[0m\u001b]8;;\u001b\\\n",
       "\u001b[2;36m           \u001b[0m         action: \u001b[1m[\u001b[0m\u001b[1;36m-9.96\u001b[0m\u001b[1m]\u001b[0m, value: \u001b[1;36m0.0000\u001b[0m, time: \u001b[1;36m0.0060\u001b[0m \u001b[1m(\u001b[0m\u001b[1;36m60.0\u001b[0m%\u001b[1m)\u001b[0m, episode: \u001b[1;36m1\u001b[0m/\u001b[1;36m1\u001b[0m, iteration: \u001b[2m                \u001b[0m\n",
       "\u001b[2;36m           \u001b[0m         \u001b[1;36m1\u001b[0m/\u001b[1;36m1\u001b[0m                                                                            \u001b[2m                \u001b[0m\n"
      ]
     },
     "metadata": {},
     "output_type": "display_data"
    },
    {
     "data": {
      "text/html": [
       "<pre style=\"white-space:pre;overflow-x:auto;line-height:normal;font-family:Menlo,'DejaVu Sans Mono',consolas,'Courier New',monospace\"><span style=\"color: #7fbfbf; text-decoration-color: #7fbfbf\">[22:08:14] </span><span style=\"color: #000080; text-decoration-color: #000080\">INFO    </span> runn. objective: <span style=\"color: #008080; text-decoration-color: #008080; font-weight: bold\">0.00</span>, state est.: <span style=\"font-weight: bold\">[</span><span style=\"color: #008080; text-decoration-color: #008080; font-weight: bold\">2.68</span> <span style=\"color: #008080; text-decoration-color: #008080; font-weight: bold\">0.78</span><span style=\"font-weight: bold\">]</span>, observation: <span style=\"font-weight: bold\">[</span><span style=\"color: #008080; text-decoration-color: #008080; font-weight: bold\">2.68</span> <span style=\"color: #008080; text-decoration-color: #008080; font-weight: bold\">0.78</span><span style=\"font-weight: bold\">]</span>,      <a href=\"file:///Users/vulf/.pyenv/versions/3.11.8/envs/acm-env/lib/python3.11/site-packages/regelum/callback.py\" target=\"_blank\"><span style=\"color: #7f7f7f; text-decoration-color: #7f7f7f\">callback.py</span></a><span style=\"color: #7f7f7f; text-decoration-color: #7f7f7f\">:</span><a href=\"file:///Users/vulf/.pyenv/versions/3.11.8/envs/acm-env/lib/python3.11/site-packages/regelum/callback.py#1109\" target=\"_blank\"><span style=\"color: #7f7f7f; text-decoration-color: #7f7f7f\">1109</span></a>\n",
       "<span style=\"color: #7fbfbf; text-decoration-color: #7fbfbf\">           </span>         action: <span style=\"font-weight: bold\">[</span><span style=\"color: #008080; text-decoration-color: #008080; font-weight: bold\">-9.98</span><span style=\"font-weight: bold\">]</span>, value: <span style=\"color: #008080; text-decoration-color: #008080; font-weight: bold\">0.0000</span>, time: <span style=\"color: #008080; text-decoration-color: #008080; font-weight: bold\">0.0070</span> <span style=\"font-weight: bold\">(</span><span style=\"color: #008080; text-decoration-color: #008080; font-weight: bold\">70.0</span>%<span style=\"font-weight: bold\">)</span>, episode: <span style=\"color: #008080; text-decoration-color: #008080; font-weight: bold\">1</span>/<span style=\"color: #008080; text-decoration-color: #008080; font-weight: bold\">1</span>, iteration: <span style=\"color: #7f7f7f; text-decoration-color: #7f7f7f\">                </span>\n",
       "<span style=\"color: #7fbfbf; text-decoration-color: #7fbfbf\">           </span>         <span style=\"color: #008080; text-decoration-color: #008080; font-weight: bold\">1</span>/<span style=\"color: #008080; text-decoration-color: #008080; font-weight: bold\">1</span>                                                                            <span style=\"color: #7f7f7f; text-decoration-color: #7f7f7f\">                </span>\n",
       "</pre>\n"
      ],
      "text/plain": [
       "\u001b[2;36m[22:08:14]\u001b[0m\u001b[2;36m \u001b[0m\u001b[34mINFO    \u001b[0m runn. objective: \u001b[1;36m0.00\u001b[0m, state est.: \u001b[1m[\u001b[0m\u001b[1;36m2.68\u001b[0m \u001b[1;36m0.78\u001b[0m\u001b[1m]\u001b[0m, observation: \u001b[1m[\u001b[0m\u001b[1;36m2.68\u001b[0m \u001b[1;36m0.78\u001b[0m\u001b[1m]\u001b[0m,      \u001b]8;id=161203;file:///Users/vulf/.pyenv/versions/3.11.8/envs/acm-env/lib/python3.11/site-packages/regelum/callback.py\u001b\\\u001b[2mcallback.py\u001b[0m\u001b]8;;\u001b\\\u001b[2m:\u001b[0m\u001b]8;id=678883;file:///Users/vulf/.pyenv/versions/3.11.8/envs/acm-env/lib/python3.11/site-packages/regelum/callback.py#1109\u001b\\\u001b[2m1109\u001b[0m\u001b]8;;\u001b\\\n",
       "\u001b[2;36m           \u001b[0m         action: \u001b[1m[\u001b[0m\u001b[1;36m-9.98\u001b[0m\u001b[1m]\u001b[0m, value: \u001b[1;36m0.0000\u001b[0m, time: \u001b[1;36m0.0070\u001b[0m \u001b[1m(\u001b[0m\u001b[1;36m70.0\u001b[0m%\u001b[1m)\u001b[0m, episode: \u001b[1;36m1\u001b[0m/\u001b[1;36m1\u001b[0m, iteration: \u001b[2m                \u001b[0m\n",
       "\u001b[2;36m           \u001b[0m         \u001b[1;36m1\u001b[0m/\u001b[1;36m1\u001b[0m                                                                            \u001b[2m                \u001b[0m\n"
      ]
     },
     "metadata": {},
     "output_type": "display_data"
    },
    {
     "data": {
      "text/html": [
       "<pre style=\"white-space:pre;overflow-x:auto;line-height:normal;font-family:Menlo,'DejaVu Sans Mono',consolas,'Courier New',monospace\"><span style=\"color: #7fbfbf; text-decoration-color: #7fbfbf\">[22:08:16] </span><span style=\"color: #000080; text-decoration-color: #000080\">INFO    </span> runn. objective: <span style=\"color: #008080; text-decoration-color: #008080; font-weight: bold\">0.00</span>, state est.: <span style=\"font-weight: bold\">[</span><span style=\"color: #008080; text-decoration-color: #008080; font-weight: bold\">2.68</span> <span style=\"color: #008080; text-decoration-color: #008080; font-weight: bold\">0.53</span><span style=\"font-weight: bold\">]</span>, observation: <span style=\"font-weight: bold\">[</span><span style=\"color: #008080; text-decoration-color: #008080; font-weight: bold\">2.68</span> <span style=\"color: #008080; text-decoration-color: #008080; font-weight: bold\">0.53</span><span style=\"font-weight: bold\">]</span>,      <a href=\"file:///Users/vulf/.pyenv/versions/3.11.8/envs/acm-env/lib/python3.11/site-packages/regelum/callback.py\" target=\"_blank\"><span style=\"color: #7f7f7f; text-decoration-color: #7f7f7f\">callback.py</span></a><span style=\"color: #7f7f7f; text-decoration-color: #7f7f7f\">:</span><a href=\"file:///Users/vulf/.pyenv/versions/3.11.8/envs/acm-env/lib/python3.11/site-packages/regelum/callback.py#1109\" target=\"_blank\"><span style=\"color: #7f7f7f; text-decoration-color: #7f7f7f\">1109</span></a>\n",
       "<span style=\"color: #7fbfbf; text-decoration-color: #7fbfbf\">           </span>         action: <span style=\"font-weight: bold\">[</span><span style=\"color: #008080; text-decoration-color: #008080; font-weight: bold\">-9.99</span><span style=\"font-weight: bold\">]</span>, value: <span style=\"color: #008080; text-decoration-color: #008080; font-weight: bold\">0.0000</span>, time: <span style=\"color: #008080; text-decoration-color: #008080; font-weight: bold\">0.0080</span> <span style=\"font-weight: bold\">(</span><span style=\"color: #008080; text-decoration-color: #008080; font-weight: bold\">80.0</span>%<span style=\"font-weight: bold\">)</span>, episode: <span style=\"color: #008080; text-decoration-color: #008080; font-weight: bold\">1</span>/<span style=\"color: #008080; text-decoration-color: #008080; font-weight: bold\">1</span>, iteration: <span style=\"color: #7f7f7f; text-decoration-color: #7f7f7f\">                </span>\n",
       "<span style=\"color: #7fbfbf; text-decoration-color: #7fbfbf\">           </span>         <span style=\"color: #008080; text-decoration-color: #008080; font-weight: bold\">1</span>/<span style=\"color: #008080; text-decoration-color: #008080; font-weight: bold\">1</span>                                                                            <span style=\"color: #7f7f7f; text-decoration-color: #7f7f7f\">                </span>\n",
       "</pre>\n"
      ],
      "text/plain": [
       "\u001b[2;36m[22:08:16]\u001b[0m\u001b[2;36m \u001b[0m\u001b[34mINFO    \u001b[0m runn. objective: \u001b[1;36m0.00\u001b[0m, state est.: \u001b[1m[\u001b[0m\u001b[1;36m2.68\u001b[0m \u001b[1;36m0.53\u001b[0m\u001b[1m]\u001b[0m, observation: \u001b[1m[\u001b[0m\u001b[1;36m2.68\u001b[0m \u001b[1;36m0.53\u001b[0m\u001b[1m]\u001b[0m,      \u001b]8;id=912697;file:///Users/vulf/.pyenv/versions/3.11.8/envs/acm-env/lib/python3.11/site-packages/regelum/callback.py\u001b\\\u001b[2mcallback.py\u001b[0m\u001b]8;;\u001b\\\u001b[2m:\u001b[0m\u001b]8;id=235568;file:///Users/vulf/.pyenv/versions/3.11.8/envs/acm-env/lib/python3.11/site-packages/regelum/callback.py#1109\u001b\\\u001b[2m1109\u001b[0m\u001b]8;;\u001b\\\n",
       "\u001b[2;36m           \u001b[0m         action: \u001b[1m[\u001b[0m\u001b[1;36m-9.99\u001b[0m\u001b[1m]\u001b[0m, value: \u001b[1;36m0.0000\u001b[0m, time: \u001b[1;36m0.0080\u001b[0m \u001b[1m(\u001b[0m\u001b[1;36m80.0\u001b[0m%\u001b[1m)\u001b[0m, episode: \u001b[1;36m1\u001b[0m/\u001b[1;36m1\u001b[0m, iteration: \u001b[2m                \u001b[0m\n",
       "\u001b[2;36m           \u001b[0m         \u001b[1;36m1\u001b[0m/\u001b[1;36m1\u001b[0m                                                                            \u001b[2m                \u001b[0m\n"
      ]
     },
     "metadata": {},
     "output_type": "display_data"
    },
    {
     "data": {
      "text/html": [
       "<pre style=\"white-space:pre;overflow-x:auto;line-height:normal;font-family:Menlo,'DejaVu Sans Mono',consolas,'Courier New',monospace\"><span style=\"color: #7fbfbf; text-decoration-color: #7fbfbf\">[22:08:18] </span><span style=\"color: #000080; text-decoration-color: #000080\">INFO    </span> runn. objective: <span style=\"color: #008080; text-decoration-color: #008080; font-weight: bold\">0.00</span>, state est.: <span style=\"font-weight: bold\">[</span><span style=\"color: #008080; text-decoration-color: #008080; font-weight: bold\">2.68</span> <span style=\"color: #008080; text-decoration-color: #008080; font-weight: bold\">0.03</span><span style=\"font-weight: bold\">]</span>, observation: <span style=\"font-weight: bold\">[</span><span style=\"color: #008080; text-decoration-color: #008080; font-weight: bold\">2.68</span> <span style=\"color: #008080; text-decoration-color: #008080; font-weight: bold\">0.03</span><span style=\"font-weight: bold\">]</span>,      <a href=\"file:///Users/vulf/.pyenv/versions/3.11.8/envs/acm-env/lib/python3.11/site-packages/regelum/callback.py\" target=\"_blank\"><span style=\"color: #7f7f7f; text-decoration-color: #7f7f7f\">callback.py</span></a><span style=\"color: #7f7f7f; text-decoration-color: #7f7f7f\">:</span><a href=\"file:///Users/vulf/.pyenv/versions/3.11.8/envs/acm-env/lib/python3.11/site-packages/regelum/callback.py#1109\" target=\"_blank\"><span style=\"color: #7f7f7f; text-decoration-color: #7f7f7f\">1109</span></a>\n",
       "<span style=\"color: #7fbfbf; text-decoration-color: #7fbfbf\">           </span>         action: <span style=\"font-weight: bold\">[</span><span style=\"color: #008080; text-decoration-color: #008080; font-weight: bold\">-10</span>.<span style=\"font-weight: bold\">]</span>, value: <span style=\"color: #008080; text-decoration-color: #008080; font-weight: bold\">0.0000</span>, time: <span style=\"color: #008080; text-decoration-color: #008080; font-weight: bold\">0.0090</span> <span style=\"font-weight: bold\">(</span><span style=\"color: #008080; text-decoration-color: #008080; font-weight: bold\">90.0</span>%<span style=\"font-weight: bold\">)</span>, episode: <span style=\"color: #008080; text-decoration-color: #008080; font-weight: bold\">1</span>/<span style=\"color: #008080; text-decoration-color: #008080; font-weight: bold\">1</span>, iteration:  <span style=\"color: #7f7f7f; text-decoration-color: #7f7f7f\">                </span>\n",
       "<span style=\"color: #7fbfbf; text-decoration-color: #7fbfbf\">           </span>         <span style=\"color: #008080; text-decoration-color: #008080; font-weight: bold\">1</span>/<span style=\"color: #008080; text-decoration-color: #008080; font-weight: bold\">1</span>                                                                            <span style=\"color: #7f7f7f; text-decoration-color: #7f7f7f\">                </span>\n",
       "</pre>\n"
      ],
      "text/plain": [
       "\u001b[2;36m[22:08:18]\u001b[0m\u001b[2;36m \u001b[0m\u001b[34mINFO    \u001b[0m runn. objective: \u001b[1;36m0.00\u001b[0m, state est.: \u001b[1m[\u001b[0m\u001b[1;36m2.68\u001b[0m \u001b[1;36m0.03\u001b[0m\u001b[1m]\u001b[0m, observation: \u001b[1m[\u001b[0m\u001b[1;36m2.68\u001b[0m \u001b[1;36m0.03\u001b[0m\u001b[1m]\u001b[0m,      \u001b]8;id=180081;file:///Users/vulf/.pyenv/versions/3.11.8/envs/acm-env/lib/python3.11/site-packages/regelum/callback.py\u001b\\\u001b[2mcallback.py\u001b[0m\u001b]8;;\u001b\\\u001b[2m:\u001b[0m\u001b]8;id=246792;file:///Users/vulf/.pyenv/versions/3.11.8/envs/acm-env/lib/python3.11/site-packages/regelum/callback.py#1109\u001b\\\u001b[2m1109\u001b[0m\u001b]8;;\u001b\\\n",
       "\u001b[2;36m           \u001b[0m         action: \u001b[1m[\u001b[0m\u001b[1;36m-10\u001b[0m.\u001b[1m]\u001b[0m, value: \u001b[1;36m0.0000\u001b[0m, time: \u001b[1;36m0.0090\u001b[0m \u001b[1m(\u001b[0m\u001b[1;36m90.0\u001b[0m%\u001b[1m)\u001b[0m, episode: \u001b[1;36m1\u001b[0m/\u001b[1;36m1\u001b[0m, iteration:  \u001b[2m                \u001b[0m\n",
       "\u001b[2;36m           \u001b[0m         \u001b[1;36m1\u001b[0m/\u001b[1;36m1\u001b[0m                                                                            \u001b[2m                \u001b[0m\n"
      ]
     },
     "metadata": {},
     "output_type": "display_data"
    },
    {
     "data": {
      "text/html": [
       "<pre style=\"white-space:pre;overflow-x:auto;line-height:normal;font-family:Menlo,'DejaVu Sans Mono',consolas,'Courier New',monospace\"><span style=\"color: #7fbfbf; text-decoration-color: #7fbfbf\">[22:08:21] </span><span style=\"color: #000080; text-decoration-color: #000080\">INFO    </span> runn. objective: <span style=\"color: #008080; text-decoration-color: #008080; font-weight: bold\">0.00</span>, state est.: <span style=\"font-weight: bold\">[</span><span style=\"color: #008080; text-decoration-color: #008080; font-weight: bold\">2.68</span> <span style=\"color: #008080; text-decoration-color: #008080; font-weight: bold\">1.6</span> <span style=\"font-weight: bold\">]</span>, observation: <span style=\"font-weight: bold\">[</span><span style=\"color: #008080; text-decoration-color: #008080; font-weight: bold\">2.68</span> <span style=\"color: #008080; text-decoration-color: #008080; font-weight: bold\">1.6</span> <span style=\"font-weight: bold\">]</span>,      <a href=\"file:///Users/vulf/.pyenv/versions/3.11.8/envs/acm-env/lib/python3.11/site-packages/regelum/callback.py\" target=\"_blank\"><span style=\"color: #7f7f7f; text-decoration-color: #7f7f7f\">callback.py</span></a><span style=\"color: #7f7f7f; text-decoration-color: #7f7f7f\">:</span><a href=\"file:///Users/vulf/.pyenv/versions/3.11.8/envs/acm-env/lib/python3.11/site-packages/regelum/callback.py#1109\" target=\"_blank\"><span style=\"color: #7f7f7f; text-decoration-color: #7f7f7f\">1109</span></a>\n",
       "<span style=\"color: #7fbfbf; text-decoration-color: #7fbfbf\">           </span>         action: <span style=\"font-weight: bold\">[</span><span style=\"color: #008080; text-decoration-color: #008080; font-weight: bold\">-10.02</span><span style=\"font-weight: bold\">]</span>, value: <span style=\"color: #008080; text-decoration-color: #008080; font-weight: bold\">0.0000</span>, time: <span style=\"color: #008080; text-decoration-color: #008080; font-weight: bold\">0.0100</span> <span style=\"font-weight: bold\">(</span><span style=\"color: #008080; text-decoration-color: #008080; font-weight: bold\">100.0</span>%<span style=\"font-weight: bold\">)</span>, episode: <span style=\"color: #008080; text-decoration-color: #008080; font-weight: bold\">1</span>/<span style=\"color: #008080; text-decoration-color: #008080; font-weight: bold\">1</span>,          <span style=\"color: #7f7f7f; text-decoration-color: #7f7f7f\">                </span>\n",
       "<span style=\"color: #7fbfbf; text-decoration-color: #7fbfbf\">           </span>         iteration: <span style=\"color: #008080; text-decoration-color: #008080; font-weight: bold\">1</span>/<span style=\"color: #008080; text-decoration-color: #008080; font-weight: bold\">1</span>                                                                 <span style=\"color: #7f7f7f; text-decoration-color: #7f7f7f\">                </span>\n",
       "</pre>\n"
      ],
      "text/plain": [
       "\u001b[2;36m[22:08:21]\u001b[0m\u001b[2;36m \u001b[0m\u001b[34mINFO    \u001b[0m runn. objective: \u001b[1;36m0.00\u001b[0m, state est.: \u001b[1m[\u001b[0m\u001b[1;36m2.68\u001b[0m \u001b[1;36m1.6\u001b[0m \u001b[1m]\u001b[0m, observation: \u001b[1m[\u001b[0m\u001b[1;36m2.68\u001b[0m \u001b[1;36m1.6\u001b[0m \u001b[1m]\u001b[0m,      \u001b]8;id=177968;file:///Users/vulf/.pyenv/versions/3.11.8/envs/acm-env/lib/python3.11/site-packages/regelum/callback.py\u001b\\\u001b[2mcallback.py\u001b[0m\u001b]8;;\u001b\\\u001b[2m:\u001b[0m\u001b]8;id=42058;file:///Users/vulf/.pyenv/versions/3.11.8/envs/acm-env/lib/python3.11/site-packages/regelum/callback.py#1109\u001b\\\u001b[2m1109\u001b[0m\u001b]8;;\u001b\\\n",
       "\u001b[2;36m           \u001b[0m         action: \u001b[1m[\u001b[0m\u001b[1;36m-10.02\u001b[0m\u001b[1m]\u001b[0m, value: \u001b[1;36m0.0000\u001b[0m, time: \u001b[1;36m0.0100\u001b[0m \u001b[1m(\u001b[0m\u001b[1;36m100.0\u001b[0m%\u001b[1m)\u001b[0m, episode: \u001b[1;36m1\u001b[0m/\u001b[1;36m1\u001b[0m,          \u001b[2m                \u001b[0m\n",
       "\u001b[2;36m           \u001b[0m         iteration: \u001b[1;36m1\u001b[0m/\u001b[1;36m1\u001b[0m                                                                 \u001b[2m                \u001b[0m\n"
      ]
     },
     "metadata": {},
     "output_type": "display_data"
    }
   ],
   "source": [
    "max_step = 1e-7\n",
    "sampling_time = 1e-3 # 1e-3\n",
    "final_time = 10e-3 # 10e-3\n",
    "\n",
    "# Define the initial state (initial position of the kinematic point).\n",
    "p_atm = 1e5\n",
    "initial_state = np.array([1e3, 0, 0, p_atm, p_atm])\n",
    "\n",
    "# Initialize the kinematic point system.\n",
    "hydr_system = HydraulicSystem(\n",
    "    init_state=initial_state\n",
    ")\n",
    "\n",
    "# Instantiate a simulator for the hydraulic system\n",
    "simulator = CasADi(\n",
    "    system=hydr_system, \n",
    "    state_init=initial_state, \n",
    "    time_final=final_time, \n",
    "    max_step=max_step,\n",
    "    # rtol=1e-10,\n",
    "    # atol=1e-10,\n",
    ")\n",
    "\n",
    "pd_policy = PDController(\n",
    "    system=hydr_system,\n",
    "    sampling_time=sampling_time,\n",
    ")\n",
    "\n",
    "scenario = Scenario(\n",
    "    policy=PDController(\n",
    "        system=hydr_system,\n",
    "        sampling_time=sampling_time\n",
    "    ),\n",
    "    simulator=simulator,\n",
    "    sampling_time=sampling_time,\n",
    "    N_episodes=1,\n",
    "    N_iterations=1,\n",
    ")\n",
    "\n",
    "scenario.run()"
   ]
  },
  {
   "cell_type": "code",
   "execution_count": 5,
   "metadata": {},
   "outputs": [
    {
     "data": {
      "text/html": [
       "<div>\n",
       "<style scoped>\n",
       "    .dataframe tbody tr th:only-of-type {\n",
       "        vertical-align: middle;\n",
       "    }\n",
       "\n",
       "    .dataframe tbody tr th {\n",
       "        vertical-align: top;\n",
       "    }\n",
       "\n",
       "    .dataframe thead th {\n",
       "        text-align: right;\n",
       "    }\n",
       "</style>\n",
       "<table border=\"1\" class=\"dataframe\">\n",
       "  <thead>\n",
       "    <tr style=\"text-align: right;\">\n",
       "      <th></th>\n",
       "      <th>time</th>\n",
       "      <th>running_objective</th>\n",
       "      <th>current_value</th>\n",
       "      <th>episode_id</th>\n",
       "      <th>iteration_id</th>\n",
       "      <th>throttle action [µm]</th>\n",
       "      <th>jet length [mm]</th>\n",
       "      <th>jet velocity [mm/s]</th>\n",
       "    </tr>\n",
       "  </thead>\n",
       "  <tbody>\n",
       "    <tr>\n",
       "      <th>0</th>\n",
       "      <td>0.000000</td>\n",
       "      <td>0</td>\n",
       "      <td>0.0</td>\n",
       "      <td>1</td>\n",
       "      <td>1</td>\n",
       "      <td>20.000000</td>\n",
       "      <td>0.000000</td>\n",
       "      <td>0.000000</td>\n",
       "    </tr>\n",
       "    <tr>\n",
       "      <th>1</th>\n",
       "      <td>0.001000</td>\n",
       "      <td>0</td>\n",
       "      <td>0.0</td>\n",
       "      <td>1</td>\n",
       "      <td>1</td>\n",
       "      <td>20.000000</td>\n",
       "      <td>0.217593</td>\n",
       "      <td>432.482033</td>\n",
       "    </tr>\n",
       "    <tr>\n",
       "      <th>2</th>\n",
       "      <td>0.002000</td>\n",
       "      <td>0</td>\n",
       "      <td>0.0</td>\n",
       "      <td>1</td>\n",
       "      <td>1</td>\n",
       "      <td>14.672232</td>\n",
       "      <td>0.791817</td>\n",
       "      <td>694.231121</td>\n",
       "    </tr>\n",
       "    <tr>\n",
       "      <th>3</th>\n",
       "      <td>0.003000</td>\n",
       "      <td>0</td>\n",
       "      <td>0.0</td>\n",
       "      <td>1</td>\n",
       "      <td>1</td>\n",
       "      <td>5.301812</td>\n",
       "      <td>1.510236</td>\n",
       "      <td>738.475859</td>\n",
       "    </tr>\n",
       "    <tr>\n",
       "      <th>4</th>\n",
       "      <td>0.004000</td>\n",
       "      <td>0</td>\n",
       "      <td>0.0</td>\n",
       "      <td>1</td>\n",
       "      <td>1</td>\n",
       "      <td>-3.101204</td>\n",
       "      <td>2.154485</td>\n",
       "      <td>563.610518</td>\n",
       "    </tr>\n",
       "    <tr>\n",
       "      <th>5</th>\n",
       "      <td>0.005000</td>\n",
       "      <td>0</td>\n",
       "      <td>0.0</td>\n",
       "      <td>1</td>\n",
       "      <td>1</td>\n",
       "      <td>-8.419015</td>\n",
       "      <td>2.562195</td>\n",
       "      <td>275.134635</td>\n",
       "    </tr>\n",
       "    <tr>\n",
       "      <th>6</th>\n",
       "      <td>0.006000</td>\n",
       "      <td>0</td>\n",
       "      <td>0.0</td>\n",
       "      <td>1</td>\n",
       "      <td>1</td>\n",
       "      <td>-9.962310</td>\n",
       "      <td>2.680517</td>\n",
       "      <td>0.298626</td>\n",
       "    </tr>\n",
       "    <tr>\n",
       "      <th>7</th>\n",
       "      <td>0.007000</td>\n",
       "      <td>0</td>\n",
       "      <td>0.0</td>\n",
       "      <td>1</td>\n",
       "      <td>1</td>\n",
       "      <td>-9.976768</td>\n",
       "      <td>2.681626</td>\n",
       "      <td>0.777985</td>\n",
       "    </tr>\n",
       "    <tr>\n",
       "      <th>8</th>\n",
       "      <td>0.008000</td>\n",
       "      <td>0</td>\n",
       "      <td>0.0</td>\n",
       "      <td>1</td>\n",
       "      <td>1</td>\n",
       "      <td>-9.990397</td>\n",
       "      <td>2.682671</td>\n",
       "      <td>0.528241</td>\n",
       "    </tr>\n",
       "    <tr>\n",
       "      <th>9</th>\n",
       "      <td>0.009000</td>\n",
       "      <td>0</td>\n",
       "      <td>0.0</td>\n",
       "      <td>1</td>\n",
       "      <td>1</td>\n",
       "      <td>-10.002892</td>\n",
       "      <td>2.683629</td>\n",
       "      <td>0.031764</td>\n",
       "    </tr>\n",
       "    <tr>\n",
       "      <th>10</th>\n",
       "      <td>0.009999</td>\n",
       "      <td>0</td>\n",
       "      <td>0.0</td>\n",
       "      <td>1</td>\n",
       "      <td>1</td>\n",
       "      <td>-10.015881</td>\n",
       "      <td>2.684625</td>\n",
       "      <td>1.600703</td>\n",
       "    </tr>\n",
       "  </tbody>\n",
       "</table>\n",
       "</div>"
      ]
     },
     "metadata": {},
     "output_type": "display_data"
    },
    {
     "data": {
      "image/png": "[encoded data removed]"
     },
     "metadata": {},
     "output_type": "display_data"
    }
   ],
   "source": [
    "display(callbacks[1].data)\n",
    "callbacks[1].plot(name=\"observations\");"
   ]
  }
 ],
 "metadata": {
  "kernelspec": {
   "display_name": "acm-env",
   "language": "python",
   "name": "python3"
  },
  "language_info": {
   "codemirror_mode": {
    "name": "ipython",
    "version": 3
   },
   "file_extension": ".py",
   "mimetype": "text/x-python",
   "name": "python",
   "nbconvert_exporter": "python",
   "pygments_lexer": "ipython3",
   "version": "3.11.8"
  }
 },
 "nbformat": 4,
 "nbformat_minor": 2
}
