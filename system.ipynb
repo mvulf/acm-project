{
 "cells": [
  {
   "cell_type": "code",
   "execution_count": 1,
   "metadata": {},
   "outputs": [],
   "source": [
    "from casadi.casadi import MX\n",
    "import numpy as np\n",
    "from typing import Tuple, Dict, Optional, Callable, Type, Any\n",
    "\n",
    "from src.system import HydraulicSystem\n",
    "\n",
    "# from regelum.system import System\n",
    "from regelum.utils import rg"
   ]
  },
  {
   "cell_type": "code",
   "execution_count": 2,
   "metadata": {},
   "outputs": [],
   "source": [
    "system = HydraulicSystem()"
   ]
  },
  {
   "cell_type": "code",
   "execution_count": 3,
   "metadata": {},
   "outputs": [
    {
     "data": {
      "text/html": [
       "<pre style=\"white-space:pre;overflow-x:auto;line-height:normal;font-family:Menlo,'DejaVu Sans Mono',consolas,'Courier New',monospace\"><span style=\"color: #800080; text-decoration-color: #800080; font-weight: bold\">array</span><span style=\"font-weight: bold\">([[</span>    <span style=\"color: #008080; text-decoration-color: #008080; font-weight: bold\">0</span>.,     <span style=\"color: #008080; text-decoration-color: #008080; font-weight: bold\">0</span>., <span style=\"color: #008080; text-decoration-color: #008080; font-weight: bold\">10000</span>.<span style=\"font-weight: bold\">]])</span>\n",
       "</pre>\n"
      ],
      "text/plain": [
       "\u001b[1;35marray\u001b[0m\u001b[1m(\u001b[0m\u001b[1m[\u001b[0m\u001b[1m[\u001b[0m    \u001b[1;36m0\u001b[0m.,     \u001b[1;36m0\u001b[0m., \u001b[1;36m10000\u001b[0m.\u001b[1m]\u001b[0m\u001b[1m]\u001b[0m\u001b[1m)\u001b[0m\n"
      ]
     },
     "metadata": {},
     "output_type": "display_data"
    }
   ],
   "source": [
    "system.compute_state_dynamics(0, np.array([2.0, 0, 0]), inputs=np.array([[10]]))"
   ]
  },
  {
   "cell_type": "code",
   "execution_count": 2,
   "metadata": {},
   "outputs": [],
   "source": [
    "class KinematicPoint(System):\n",
    "    _name = \"kinematic-point\"\n",
    "    _system_type = \"diff_eqn\"\n",
    "    _dim_state = 2\n",
    "    _dim_inputs = 2\n",
    "    _dim_observation = 2\n",
    "    _observation_naming = _state_naming = [\"x\", \"y\"]\n",
    "    _inputs_naming = [\"v_x\", \"v_y\"]\n",
    "    _action_bounds = [[-10.0, 10.0], [-10.0, 10.0]]\n",
    "\n",
    "    def _compute_state_dynamics(self, time, state, inputs):\n",
    "        return inputs  # The velocity inputs directly define the rate of change of position."
   ]
  }
 ],
 "metadata": {
  "kernelspec": {
   "display_name": "acm-venv",
   "language": "python",
   "name": "python3"
  },
  "language_info": {
   "codemirror_mode": {
    "name": "ipython",
    "version": 3
   },
   "file_extension": ".py",
   "mimetype": "text/x-python",
   "name": "python",
   "nbconvert_exporter": "python",
   "pygments_lexer": "ipython3",
   "version": "3.11.7"
  }
 },
 "nbformat": 4,
 "nbformat_minor": 2
}
