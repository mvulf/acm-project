{
 "cells": [
  {
   "cell_type": "markdown",
   "metadata": {},
   "source": [
    "This is the main research notebook of the current project.\n",
    "See full description in [README.md](https://github.com/mvulf/acm-project/blob/main/README.md)"
   ]
  },
  {
   "cell_type": "markdown",
   "metadata": {},
   "source": [
    "# Import libraries and setup callbacks"
   ]
  },
  {
   "cell_type": "code",
   "execution_count": 1,
   "metadata": {},
   "outputs": [],
   "source": [
    "import numpy as np\n",
    "\n",
    "import sys\n",
    "sys.path.append('../')\n",
    "\n",
    "from regelum.simulator import CasADi\n",
    "\n",
    "from regelum.objective import RunningObjective\n",
    "from regelum.scenario import Scenario, RLScenario\n",
    "\n",
    "# For MPC only\n",
    "from regelum.utils import rg\n",
    "from regelum.predictor import EulerPredictor\n",
    "from regelum.model import ModelWeightContainer\n",
    "# Max Iteration count may be added in opt_options={\"print_level\": 0, \"max_iter\": MAX_ITER},\n",
    "from regelum.optimizable.core.configs import CasadiOptimizerConfig\n",
    "from regelum.critic import CriticTrivial\n",
    "from regelum.event import Event\n",
    "\n",
    "from src.system import HydraulicSystem, StationaryHydraulicSystem\n",
    "from src.observer import StationaryHydraulicObserver\n",
    "from src.policy import PDController, MPC\n",
    "from src.objective import HydraulicObjectiveModel\n",
    "\n",
    "\n",
    "# Callbacks\n",
    "from regelum.callback import ScenarioStepLogger\n",
    "from src.callback import HistoricalDataCallback, SimulatorStepLogger\n",
    "from regelum import set_ipython_env\n",
    "%matplotlib inline\n",
    "\n",
    "callbacks = [SimulatorStepLogger, ScenarioStepLogger, HistoricalDataCallback]\n",
    "ScenarioStepLogger.cooldown = 0.01\n",
    "callbacks = set_ipython_env(callbacks=callbacks, interactive=True)"
   ]
  },
  {
   "cell_type": "markdown",
   "metadata": {},
   "source": [
    "# Setup common parameters and objects"
   ]
  },
  {
   "cell_type": "code",
   "execution_count": 2,
   "metadata": {},
   "outputs": [],
   "source": [
    "MAX_STEP = 1e-7\n",
    "FINAL_TIME = 10e-3\n",
    "SAMPLING_TIME = 1e-3\n",
    "\n",
    "# Define the initial state\n",
    "p_atm = 1e5\n",
    "initial_state = rg.array([1e3, 0, 0, p_atm, p_atm])\n",
    "\n",
    "# SYSTEM and SIMULATOR\n",
    "system = HydraulicSystem(\n",
    "    init_state=initial_state\n",
    ")\n",
    "simulator = CasADi(\n",
    "    system=system,\n",
    "    state_init=initial_state,\n",
    "    action_init=rg.array([0]),\n",
    "    time_final=FINAL_TIME,\n",
    "    max_step=MAX_STEP,\n",
    ")\n",
    "\n",
    "# RUNNING OBJECTIVE\n",
    "running_objective_model = HydraulicObjectiveModel(\n",
    "    system=system,\n",
    "    quad_matrix_type=\"diagonal\", weights=[1, 0, 0]\n",
    ")  # A quadratic model for running (a.k.a. instant) objective\n",
    "running_objective = RunningObjective(\n",
    "    model=running_objective_model\n",
    ")  # Wrap `running_objective_model` into `RunningObjective` class"
   ]
  },
  {
   "cell_type": "markdown",
   "metadata": {},
   "source": [
    "# Experiments"
   ]
  },
  {
   "cell_type": "markdown",
   "metadata": {},
   "source": [
    "Below you can find experiments of both PD and MPC controller"
   ]
  },
  {
   "cell_type": "markdown",
   "metadata": {},
   "source": [
    "## PD-controller"
   ]
  },
  {
   "cell_type": "code",
   "execution_count": 3,
   "metadata": {},
   "outputs": [
    {
     "data": {
      "text/html": [
       "<pre style=\"white-space:pre;overflow-x:auto;line-height:normal;font-family:Menlo,'DejaVu Sans Mono',consolas,'Courier New',monospace\"><span style=\"color: #7fbfbf; text-decoration-color: #7fbfbf\">[16:40:48] </span><span style=\"color: #000080; text-decoration-color: #000080\">INFO    </span> runn. objective: <span style=\"color: #008080; text-decoration-color: #008080; font-weight: bold\">3.71</span>, state est.: <span style=\"font-weight: bold\">[</span><span style=\"color: #008080; text-decoration-color: #008080; font-weight: bold\">0</span>. <span style=\"color: #008080; text-decoration-color: #008080; font-weight: bold\">0</span>.<span style=\"font-weight: bold\">]</span>, observation: <span style=\"font-weight: bold\">[</span><span style=\"color: #008080; text-decoration-color: #008080; font-weight: bold\">0</span>. <span style=\"color: #008080; text-decoration-color: #008080; font-weight: bold\">0</span>.<span style=\"font-weight: bold\">]</span>, action:      <a href=\"file:///Users/vulf/.pyenv/versions/3.11.8/envs/acm-env/lib/python3.11/site-packages/regelum/callback.py\" target=\"_blank\"><span style=\"color: #7f7f7f; text-decoration-color: #7f7f7f\">callback.py</span></a><span style=\"color: #7f7f7f; text-decoration-color: #7f7f7f\">:</span><a href=\"file:///Users/vulf/.pyenv/versions/3.11.8/envs/acm-env/lib/python3.11/site-packages/regelum/callback.py#1109\" target=\"_blank\"><span style=\"color: #7f7f7f; text-decoration-color: #7f7f7f\">1109</span></a>\n",
       "<span style=\"color: #7fbfbf; text-decoration-color: #7fbfbf\">           </span>         <span style=\"font-weight: bold\">[</span><span style=\"color: #008080; text-decoration-color: #008080; font-weight: bold\">20</span>.<span style=\"font-weight: bold\">]</span>, value: <span style=\"color: #008080; text-decoration-color: #008080; font-weight: bold\">0.0037</span>, time: <span style=\"color: #008080; text-decoration-color: #008080; font-weight: bold\">0.0000</span> <span style=\"font-weight: bold\">(</span><span style=\"color: #008080; text-decoration-color: #008080; font-weight: bold\">0.0</span>%<span style=\"font-weight: bold\">)</span>, episode: <span style=\"color: #008080; text-decoration-color: #008080; font-weight: bold\">1</span>/<span style=\"color: #008080; text-decoration-color: #008080; font-weight: bold\">1</span>, iteration: <span style=\"color: #008080; text-decoration-color: #008080; font-weight: bold\">1</span>/<span style=\"color: #008080; text-decoration-color: #008080; font-weight: bold\">1</span>        <span style=\"color: #7f7f7f; text-decoration-color: #7f7f7f\">                </span>\n",
       "</pre>\n"
      ],
      "text/plain": [
       "\u001b[2;36m[16:40:48]\u001b[0m\u001b[2;36m \u001b[0m\u001b[34mINFO    \u001b[0m runn. objective: \u001b[1;36m3.71\u001b[0m, state est.: \u001b[1m[\u001b[0m\u001b[1;36m0\u001b[0m. \u001b[1;36m0\u001b[0m.\u001b[1m]\u001b[0m, observation: \u001b[1m[\u001b[0m\u001b[1;36m0\u001b[0m. \u001b[1;36m0\u001b[0m.\u001b[1m]\u001b[0m, action:      \u001b]8;id=362952;file:///Users/vulf/.pyenv/versions/3.11.8/envs/acm-env/lib/python3.11/site-packages/regelum/callback.py\u001b\\\u001b[2mcallback.py\u001b[0m\u001b]8;;\u001b\\\u001b[2m:\u001b[0m\u001b]8;id=741487;file:///Users/vulf/.pyenv/versions/3.11.8/envs/acm-env/lib/python3.11/site-packages/regelum/callback.py#1109\u001b\\\u001b[2m1109\u001b[0m\u001b]8;;\u001b\\\n",
       "\u001b[2;36m           \u001b[0m         \u001b[1m[\u001b[0m\u001b[1;36m20\u001b[0m.\u001b[1m]\u001b[0m, value: \u001b[1;36m0.0037\u001b[0m, time: \u001b[1;36m0.0000\u001b[0m \u001b[1m(\u001b[0m\u001b[1;36m0.0\u001b[0m%\u001b[1m)\u001b[0m, episode: \u001b[1;36m1\u001b[0m/\u001b[1;36m1\u001b[0m, iteration: \u001b[1;36m1\u001b[0m/\u001b[1;36m1\u001b[0m        \u001b[2m                \u001b[0m\n"
      ]
     },
     "metadata": {},
     "output_type": "display_data"
    },
    {
     "data": {
      "text/html": [
       "<pre style=\"white-space:pre;overflow-x:auto;line-height:normal;font-family:Menlo,'DejaVu Sans Mono',consolas,'Courier New',monospace\"><span style=\"color: #7fbfbf; text-decoration-color: #7fbfbf\">[16:40:53] </span><span style=\"color: #000080; text-decoration-color: #000080\">INFO    </span> runn. objective: <span style=\"color: #008080; text-decoration-color: #008080; font-weight: bold\">2.92</span>, state est.: <span style=\"font-weight: bold\">[</span>  <span style=\"color: #008080; text-decoration-color: #008080; font-weight: bold\">0.22</span> <span style=\"color: #008080; text-decoration-color: #008080; font-weight: bold\">432.48</span><span style=\"font-weight: bold\">]</span>, observation: <span style=\"font-weight: bold\">[</span>  <span style=\"color: #008080; text-decoration-color: #008080; font-weight: bold\">0.22</span>       <a href=\"file:///Users/vulf/.pyenv/versions/3.11.8/envs/acm-env/lib/python3.11/site-packages/regelum/callback.py\" target=\"_blank\"><span style=\"color: #7f7f7f; text-decoration-color: #7f7f7f\">callback.py</span></a><span style=\"color: #7f7f7f; text-decoration-color: #7f7f7f\">:</span><a href=\"file:///Users/vulf/.pyenv/versions/3.11.8/envs/acm-env/lib/python3.11/site-packages/regelum/callback.py#1109\" target=\"_blank\"><span style=\"color: #7f7f7f; text-decoration-color: #7f7f7f\">1109</span></a>\n",
       "<span style=\"color: #7fbfbf; text-decoration-color: #7fbfbf\">           </span>         <span style=\"color: #008080; text-decoration-color: #008080; font-weight: bold\">432.48</span><span style=\"font-weight: bold\">]</span>, action: <span style=\"font-weight: bold\">[</span><span style=\"color: #008080; text-decoration-color: #008080; font-weight: bold\">20</span>.<span style=\"font-weight: bold\">]</span>, value: <span style=\"color: #008080; text-decoration-color: #008080; font-weight: bold\">0.0066</span>, time: <span style=\"color: #008080; text-decoration-color: #008080; font-weight: bold\">0.0010</span> <span style=\"font-weight: bold\">(</span><span style=\"color: #008080; text-decoration-color: #008080; font-weight: bold\">10.0</span>%<span style=\"font-weight: bold\">)</span>, episode: <span style=\"color: #008080; text-decoration-color: #008080; font-weight: bold\">1</span>/<span style=\"color: #008080; text-decoration-color: #008080; font-weight: bold\">1</span>,     <span style=\"color: #7f7f7f; text-decoration-color: #7f7f7f\">                </span>\n",
       "<span style=\"color: #7fbfbf; text-decoration-color: #7fbfbf\">           </span>         iteration: <span style=\"color: #008080; text-decoration-color: #008080; font-weight: bold\">1</span>/<span style=\"color: #008080; text-decoration-color: #008080; font-weight: bold\">1</span>                                                                 <span style=\"color: #7f7f7f; text-decoration-color: #7f7f7f\">                </span>\n",
       "</pre>\n"
      ],
      "text/plain": [
       "\u001b[2;36m[16:40:53]\u001b[0m\u001b[2;36m \u001b[0m\u001b[34mINFO    \u001b[0m runn. objective: \u001b[1;36m2.92\u001b[0m, state est.: \u001b[1m[\u001b[0m  \u001b[1;36m0.22\u001b[0m \u001b[1;36m432.48\u001b[0m\u001b[1m]\u001b[0m, observation: \u001b[1m[\u001b[0m  \u001b[1;36m0.22\u001b[0m       \u001b]8;id=205897;file:///Users/vulf/.pyenv/versions/3.11.8/envs/acm-env/lib/python3.11/site-packages/regelum/callback.py\u001b\\\u001b[2mcallback.py\u001b[0m\u001b]8;;\u001b\\\u001b[2m:\u001b[0m\u001b]8;id=84927;file:///Users/vulf/.pyenv/versions/3.11.8/envs/acm-env/lib/python3.11/site-packages/regelum/callback.py#1109\u001b\\\u001b[2m1109\u001b[0m\u001b]8;;\u001b\\\n",
       "\u001b[2;36m           \u001b[0m         \u001b[1;36m432.48\u001b[0m\u001b[1m]\u001b[0m, action: \u001b[1m[\u001b[0m\u001b[1;36m20\u001b[0m.\u001b[1m]\u001b[0m, value: \u001b[1;36m0.0066\u001b[0m, time: \u001b[1;36m0.0010\u001b[0m \u001b[1m(\u001b[0m\u001b[1;36m10.0\u001b[0m%\u001b[1m)\u001b[0m, episode: \u001b[1;36m1\u001b[0m/\u001b[1;36m1\u001b[0m,     \u001b[2m                \u001b[0m\n",
       "\u001b[2;36m           \u001b[0m         iteration: \u001b[1;36m1\u001b[0m/\u001b[1;36m1\u001b[0m                                                                 \u001b[2m                \u001b[0m\n"
      ]
     },
     "metadata": {},
     "output_type": "display_data"
    },
    {
     "data": {
      "text/html": [
       "<pre style=\"white-space:pre;overflow-x:auto;line-height:normal;font-family:Menlo,'DejaVu Sans Mono',consolas,'Courier New',monospace\"><span style=\"color: #7fbfbf; text-decoration-color: #7fbfbf\">[16:40:59] </span><span style=\"color: #000080; text-decoration-color: #000080\">INFO    </span> runn. objective: <span style=\"color: #008080; text-decoration-color: #008080; font-weight: bold\">1.29</span>, state est.: <span style=\"font-weight: bold\">[</span>  <span style=\"color: #008080; text-decoration-color: #008080; font-weight: bold\">0.79</span> <span style=\"color: #008080; text-decoration-color: #008080; font-weight: bold\">694.23</span><span style=\"font-weight: bold\">]</span>, observation: <span style=\"font-weight: bold\">[</span>  <span style=\"color: #008080; text-decoration-color: #008080; font-weight: bold\">0.79</span>       <a href=\"file:///Users/vulf/.pyenv/versions/3.11.8/envs/acm-env/lib/python3.11/site-packages/regelum/callback.py\" target=\"_blank\"><span style=\"color: #7f7f7f; text-decoration-color: #7f7f7f\">callback.py</span></a><span style=\"color: #7f7f7f; text-decoration-color: #7f7f7f\">:</span><a href=\"file:///Users/vulf/.pyenv/versions/3.11.8/envs/acm-env/lib/python3.11/site-packages/regelum/callback.py#1109\" target=\"_blank\"><span style=\"color: #7f7f7f; text-decoration-color: #7f7f7f\">1109</span></a>\n",
       "<span style=\"color: #7fbfbf; text-decoration-color: #7fbfbf\">           </span>         <span style=\"color: #008080; text-decoration-color: #008080; font-weight: bold\">694.23</span><span style=\"font-weight: bold\">]</span>, action: <span style=\"font-weight: bold\">[</span><span style=\"color: #008080; text-decoration-color: #008080; font-weight: bold\">14.67</span><span style=\"font-weight: bold\">]</span>, value: <span style=\"color: #008080; text-decoration-color: #008080; font-weight: bold\">0.0079</span>, time: <span style=\"color: #008080; text-decoration-color: #008080; font-weight: bold\">0.0020</span> <span style=\"font-weight: bold\">(</span><span style=\"color: #008080; text-decoration-color: #008080; font-weight: bold\">20.0</span>%<span style=\"font-weight: bold\">)</span>, episode: <span style=\"color: #008080; text-decoration-color: #008080; font-weight: bold\">1</span>/<span style=\"color: #008080; text-decoration-color: #008080; font-weight: bold\">1</span>,   <span style=\"color: #7f7f7f; text-decoration-color: #7f7f7f\">                </span>\n",
       "<span style=\"color: #7fbfbf; text-decoration-color: #7fbfbf\">           </span>         iteration: <span style=\"color: #008080; text-decoration-color: #008080; font-weight: bold\">1</span>/<span style=\"color: #008080; text-decoration-color: #008080; font-weight: bold\">1</span>                                                                 <span style=\"color: #7f7f7f; text-decoration-color: #7f7f7f\">                </span>\n",
       "</pre>\n"
      ],
      "text/plain": [
       "\u001b[2;36m[16:40:59]\u001b[0m\u001b[2;36m \u001b[0m\u001b[34mINFO    \u001b[0m runn. objective: \u001b[1;36m1.29\u001b[0m, state est.: \u001b[1m[\u001b[0m  \u001b[1;36m0.79\u001b[0m \u001b[1;36m694.23\u001b[0m\u001b[1m]\u001b[0m, observation: \u001b[1m[\u001b[0m  \u001b[1;36m0.79\u001b[0m       \u001b]8;id=906990;file:///Users/vulf/.pyenv/versions/3.11.8/envs/acm-env/lib/python3.11/site-packages/regelum/callback.py\u001b\\\u001b[2mcallback.py\u001b[0m\u001b]8;;\u001b\\\u001b[2m:\u001b[0m\u001b]8;id=15004;file:///Users/vulf/.pyenv/versions/3.11.8/envs/acm-env/lib/python3.11/site-packages/regelum/callback.py#1109\u001b\\\u001b[2m1109\u001b[0m\u001b]8;;\u001b\\\n",
       "\u001b[2;36m           \u001b[0m         \u001b[1;36m694.23\u001b[0m\u001b[1m]\u001b[0m, action: \u001b[1m[\u001b[0m\u001b[1;36m14.67\u001b[0m\u001b[1m]\u001b[0m, value: \u001b[1;36m0.0079\u001b[0m, time: \u001b[1;36m0.0020\u001b[0m \u001b[1m(\u001b[0m\u001b[1;36m20.0\u001b[0m%\u001b[1m)\u001b[0m, episode: \u001b[1;36m1\u001b[0m/\u001b[1;36m1\u001b[0m,   \u001b[2m                \u001b[0m\n",
       "\u001b[2;36m           \u001b[0m         iteration: \u001b[1;36m1\u001b[0m/\u001b[1;36m1\u001b[0m                                                                 \u001b[2m                \u001b[0m\n"
      ]
     },
     "metadata": {},
     "output_type": "display_data"
    },
    {
     "data": {
      "text/html": [
       "<pre style=\"white-space:pre;overflow-x:auto;line-height:normal;font-family:Menlo,'DejaVu Sans Mono',consolas,'Courier New',monospace\"><span style=\"color: #7fbfbf; text-decoration-color: #7fbfbf\">[16:41:06] </span><span style=\"color: #000080; text-decoration-color: #000080\">INFO    </span> runn. objective: <span style=\"color: #008080; text-decoration-color: #008080; font-weight: bold\">0.17</span>, state est.: <span style=\"font-weight: bold\">[</span>  <span style=\"color: #008080; text-decoration-color: #008080; font-weight: bold\">1.51</span> <span style=\"color: #008080; text-decoration-color: #008080; font-weight: bold\">738.48</span><span style=\"font-weight: bold\">]</span>, observation: <span style=\"font-weight: bold\">[</span>  <span style=\"color: #008080; text-decoration-color: #008080; font-weight: bold\">1.51</span>       <a href=\"file:///Users/vulf/.pyenv/versions/3.11.8/envs/acm-env/lib/python3.11/site-packages/regelum/callback.py\" target=\"_blank\"><span style=\"color: #7f7f7f; text-decoration-color: #7f7f7f\">callback.py</span></a><span style=\"color: #7f7f7f; text-decoration-color: #7f7f7f\">:</span><a href=\"file:///Users/vulf/.pyenv/versions/3.11.8/envs/acm-env/lib/python3.11/site-packages/regelum/callback.py#1109\" target=\"_blank\"><span style=\"color: #7f7f7f; text-decoration-color: #7f7f7f\">1109</span></a>\n",
       "<span style=\"color: #7fbfbf; text-decoration-color: #7fbfbf\">           </span>         <span style=\"color: #008080; text-decoration-color: #008080; font-weight: bold\">738.48</span><span style=\"font-weight: bold\">]</span>, action: <span style=\"font-weight: bold\">[</span><span style=\"color: #008080; text-decoration-color: #008080; font-weight: bold\">5.3</span><span style=\"font-weight: bold\">]</span>, value: <span style=\"color: #008080; text-decoration-color: #008080; font-weight: bold\">0.0081</span>, time: <span style=\"color: #008080; text-decoration-color: #008080; font-weight: bold\">0.0030</span> <span style=\"font-weight: bold\">(</span><span style=\"color: #008080; text-decoration-color: #008080; font-weight: bold\">30.0</span>%<span style=\"font-weight: bold\">)</span>, episode: <span style=\"color: #008080; text-decoration-color: #008080; font-weight: bold\">1</span>/<span style=\"color: #008080; text-decoration-color: #008080; font-weight: bold\">1</span>,     <span style=\"color: #7f7f7f; text-decoration-color: #7f7f7f\">                </span>\n",
       "<span style=\"color: #7fbfbf; text-decoration-color: #7fbfbf\">           </span>         iteration: <span style=\"color: #008080; text-decoration-color: #008080; font-weight: bold\">1</span>/<span style=\"color: #008080; text-decoration-color: #008080; font-weight: bold\">1</span>                                                                 <span style=\"color: #7f7f7f; text-decoration-color: #7f7f7f\">                </span>\n",
       "</pre>\n"
      ],
      "text/plain": [
       "\u001b[2;36m[16:41:06]\u001b[0m\u001b[2;36m \u001b[0m\u001b[34mINFO    \u001b[0m runn. objective: \u001b[1;36m0.17\u001b[0m, state est.: \u001b[1m[\u001b[0m  \u001b[1;36m1.51\u001b[0m \u001b[1;36m738.48\u001b[0m\u001b[1m]\u001b[0m, observation: \u001b[1m[\u001b[0m  \u001b[1;36m1.51\u001b[0m       \u001b]8;id=619009;file:///Users/vulf/.pyenv/versions/3.11.8/envs/acm-env/lib/python3.11/site-packages/regelum/callback.py\u001b\\\u001b[2mcallback.py\u001b[0m\u001b]8;;\u001b\\\u001b[2m:\u001b[0m\u001b]8;id=408838;file:///Users/vulf/.pyenv/versions/3.11.8/envs/acm-env/lib/python3.11/site-packages/regelum/callback.py#1109\u001b\\\u001b[2m1109\u001b[0m\u001b]8;;\u001b\\\n",
       "\u001b[2;36m           \u001b[0m         \u001b[1;36m738.48\u001b[0m\u001b[1m]\u001b[0m, action: \u001b[1m[\u001b[0m\u001b[1;36m5.3\u001b[0m\u001b[1m]\u001b[0m, value: \u001b[1;36m0.0081\u001b[0m, time: \u001b[1;36m0.0030\u001b[0m \u001b[1m(\u001b[0m\u001b[1;36m30.0\u001b[0m%\u001b[1m)\u001b[0m, episode: \u001b[1;36m1\u001b[0m/\u001b[1;36m1\u001b[0m,     \u001b[2m                \u001b[0m\n",
       "\u001b[2;36m           \u001b[0m         iteration: \u001b[1;36m1\u001b[0m/\u001b[1;36m1\u001b[0m                                                                 \u001b[2m                \u001b[0m\n"
      ]
     },
     "metadata": {},
     "output_type": "display_data"
    },
    {
     "data": {
      "text/html": [
       "<pre style=\"white-space:pre;overflow-x:auto;line-height:normal;font-family:Menlo,'DejaVu Sans Mono',consolas,'Courier New',monospace\"><span style=\"color: #7fbfbf; text-decoration-color: #7fbfbf\">[16:41:15] </span><span style=\"color: #000080; text-decoration-color: #000080\">INFO    </span> runn. objective: <span style=\"color: #008080; text-decoration-color: #008080; font-weight: bold\">0.05</span>, state est.: <span style=\"font-weight: bold\">[</span>  <span style=\"color: #008080; text-decoration-color: #008080; font-weight: bold\">2.15</span> <span style=\"color: #008080; text-decoration-color: #008080; font-weight: bold\">563.61</span><span style=\"font-weight: bold\">]</span>, observation: <span style=\"font-weight: bold\">[</span>  <span style=\"color: #008080; text-decoration-color: #008080; font-weight: bold\">2.15</span>       <a href=\"file:///Users/vulf/.pyenv/versions/3.11.8/envs/acm-env/lib/python3.11/site-packages/regelum/callback.py\" target=\"_blank\"><span style=\"color: #7f7f7f; text-decoration-color: #7f7f7f\">callback.py</span></a><span style=\"color: #7f7f7f; text-decoration-color: #7f7f7f\">:</span><a href=\"file:///Users/vulf/.pyenv/versions/3.11.8/envs/acm-env/lib/python3.11/site-packages/regelum/callback.py#1109\" target=\"_blank\"><span style=\"color: #7f7f7f; text-decoration-color: #7f7f7f\">1109</span></a>\n",
       "<span style=\"color: #7fbfbf; text-decoration-color: #7fbfbf\">           </span>         <span style=\"color: #008080; text-decoration-color: #008080; font-weight: bold\">563.61</span><span style=\"font-weight: bold\">]</span>, action: <span style=\"font-weight: bold\">[</span><span style=\"color: #008080; text-decoration-color: #008080; font-weight: bold\">-3.1</span><span style=\"font-weight: bold\">]</span>, value: <span style=\"color: #008080; text-decoration-color: #008080; font-weight: bold\">0.0081</span>, time: <span style=\"color: #008080; text-decoration-color: #008080; font-weight: bold\">0.0040</span> <span style=\"font-weight: bold\">(</span><span style=\"color: #008080; text-decoration-color: #008080; font-weight: bold\">40.0</span>%<span style=\"font-weight: bold\">)</span>, episode: <span style=\"color: #008080; text-decoration-color: #008080; font-weight: bold\">1</span>/<span style=\"color: #008080; text-decoration-color: #008080; font-weight: bold\">1</span>,    <span style=\"color: #7f7f7f; text-decoration-color: #7f7f7f\">                </span>\n",
       "<span style=\"color: #7fbfbf; text-decoration-color: #7fbfbf\">           </span>         iteration: <span style=\"color: #008080; text-decoration-color: #008080; font-weight: bold\">1</span>/<span style=\"color: #008080; text-decoration-color: #008080; font-weight: bold\">1</span>                                                                 <span style=\"color: #7f7f7f; text-decoration-color: #7f7f7f\">                </span>\n",
       "</pre>\n"
      ],
      "text/plain": [
       "\u001b[2;36m[16:41:15]\u001b[0m\u001b[2;36m \u001b[0m\u001b[34mINFO    \u001b[0m runn. objective: \u001b[1;36m0.05\u001b[0m, state est.: \u001b[1m[\u001b[0m  \u001b[1;36m2.15\u001b[0m \u001b[1;36m563.61\u001b[0m\u001b[1m]\u001b[0m, observation: \u001b[1m[\u001b[0m  \u001b[1;36m2.15\u001b[0m       \u001b]8;id=560546;file:///Users/vulf/.pyenv/versions/3.11.8/envs/acm-env/lib/python3.11/site-packages/regelum/callback.py\u001b\\\u001b[2mcallback.py\u001b[0m\u001b]8;;\u001b\\\u001b[2m:\u001b[0m\u001b]8;id=959519;file:///Users/vulf/.pyenv/versions/3.11.8/envs/acm-env/lib/python3.11/site-packages/regelum/callback.py#1109\u001b\\\u001b[2m1109\u001b[0m\u001b]8;;\u001b\\\n",
       "\u001b[2;36m           \u001b[0m         \u001b[1;36m563.61\u001b[0m\u001b[1m]\u001b[0m, action: \u001b[1m[\u001b[0m\u001b[1;36m-3.1\u001b[0m\u001b[1m]\u001b[0m, value: \u001b[1;36m0.0081\u001b[0m, time: \u001b[1;36m0.0040\u001b[0m \u001b[1m(\u001b[0m\u001b[1;36m40.0\u001b[0m%\u001b[1m)\u001b[0m, episode: \u001b[1;36m1\u001b[0m/\u001b[1;36m1\u001b[0m,    \u001b[2m                \u001b[0m\n",
       "\u001b[2;36m           \u001b[0m         iteration: \u001b[1;36m1\u001b[0m/\u001b[1;36m1\u001b[0m                                                                 \u001b[2m                \u001b[0m\n"
      ]
     },
     "metadata": {},
     "output_type": "display_data"
    },
    {
     "data": {
      "text/html": [
       "<pre style=\"white-space:pre;overflow-x:auto;line-height:normal;font-family:Menlo,'DejaVu Sans Mono',consolas,'Courier New',monospace\"><span style=\"color: #7fbfbf; text-decoration-color: #7fbfbf\">[16:41:26] </span><span style=\"color: #000080; text-decoration-color: #000080\">INFO    </span> runn. objective: <span style=\"color: #008080; text-decoration-color: #008080; font-weight: bold\">0.40</span>, state est.: <span style=\"font-weight: bold\">[</span>  <span style=\"color: #008080; text-decoration-color: #008080; font-weight: bold\">2.56</span> <span style=\"color: #008080; text-decoration-color: #008080; font-weight: bold\">275.13</span><span style=\"font-weight: bold\">]</span>, observation: <span style=\"font-weight: bold\">[</span>  <span style=\"color: #008080; text-decoration-color: #008080; font-weight: bold\">2.56</span>       <a href=\"file:///Users/vulf/.pyenv/versions/3.11.8/envs/acm-env/lib/python3.11/site-packages/regelum/callback.py\" target=\"_blank\"><span style=\"color: #7f7f7f; text-decoration-color: #7f7f7f\">callback.py</span></a><span style=\"color: #7f7f7f; text-decoration-color: #7f7f7f\">:</span><a href=\"file:///Users/vulf/.pyenv/versions/3.11.8/envs/acm-env/lib/python3.11/site-packages/regelum/callback.py#1109\" target=\"_blank\"><span style=\"color: #7f7f7f; text-decoration-color: #7f7f7f\">1109</span></a>\n",
       "<span style=\"color: #7fbfbf; text-decoration-color: #7fbfbf\">           </span>         <span style=\"color: #008080; text-decoration-color: #008080; font-weight: bold\">275.13</span><span style=\"font-weight: bold\">]</span>, action: <span style=\"font-weight: bold\">[</span><span style=\"color: #008080; text-decoration-color: #008080; font-weight: bold\">-8.42</span><span style=\"font-weight: bold\">]</span>, value: <span style=\"color: #008080; text-decoration-color: #008080; font-weight: bold\">0.0085</span>, time: <span style=\"color: #008080; text-decoration-color: #008080; font-weight: bold\">0.0050</span> <span style=\"font-weight: bold\">(</span><span style=\"color: #008080; text-decoration-color: #008080; font-weight: bold\">50.0</span>%<span style=\"font-weight: bold\">)</span>, episode: <span style=\"color: #008080; text-decoration-color: #008080; font-weight: bold\">1</span>/<span style=\"color: #008080; text-decoration-color: #008080; font-weight: bold\">1</span>,   <span style=\"color: #7f7f7f; text-decoration-color: #7f7f7f\">                </span>\n",
       "<span style=\"color: #7fbfbf; text-decoration-color: #7fbfbf\">           </span>         iteration: <span style=\"color: #008080; text-decoration-color: #008080; font-weight: bold\">1</span>/<span style=\"color: #008080; text-decoration-color: #008080; font-weight: bold\">1</span>                                                                 <span style=\"color: #7f7f7f; text-decoration-color: #7f7f7f\">                </span>\n",
       "</pre>\n"
      ],
      "text/plain": [
       "\u001b[2;36m[16:41:26]\u001b[0m\u001b[2;36m \u001b[0m\u001b[34mINFO    \u001b[0m runn. objective: \u001b[1;36m0.40\u001b[0m, state est.: \u001b[1m[\u001b[0m  \u001b[1;36m2.56\u001b[0m \u001b[1;36m275.13\u001b[0m\u001b[1m]\u001b[0m, observation: \u001b[1m[\u001b[0m  \u001b[1;36m2.56\u001b[0m       \u001b]8;id=765218;file:///Users/vulf/.pyenv/versions/3.11.8/envs/acm-env/lib/python3.11/site-packages/regelum/callback.py\u001b\\\u001b[2mcallback.py\u001b[0m\u001b]8;;\u001b\\\u001b[2m:\u001b[0m\u001b]8;id=531586;file:///Users/vulf/.pyenv/versions/3.11.8/envs/acm-env/lib/python3.11/site-packages/regelum/callback.py#1109\u001b\\\u001b[2m1109\u001b[0m\u001b]8;;\u001b\\\n",
       "\u001b[2;36m           \u001b[0m         \u001b[1;36m275.13\u001b[0m\u001b[1m]\u001b[0m, action: \u001b[1m[\u001b[0m\u001b[1;36m-8.42\u001b[0m\u001b[1m]\u001b[0m, value: \u001b[1;36m0.0085\u001b[0m, time: \u001b[1;36m0.0050\u001b[0m \u001b[1m(\u001b[0m\u001b[1;36m50.0\u001b[0m%\u001b[1m)\u001b[0m, episode: \u001b[1;36m1\u001b[0m/\u001b[1;36m1\u001b[0m,   \u001b[2m                \u001b[0m\n",
       "\u001b[2;36m           \u001b[0m         iteration: \u001b[1;36m1\u001b[0m/\u001b[1;36m1\u001b[0m                                                                 \u001b[2m                \u001b[0m\n"
      ]
     },
     "metadata": {},
     "output_type": "display_data"
    },
    {
     "data": {
      "text/html": [
       "<pre style=\"white-space:pre;overflow-x:auto;line-height:normal;font-family:Menlo,'DejaVu Sans Mono',consolas,'Courier New',monospace\"><span style=\"color: #7fbfbf; text-decoration-color: #7fbfbf\">[16:41:39] </span><span style=\"color: #000080; text-decoration-color: #000080\">INFO    </span> runn. objective: <span style=\"color: #008080; text-decoration-color: #008080; font-weight: bold\">0.57</span>, state est.: <span style=\"font-weight: bold\">[</span><span style=\"color: #008080; text-decoration-color: #008080; font-weight: bold\">2.68</span> <span style=\"color: #008080; text-decoration-color: #008080; font-weight: bold\">0.3</span> <span style=\"font-weight: bold\">]</span>, observation: <span style=\"font-weight: bold\">[</span><span style=\"color: #008080; text-decoration-color: #008080; font-weight: bold\">2.68</span> <span style=\"color: #008080; text-decoration-color: #008080; font-weight: bold\">0.3</span> <span style=\"font-weight: bold\">]</span>,      <a href=\"file:///Users/vulf/.pyenv/versions/3.11.8/envs/acm-env/lib/python3.11/site-packages/regelum/callback.py\" target=\"_blank\"><span style=\"color: #7f7f7f; text-decoration-color: #7f7f7f\">callback.py</span></a><span style=\"color: #7f7f7f; text-decoration-color: #7f7f7f\">:</span><a href=\"file:///Users/vulf/.pyenv/versions/3.11.8/envs/acm-env/lib/python3.11/site-packages/regelum/callback.py#1109\" target=\"_blank\"><span style=\"color: #7f7f7f; text-decoration-color: #7f7f7f\">1109</span></a>\n",
       "<span style=\"color: #7fbfbf; text-decoration-color: #7fbfbf\">           </span>         action: <span style=\"font-weight: bold\">[</span><span style=\"color: #008080; text-decoration-color: #008080; font-weight: bold\">-9.96</span><span style=\"font-weight: bold\">]</span>, value: <span style=\"color: #008080; text-decoration-color: #008080; font-weight: bold\">0.0091</span>, time: <span style=\"color: #008080; text-decoration-color: #008080; font-weight: bold\">0.0060</span> <span style=\"font-weight: bold\">(</span><span style=\"color: #008080; text-decoration-color: #008080; font-weight: bold\">60.0</span>%<span style=\"font-weight: bold\">)</span>, episode: <span style=\"color: #008080; text-decoration-color: #008080; font-weight: bold\">1</span>/<span style=\"color: #008080; text-decoration-color: #008080; font-weight: bold\">1</span>, iteration: <span style=\"color: #7f7f7f; text-decoration-color: #7f7f7f\">                </span>\n",
       "<span style=\"color: #7fbfbf; text-decoration-color: #7fbfbf\">           </span>         <span style=\"color: #008080; text-decoration-color: #008080; font-weight: bold\">1</span>/<span style=\"color: #008080; text-decoration-color: #008080; font-weight: bold\">1</span>                                                                            <span style=\"color: #7f7f7f; text-decoration-color: #7f7f7f\">                </span>\n",
       "</pre>\n"
      ],
      "text/plain": [
       "\u001b[2;36m[16:41:39]\u001b[0m\u001b[2;36m \u001b[0m\u001b[34mINFO    \u001b[0m runn. objective: \u001b[1;36m0.57\u001b[0m, state est.: \u001b[1m[\u001b[0m\u001b[1;36m2.68\u001b[0m \u001b[1;36m0.3\u001b[0m \u001b[1m]\u001b[0m, observation: \u001b[1m[\u001b[0m\u001b[1;36m2.68\u001b[0m \u001b[1;36m0.3\u001b[0m \u001b[1m]\u001b[0m,      \u001b]8;id=905149;file:///Users/vulf/.pyenv/versions/3.11.8/envs/acm-env/lib/python3.11/site-packages/regelum/callback.py\u001b\\\u001b[2mcallback.py\u001b[0m\u001b]8;;\u001b\\\u001b[2m:\u001b[0m\u001b]8;id=997118;file:///Users/vulf/.pyenv/versions/3.11.8/envs/acm-env/lib/python3.11/site-packages/regelum/callback.py#1109\u001b\\\u001b[2m1109\u001b[0m\u001b]8;;\u001b\\\n",
       "\u001b[2;36m           \u001b[0m         action: \u001b[1m[\u001b[0m\u001b[1;36m-9.96\u001b[0m\u001b[1m]\u001b[0m, value: \u001b[1;36m0.0091\u001b[0m, time: \u001b[1;36m0.0060\u001b[0m \u001b[1m(\u001b[0m\u001b[1;36m60.0\u001b[0m%\u001b[1m)\u001b[0m, episode: \u001b[1;36m1\u001b[0m/\u001b[1;36m1\u001b[0m, iteration: \u001b[2m                \u001b[0m\n",
       "\u001b[2;36m           \u001b[0m         \u001b[1;36m1\u001b[0m/\u001b[1;36m1\u001b[0m                                                                            \u001b[2m                \u001b[0m\n"
      ]
     },
     "metadata": {},
     "output_type": "display_data"
    },
    {
     "data": {
      "text/html": [
       "<pre style=\"white-space:pre;overflow-x:auto;line-height:normal;font-family:Menlo,'DejaVu Sans Mono',consolas,'Courier New',monospace\"><span style=\"color: #7fbfbf; text-decoration-color: #7fbfbf\">[16:41:53] </span><span style=\"color: #000080; text-decoration-color: #000080\">INFO    </span> runn. objective: <span style=\"color: #008080; text-decoration-color: #008080; font-weight: bold\">0.57</span>, state est.: <span style=\"font-weight: bold\">[</span><span style=\"color: #008080; text-decoration-color: #008080; font-weight: bold\">2.68</span> <span style=\"color: #008080; text-decoration-color: #008080; font-weight: bold\">0.78</span><span style=\"font-weight: bold\">]</span>, observation: <span style=\"font-weight: bold\">[</span><span style=\"color: #008080; text-decoration-color: #008080; font-weight: bold\">2.68</span> <span style=\"color: #008080; text-decoration-color: #008080; font-weight: bold\">0.78</span><span style=\"font-weight: bold\">]</span>,      <a href=\"file:///Users/vulf/.pyenv/versions/3.11.8/envs/acm-env/lib/python3.11/site-packages/regelum/callback.py\" target=\"_blank\"><span style=\"color: #7f7f7f; text-decoration-color: #7f7f7f\">callback.py</span></a><span style=\"color: #7f7f7f; text-decoration-color: #7f7f7f\">:</span><a href=\"file:///Users/vulf/.pyenv/versions/3.11.8/envs/acm-env/lib/python3.11/site-packages/regelum/callback.py#1109\" target=\"_blank\"><span style=\"color: #7f7f7f; text-decoration-color: #7f7f7f\">1109</span></a>\n",
       "<span style=\"color: #7fbfbf; text-decoration-color: #7fbfbf\">           </span>         action: <span style=\"font-weight: bold\">[</span><span style=\"color: #008080; text-decoration-color: #008080; font-weight: bold\">-9.98</span><span style=\"font-weight: bold\">]</span>, value: <span style=\"color: #008080; text-decoration-color: #008080; font-weight: bold\">0.0097</span>, time: <span style=\"color: #008080; text-decoration-color: #008080; font-weight: bold\">0.0070</span> <span style=\"font-weight: bold\">(</span><span style=\"color: #008080; text-decoration-color: #008080; font-weight: bold\">70.0</span>%<span style=\"font-weight: bold\">)</span>, episode: <span style=\"color: #008080; text-decoration-color: #008080; font-weight: bold\">1</span>/<span style=\"color: #008080; text-decoration-color: #008080; font-weight: bold\">1</span>, iteration: <span style=\"color: #7f7f7f; text-decoration-color: #7f7f7f\">                </span>\n",
       "<span style=\"color: #7fbfbf; text-decoration-color: #7fbfbf\">           </span>         <span style=\"color: #008080; text-decoration-color: #008080; font-weight: bold\">1</span>/<span style=\"color: #008080; text-decoration-color: #008080; font-weight: bold\">1</span>                                                                            <span style=\"color: #7f7f7f; text-decoration-color: #7f7f7f\">                </span>\n",
       "</pre>\n"
      ],
      "text/plain": [
       "\u001b[2;36m[16:41:53]\u001b[0m\u001b[2;36m \u001b[0m\u001b[34mINFO    \u001b[0m runn. objective: \u001b[1;36m0.57\u001b[0m, state est.: \u001b[1m[\u001b[0m\u001b[1;36m2.68\u001b[0m \u001b[1;36m0.78\u001b[0m\u001b[1m]\u001b[0m, observation: \u001b[1m[\u001b[0m\u001b[1;36m2.68\u001b[0m \u001b[1;36m0.78\u001b[0m\u001b[1m]\u001b[0m,      \u001b]8;id=804110;file:///Users/vulf/.pyenv/versions/3.11.8/envs/acm-env/lib/python3.11/site-packages/regelum/callback.py\u001b\\\u001b[2mcallback.py\u001b[0m\u001b]8;;\u001b\\\u001b[2m:\u001b[0m\u001b]8;id=394448;file:///Users/vulf/.pyenv/versions/3.11.8/envs/acm-env/lib/python3.11/site-packages/regelum/callback.py#1109\u001b\\\u001b[2m1109\u001b[0m\u001b]8;;\u001b\\\n",
       "\u001b[2;36m           \u001b[0m         action: \u001b[1m[\u001b[0m\u001b[1;36m-9.98\u001b[0m\u001b[1m]\u001b[0m, value: \u001b[1;36m0.0097\u001b[0m, time: \u001b[1;36m0.0070\u001b[0m \u001b[1m(\u001b[0m\u001b[1;36m70.0\u001b[0m%\u001b[1m)\u001b[0m, episode: \u001b[1;36m1\u001b[0m/\u001b[1;36m1\u001b[0m, iteration: \u001b[2m                \u001b[0m\n",
       "\u001b[2;36m           \u001b[0m         \u001b[1;36m1\u001b[0m/\u001b[1;36m1\u001b[0m                                                                            \u001b[2m                \u001b[0m\n"
      ]
     },
     "metadata": {},
     "output_type": "display_data"
    },
    {
     "data": {
      "text/html": [
       "<pre style=\"white-space:pre;overflow-x:auto;line-height:normal;font-family:Menlo,'DejaVu Sans Mono',consolas,'Courier New',monospace\"><span style=\"color: #7fbfbf; text-decoration-color: #7fbfbf\">[16:42:08] </span><span style=\"color: #000080; text-decoration-color: #000080\">INFO    </span> runn. objective: <span style=\"color: #008080; text-decoration-color: #008080; font-weight: bold\">0.57</span>, state est.: <span style=\"font-weight: bold\">[</span><span style=\"color: #008080; text-decoration-color: #008080; font-weight: bold\">2.68</span> <span style=\"color: #008080; text-decoration-color: #008080; font-weight: bold\">0.53</span><span style=\"font-weight: bold\">]</span>, observation: <span style=\"font-weight: bold\">[</span><span style=\"color: #008080; text-decoration-color: #008080; font-weight: bold\">2.68</span> <span style=\"color: #008080; text-decoration-color: #008080; font-weight: bold\">0.53</span><span style=\"font-weight: bold\">]</span>,      <a href=\"file:///Users/vulf/.pyenv/versions/3.11.8/envs/acm-env/lib/python3.11/site-packages/regelum/callback.py\" target=\"_blank\"><span style=\"color: #7f7f7f; text-decoration-color: #7f7f7f\">callback.py</span></a><span style=\"color: #7f7f7f; text-decoration-color: #7f7f7f\">:</span><a href=\"file:///Users/vulf/.pyenv/versions/3.11.8/envs/acm-env/lib/python3.11/site-packages/regelum/callback.py#1109\" target=\"_blank\"><span style=\"color: #7f7f7f; text-decoration-color: #7f7f7f\">1109</span></a>\n",
       "<span style=\"color: #7fbfbf; text-decoration-color: #7fbfbf\">           </span>         action: <span style=\"font-weight: bold\">[</span><span style=\"color: #008080; text-decoration-color: #008080; font-weight: bold\">-9.99</span><span style=\"font-weight: bold\">]</span>, value: <span style=\"color: #008080; text-decoration-color: #008080; font-weight: bold\">0.0103</span>, time: <span style=\"color: #008080; text-decoration-color: #008080; font-weight: bold\">0.0080</span> <span style=\"font-weight: bold\">(</span><span style=\"color: #008080; text-decoration-color: #008080; font-weight: bold\">80.0</span>%<span style=\"font-weight: bold\">)</span>, episode: <span style=\"color: #008080; text-decoration-color: #008080; font-weight: bold\">1</span>/<span style=\"color: #008080; text-decoration-color: #008080; font-weight: bold\">1</span>, iteration: <span style=\"color: #7f7f7f; text-decoration-color: #7f7f7f\">                </span>\n",
       "<span style=\"color: #7fbfbf; text-decoration-color: #7fbfbf\">           </span>         <span style=\"color: #008080; text-decoration-color: #008080; font-weight: bold\">1</span>/<span style=\"color: #008080; text-decoration-color: #008080; font-weight: bold\">1</span>                                                                            <span style=\"color: #7f7f7f; text-decoration-color: #7f7f7f\">                </span>\n",
       "</pre>\n"
      ],
      "text/plain": [
       "\u001b[2;36m[16:42:08]\u001b[0m\u001b[2;36m \u001b[0m\u001b[34mINFO    \u001b[0m runn. objective: \u001b[1;36m0.57\u001b[0m, state est.: \u001b[1m[\u001b[0m\u001b[1;36m2.68\u001b[0m \u001b[1;36m0.53\u001b[0m\u001b[1m]\u001b[0m, observation: \u001b[1m[\u001b[0m\u001b[1;36m2.68\u001b[0m \u001b[1;36m0.53\u001b[0m\u001b[1m]\u001b[0m,      \u001b]8;id=29290;file:///Users/vulf/.pyenv/versions/3.11.8/envs/acm-env/lib/python3.11/site-packages/regelum/callback.py\u001b\\\u001b[2mcallback.py\u001b[0m\u001b]8;;\u001b\\\u001b[2m:\u001b[0m\u001b]8;id=499322;file:///Users/vulf/.pyenv/versions/3.11.8/envs/acm-env/lib/python3.11/site-packages/regelum/callback.py#1109\u001b\\\u001b[2m1109\u001b[0m\u001b]8;;\u001b\\\n",
       "\u001b[2;36m           \u001b[0m         action: \u001b[1m[\u001b[0m\u001b[1;36m-9.99\u001b[0m\u001b[1m]\u001b[0m, value: \u001b[1;36m0.0103\u001b[0m, time: \u001b[1;36m0.0080\u001b[0m \u001b[1m(\u001b[0m\u001b[1;36m80.0\u001b[0m%\u001b[1m)\u001b[0m, episode: \u001b[1;36m1\u001b[0m/\u001b[1;36m1\u001b[0m, iteration: \u001b[2m                \u001b[0m\n",
       "\u001b[2;36m           \u001b[0m         \u001b[1;36m1\u001b[0m/\u001b[1;36m1\u001b[0m                                                                            \u001b[2m                \u001b[0m\n"
      ]
     },
     "metadata": {},
     "output_type": "display_data"
    },
    {
     "data": {
      "text/html": [
       "<pre style=\"white-space:pre;overflow-x:auto;line-height:normal;font-family:Menlo,'DejaVu Sans Mono',consolas,'Courier New',monospace\"><span style=\"color: #7fbfbf; text-decoration-color: #7fbfbf\">[16:42:25] </span><span style=\"color: #000080; text-decoration-color: #000080\">INFO    </span> runn. objective: <span style=\"color: #008080; text-decoration-color: #008080; font-weight: bold\">0.57</span>, state est.: <span style=\"font-weight: bold\">[</span><span style=\"color: #008080; text-decoration-color: #008080; font-weight: bold\">2.68</span> <span style=\"color: #008080; text-decoration-color: #008080; font-weight: bold\">0.03</span><span style=\"font-weight: bold\">]</span>, observation: <span style=\"font-weight: bold\">[</span><span style=\"color: #008080; text-decoration-color: #008080; font-weight: bold\">2.68</span> <span style=\"color: #008080; text-decoration-color: #008080; font-weight: bold\">0.03</span><span style=\"font-weight: bold\">]</span>,      <a href=\"file:///Users/vulf/.pyenv/versions/3.11.8/envs/acm-env/lib/python3.11/site-packages/regelum/callback.py\" target=\"_blank\"><span style=\"color: #7f7f7f; text-decoration-color: #7f7f7f\">callback.py</span></a><span style=\"color: #7f7f7f; text-decoration-color: #7f7f7f\">:</span><a href=\"file:///Users/vulf/.pyenv/versions/3.11.8/envs/acm-env/lib/python3.11/site-packages/regelum/callback.py#1109\" target=\"_blank\"><span style=\"color: #7f7f7f; text-decoration-color: #7f7f7f\">1109</span></a>\n",
       "<span style=\"color: #7fbfbf; text-decoration-color: #7fbfbf\">           </span>         action: <span style=\"font-weight: bold\">[</span><span style=\"color: #008080; text-decoration-color: #008080; font-weight: bold\">-10</span>.<span style=\"font-weight: bold\">]</span>, value: <span style=\"color: #008080; text-decoration-color: #008080; font-weight: bold\">0.0108</span>, time: <span style=\"color: #008080; text-decoration-color: #008080; font-weight: bold\">0.0090</span> <span style=\"font-weight: bold\">(</span><span style=\"color: #008080; text-decoration-color: #008080; font-weight: bold\">90.0</span>%<span style=\"font-weight: bold\">)</span>, episode: <span style=\"color: #008080; text-decoration-color: #008080; font-weight: bold\">1</span>/<span style=\"color: #008080; text-decoration-color: #008080; font-weight: bold\">1</span>, iteration:  <span style=\"color: #7f7f7f; text-decoration-color: #7f7f7f\">                </span>\n",
       "<span style=\"color: #7fbfbf; text-decoration-color: #7fbfbf\">           </span>         <span style=\"color: #008080; text-decoration-color: #008080; font-weight: bold\">1</span>/<span style=\"color: #008080; text-decoration-color: #008080; font-weight: bold\">1</span>                                                                            <span style=\"color: #7f7f7f; text-decoration-color: #7f7f7f\">                </span>\n",
       "</pre>\n"
      ],
      "text/plain": [
       "\u001b[2;36m[16:42:25]\u001b[0m\u001b[2;36m \u001b[0m\u001b[34mINFO    \u001b[0m runn. objective: \u001b[1;36m0.57\u001b[0m, state est.: \u001b[1m[\u001b[0m\u001b[1;36m2.68\u001b[0m \u001b[1;36m0.03\u001b[0m\u001b[1m]\u001b[0m, observation: \u001b[1m[\u001b[0m\u001b[1;36m2.68\u001b[0m \u001b[1;36m0.03\u001b[0m\u001b[1m]\u001b[0m,      \u001b]8;id=151538;file:///Users/vulf/.pyenv/versions/3.11.8/envs/acm-env/lib/python3.11/site-packages/regelum/callback.py\u001b\\\u001b[2mcallback.py\u001b[0m\u001b]8;;\u001b\\\u001b[2m:\u001b[0m\u001b]8;id=183041;file:///Users/vulf/.pyenv/versions/3.11.8/envs/acm-env/lib/python3.11/site-packages/regelum/callback.py#1109\u001b\\\u001b[2m1109\u001b[0m\u001b]8;;\u001b\\\n",
       "\u001b[2;36m           \u001b[0m         action: \u001b[1m[\u001b[0m\u001b[1;36m-10\u001b[0m.\u001b[1m]\u001b[0m, value: \u001b[1;36m0.0108\u001b[0m, time: \u001b[1;36m0.0090\u001b[0m \u001b[1m(\u001b[0m\u001b[1;36m90.0\u001b[0m%\u001b[1m)\u001b[0m, episode: \u001b[1;36m1\u001b[0m/\u001b[1;36m1\u001b[0m, iteration:  \u001b[2m                \u001b[0m\n",
       "\u001b[2;36m           \u001b[0m         \u001b[1;36m1\u001b[0m/\u001b[1;36m1\u001b[0m                                                                            \u001b[2m                \u001b[0m\n"
      ]
     },
     "metadata": {},
     "output_type": "display_data"
    },
    {
     "data": {
      "text/html": [
       "<pre style=\"white-space:pre;overflow-x:auto;line-height:normal;font-family:Menlo,'DejaVu Sans Mono',consolas,'Courier New',monospace\"><span style=\"color: #7fbfbf; text-decoration-color: #7fbfbf\">[16:42:43] </span><span style=\"color: #000080; text-decoration-color: #000080\">INFO    </span> runn. objective: <span style=\"color: #008080; text-decoration-color: #008080; font-weight: bold\">0.58</span>, state est.: <span style=\"font-weight: bold\">[</span><span style=\"color: #008080; text-decoration-color: #008080; font-weight: bold\">2.68</span> <span style=\"color: #008080; text-decoration-color: #008080; font-weight: bold\">1.6</span> <span style=\"font-weight: bold\">]</span>, observation: <span style=\"font-weight: bold\">[</span><span style=\"color: #008080; text-decoration-color: #008080; font-weight: bold\">2.68</span> <span style=\"color: #008080; text-decoration-color: #008080; font-weight: bold\">1.6</span> <span style=\"font-weight: bold\">]</span>,      <a href=\"file:///Users/vulf/.pyenv/versions/3.11.8/envs/acm-env/lib/python3.11/site-packages/regelum/callback.py\" target=\"_blank\"><span style=\"color: #7f7f7f; text-decoration-color: #7f7f7f\">callback.py</span></a><span style=\"color: #7f7f7f; text-decoration-color: #7f7f7f\">:</span><a href=\"file:///Users/vulf/.pyenv/versions/3.11.8/envs/acm-env/lib/python3.11/site-packages/regelum/callback.py#1109\" target=\"_blank\"><span style=\"color: #7f7f7f; text-decoration-color: #7f7f7f\">1109</span></a>\n",
       "<span style=\"color: #7fbfbf; text-decoration-color: #7fbfbf\">           </span>         action: <span style=\"font-weight: bold\">[</span><span style=\"color: #008080; text-decoration-color: #008080; font-weight: bold\">-10.02</span><span style=\"font-weight: bold\">]</span>, value: <span style=\"color: #008080; text-decoration-color: #008080; font-weight: bold\">0.0114</span>, time: <span style=\"color: #008080; text-decoration-color: #008080; font-weight: bold\">0.0100</span> <span style=\"font-weight: bold\">(</span><span style=\"color: #008080; text-decoration-color: #008080; font-weight: bold\">100.0</span>%<span style=\"font-weight: bold\">)</span>, episode: <span style=\"color: #008080; text-decoration-color: #008080; font-weight: bold\">1</span>/<span style=\"color: #008080; text-decoration-color: #008080; font-weight: bold\">1</span>,          <span style=\"color: #7f7f7f; text-decoration-color: #7f7f7f\">                </span>\n",
       "<span style=\"color: #7fbfbf; text-decoration-color: #7fbfbf\">           </span>         iteration: <span style=\"color: #008080; text-decoration-color: #008080; font-weight: bold\">1</span>/<span style=\"color: #008080; text-decoration-color: #008080; font-weight: bold\">1</span>                                                                 <span style=\"color: #7f7f7f; text-decoration-color: #7f7f7f\">                </span>\n",
       "</pre>\n"
      ],
      "text/plain": [
       "\u001b[2;36m[16:42:43]\u001b[0m\u001b[2;36m \u001b[0m\u001b[34mINFO    \u001b[0m runn. objective: \u001b[1;36m0.58\u001b[0m, state est.: \u001b[1m[\u001b[0m\u001b[1;36m2.68\u001b[0m \u001b[1;36m1.6\u001b[0m \u001b[1m]\u001b[0m, observation: \u001b[1m[\u001b[0m\u001b[1;36m2.68\u001b[0m \u001b[1;36m1.6\u001b[0m \u001b[1m]\u001b[0m,      \u001b]8;id=858059;file:///Users/vulf/.pyenv/versions/3.11.8/envs/acm-env/lib/python3.11/site-packages/regelum/callback.py\u001b\\\u001b[2mcallback.py\u001b[0m\u001b]8;;\u001b\\\u001b[2m:\u001b[0m\u001b]8;id=956344;file:///Users/vulf/.pyenv/versions/3.11.8/envs/acm-env/lib/python3.11/site-packages/regelum/callback.py#1109\u001b\\\u001b[2m1109\u001b[0m\u001b]8;;\u001b\\\n",
       "\u001b[2;36m           \u001b[0m         action: \u001b[1m[\u001b[0m\u001b[1;36m-10.02\u001b[0m\u001b[1m]\u001b[0m, value: \u001b[1;36m0.0114\u001b[0m, time: \u001b[1;36m0.0100\u001b[0m \u001b[1m(\u001b[0m\u001b[1;36m100.0\u001b[0m%\u001b[1m)\u001b[0m, episode: \u001b[1;36m1\u001b[0m/\u001b[1;36m1\u001b[0m,          \u001b[2m                \u001b[0m\n",
       "\u001b[2;36m           \u001b[0m         iteration: \u001b[1;36m1\u001b[0m/\u001b[1;36m1\u001b[0m                                                                 \u001b[2m                \u001b[0m\n"
      ]
     },
     "metadata": {},
     "output_type": "display_data"
    }
   ],
   "source": [
    "pd_policy = PDController(\n",
    "    system=system,\n",
    "    sampling_time=SAMPLING_TIME,\n",
    "    P_coef=25,\n",
    ")\n",
    "\n",
    "scenario = Scenario(\n",
    "    policy=PDController(\n",
    "        system=system,\n",
    "        sampling_time=SAMPLING_TIME\n",
    "    ),\n",
    "    simulator=simulator,\n",
    "    sampling_time=SAMPLING_TIME,\n",
    "    N_episodes=1,\n",
    "    N_iterations=1,\n",
    "    running_objective=running_objective,\n",
    ")\n",
    "\n",
    "scenario.run()"
   ]
  },
  {
   "cell_type": "code",
   "execution_count": 6,
   "metadata": {},
   "outputs": [],
   "source": [
    "state_trajectory_pd = callbacks[0].data"
   ]
  },
  {
   "cell_type": "code",
   "execution_count": 7,
   "metadata": {},
   "outputs": [
    {
     "data": {
      "text/html": [
       "<div>\n",
       "<style scoped>\n",
       "    .dataframe tbody tr th:only-of-type {\n",
       "        vertical-align: middle;\n",
       "    }\n",
       "\n",
       "    .dataframe tbody tr th {\n",
       "        vertical-align: top;\n",
       "    }\n",
       "\n",
       "    .dataframe thead th {\n",
       "        text-align: right;\n",
       "    }\n",
       "</style>\n",
       "<table border=\"1\" class=\"dataframe\">\n",
       "  <thead>\n",
       "    <tr style=\"text-align: right;\">\n",
       "      <th></th>\n",
       "      <th>time</th>\n",
       "      <th>jet length [mm]</th>\n",
       "      <th>jet velocity [mm/s]</th>\n",
       "      <th>piston position [µm]</th>\n",
       "      <th>piston velocity [µm/s]</th>\n",
       "      <th>throttle position [µm]</th>\n",
       "      <th>hydraulic pressure [Pa]</th>\n",
       "      <th>working pressure [Pa]</th>\n",
       "    </tr>\n",
       "  </thead>\n",
       "  <tbody>\n",
       "    <tr>\n",
       "      <th>0</th>\n",
       "      <td>0.000000e+00</td>\n",
       "      <td>0.000000</td>\n",
       "      <td>0.000000</td>\n",
       "      <td>1000.000000</td>\n",
       "      <td>0.000000</td>\n",
       "      <td>0.000000</td>\n",
       "      <td>100000.000000</td>\n",
       "      <td>100000.000000</td>\n",
       "    </tr>\n",
       "    <tr>\n",
       "      <th>1</th>\n",
       "      <td>1.000000e-07</td>\n",
       "      <td>0.000000</td>\n",
       "      <td>0.000000</td>\n",
       "      <td>1000.000000</td>\n",
       "      <td>0.000000</td>\n",
       "      <td>0.001000</td>\n",
       "      <td>100000.001581</td>\n",
       "      <td>100000.000000</td>\n",
       "    </tr>\n",
       "    <tr>\n",
       "      <th>2</th>\n",
       "      <td>2.000000e-07</td>\n",
       "      <td>0.000000</td>\n",
       "      <td>0.000000</td>\n",
       "      <td>1000.000000</td>\n",
       "      <td>0.000000</td>\n",
       "      <td>0.002000</td>\n",
       "      <td>100000.006323</td>\n",
       "      <td>100000.000000</td>\n",
       "    </tr>\n",
       "    <tr>\n",
       "      <th>3</th>\n",
       "      <td>3.000000e-07</td>\n",
       "      <td>0.000000</td>\n",
       "      <td>0.000000</td>\n",
       "      <td>1000.000000</td>\n",
       "      <td>0.000000</td>\n",
       "      <td>0.003000</td>\n",
       "      <td>100000.014227</td>\n",
       "      <td>100000.000000</td>\n",
       "    </tr>\n",
       "    <tr>\n",
       "      <th>4</th>\n",
       "      <td>4.000000e-07</td>\n",
       "      <td>0.000000</td>\n",
       "      <td>0.000000</td>\n",
       "      <td>1000.000000</td>\n",
       "      <td>0.000000</td>\n",
       "      <td>0.004000</td>\n",
       "      <td>100000.025291</td>\n",
       "      <td>100000.000000</td>\n",
       "    </tr>\n",
       "    <tr>\n",
       "      <th>...</th>\n",
       "      <td>...</td>\n",
       "      <td>...</td>\n",
       "      <td>...</td>\n",
       "      <td>...</td>\n",
       "      <td>...</td>\n",
       "      <td>...</td>\n",
       "      <td>...</td>\n",
       "      <td>...</td>\n",
       "    </tr>\n",
       "    <tr>\n",
       "      <th>99997</th>\n",
       "      <td>9.999700e-03</td>\n",
       "      <td>2.684625</td>\n",
       "      <td>1.646984</td>\n",
       "      <td>1000.730889</td>\n",
       "      <td>0.448391</td>\n",
       "      <td>-20.256728</td>\n",
       "      <td>107046.097188</td>\n",
       "      <td>100000.002930</td>\n",
       "    </tr>\n",
       "    <tr>\n",
       "      <th>99998</th>\n",
       "      <td>9.999800e-03</td>\n",
       "      <td>2.684625</td>\n",
       "      <td>1.669613</td>\n",
       "      <td>1000.730889</td>\n",
       "      <td>0.454552</td>\n",
       "      <td>-20.257229</td>\n",
       "      <td>107046.037150</td>\n",
       "      <td>100000.002991</td>\n",
       "    </tr>\n",
       "    <tr>\n",
       "      <th>99999</th>\n",
       "      <td>9.999900e-03</td>\n",
       "      <td>2.684625</td>\n",
       "      <td>0.730293</td>\n",
       "      <td>1000.730889</td>\n",
       "      <td>0.198822</td>\n",
       "      <td>-20.257730</td>\n",
       "      <td>107045.983874</td>\n",
       "      <td>100000.000179</td>\n",
       "    </tr>\n",
       "    <tr>\n",
       "      <th>100000</th>\n",
       "      <td>1.000000e-02</td>\n",
       "      <td>2.684625</td>\n",
       "      <td>0.752278</td>\n",
       "      <td>1000.730889</td>\n",
       "      <td>0.204808</td>\n",
       "      <td>-20.258231</td>\n",
       "      <td>107045.926699</td>\n",
       "      <td>100000.000214</td>\n",
       "    </tr>\n",
       "    <tr>\n",
       "      <th>100001</th>\n",
       "      <td>1.000010e-02</td>\n",
       "      <td>2.684625</td>\n",
       "      <td>0.773930</td>\n",
       "      <td>1000.730889</td>\n",
       "      <td>0.210702</td>\n",
       "      <td>-20.258732</td>\n",
       "      <td>107045.868313</td>\n",
       "      <td>100000.000242</td>\n",
       "    </tr>\n",
       "  </tbody>\n",
       "</table>\n",
       "<p>100002 rows × 8 columns</p>\n",
       "</div>"
      ]
     },
     "execution_count": 7,
     "metadata": {},
     "output_type": "execute_result"
    }
   ],
   "source": [
    "state_trajectory_pd"
   ]
  }
 ],
 "metadata": {
  "kernelspec": {
   "display_name": "acm-env",
   "language": "python",
   "name": "python3"
  },
  "language_info": {
   "codemirror_mode": {
    "name": "ipython",
    "version": 3
   },
   "file_extension": ".py",
   "mimetype": "text/x-python",
   "name": "python",
   "nbconvert_exporter": "python",
   "pygments_lexer": "ipython3",
   "version": "3.11.8"
  }
 },
 "nbformat": 4,
 "nbformat_minor": 2
}
